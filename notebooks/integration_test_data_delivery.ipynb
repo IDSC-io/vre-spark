{
 "cells": [
  {
   "cell_type": "markdown",
   "source": [
    "# Integration test of delivered data"
   ],
   "metadata": {
    "collapsed": false,
    "pycharm": {
     "name": "#%% md\n"
    }
   }
  },
  {
   "cell_type": "code",
   "execution_count": 2,
   "outputs": [],
   "source": [
    "import os\n",
    "\n",
    "first_time = True\n",
    "if first_time:\n",
    "    os.chdir(\"..\")\n",
    "    first_time = False"
   ],
   "metadata": {
    "collapsed": false,
    "pycharm": {
     "name": "#%%\n"
    }
   }
  },
  {
   "cell_type": "code",
   "execution_count": 20,
   "outputs": [
    {
     "data": {
      "text/plain": "     Patient ID  Birth date  Gender          Type\n0        306908  1929-05-20    male  Risk Patient\n1       1366351  1943-09-21  female  Risk Patient\n2       1259776  1980-01-01    male  Risk Patient\n3        646369  1949-09-01  female  Risk Patient\n4         18996  1980-03-10  female  Risk Patient\n..          ...         ...     ...           ...\n526    15541274  1961-07-29    male  Risk Patient\n527    15557375  1959-02-28    male  Risk Patient\n528    15566307  1946-07-01  female  Risk Patient\n529    15581985  1939-01-17    male  Risk Patient\n530    15759890  1970-10-03  female  Risk Patient\n\n[531 rows x 4 columns]",
      "text/html": "<div>\n<style scoped>\n    .dataframe tbody tr th:only-of-type {\n        vertical-align: middle;\n    }\n\n    .dataframe tbody tr th {\n        vertical-align: top;\n    }\n\n    .dataframe thead th {\n        text-align: right;\n    }\n</style>\n<table border=\"1\" class=\"dataframe\">\n  <thead>\n    <tr style=\"text-align: right;\">\n      <th></th>\n      <th>Patient ID</th>\n      <th>Birth date</th>\n      <th>Gender</th>\n      <th>Type</th>\n    </tr>\n  </thead>\n  <tbody>\n    <tr>\n      <th>0</th>\n      <td>306908</td>\n      <td>1929-05-20</td>\n      <td>male</td>\n      <td>Risk Patient</td>\n    </tr>\n    <tr>\n      <th>1</th>\n      <td>1366351</td>\n      <td>1943-09-21</td>\n      <td>female</td>\n      <td>Risk Patient</td>\n    </tr>\n    <tr>\n      <th>2</th>\n      <td>1259776</td>\n      <td>1980-01-01</td>\n      <td>male</td>\n      <td>Risk Patient</td>\n    </tr>\n    <tr>\n      <th>3</th>\n      <td>646369</td>\n      <td>1949-09-01</td>\n      <td>female</td>\n      <td>Risk Patient</td>\n    </tr>\n    <tr>\n      <th>4</th>\n      <td>18996</td>\n      <td>1980-03-10</td>\n      <td>female</td>\n      <td>Risk Patient</td>\n    </tr>\n    <tr>\n      <th>...</th>\n      <td>...</td>\n      <td>...</td>\n      <td>...</td>\n      <td>...</td>\n    </tr>\n    <tr>\n      <th>526</th>\n      <td>15541274</td>\n      <td>1961-07-29</td>\n      <td>male</td>\n      <td>Risk Patient</td>\n    </tr>\n    <tr>\n      <th>527</th>\n      <td>15557375</td>\n      <td>1959-02-28</td>\n      <td>male</td>\n      <td>Risk Patient</td>\n    </tr>\n    <tr>\n      <th>528</th>\n      <td>15566307</td>\n      <td>1946-07-01</td>\n      <td>female</td>\n      <td>Risk Patient</td>\n    </tr>\n    <tr>\n      <th>529</th>\n      <td>15581985</td>\n      <td>1939-01-17</td>\n      <td>male</td>\n      <td>Risk Patient</td>\n    </tr>\n    <tr>\n      <th>530</th>\n      <td>15759890</td>\n      <td>1970-10-03</td>\n      <td>female</td>\n      <td>Risk Patient</td>\n    </tr>\n  </tbody>\n</table>\n<p>531 rows × 4 columns</p>\n</div>"
     },
     "execution_count": 20,
     "metadata": {},
     "output_type": "execute_result"
    }
   ],
   "source": [
    "import pandas as pd\n",
    "\n",
    "base_path = \"./data/processed/delivery/stats/\"\n",
    "\n",
    "risk_patients_df = pd.read_csv(base_path + \"20201117121038_risk_patient_general.csv\", index_col=0)\n",
    "risk_patients_df[\"Type\"] = \"Risk Patient\"\n",
    "\n",
    "risk_patients_df"
   ],
   "metadata": {
    "collapsed": false,
    "pycharm": {
     "name": "#%%\n"
    }
   }
  },
  {
   "cell_type": "code",
   "execution_count": 21,
   "outputs": [
    {
     "data": {
      "text/plain": "        Patient ID  Birth date  Gender               Type\n0              167  1972-10-12    male  Remaining Patient\n1              353  1978-12-11    male  Remaining Patient\n2              507  1971-12-31  female  Remaining Patient\n3              647  1980-01-08    male  Remaining Patient\n4              663  1978-06-30  female  Remaining Patient\n...            ...         ...     ...                ...\n163262    15950824  1932-01-30    male  Remaining Patient\n163263    15950840  1940-01-02    male  Remaining Patient\n163264    15951111  1966-06-06    male  Remaining Patient\n163265    15951138  1975-08-23    male  Remaining Patient\n163266    15951146  1975-08-23    male  Remaining Patient\n\n[163267 rows x 4 columns]",
      "text/html": "<div>\n<style scoped>\n    .dataframe tbody tr th:only-of-type {\n        vertical-align: middle;\n    }\n\n    .dataframe tbody tr th {\n        vertical-align: top;\n    }\n\n    .dataframe thead th {\n        text-align: right;\n    }\n</style>\n<table border=\"1\" class=\"dataframe\">\n  <thead>\n    <tr style=\"text-align: right;\">\n      <th></th>\n      <th>Patient ID</th>\n      <th>Birth date</th>\n      <th>Gender</th>\n      <th>Type</th>\n    </tr>\n  </thead>\n  <tbody>\n    <tr>\n      <th>0</th>\n      <td>167</td>\n      <td>1972-10-12</td>\n      <td>male</td>\n      <td>Remaining Patient</td>\n    </tr>\n    <tr>\n      <th>1</th>\n      <td>353</td>\n      <td>1978-12-11</td>\n      <td>male</td>\n      <td>Remaining Patient</td>\n    </tr>\n    <tr>\n      <th>2</th>\n      <td>507</td>\n      <td>1971-12-31</td>\n      <td>female</td>\n      <td>Remaining Patient</td>\n    </tr>\n    <tr>\n      <th>3</th>\n      <td>647</td>\n      <td>1980-01-08</td>\n      <td>male</td>\n      <td>Remaining Patient</td>\n    </tr>\n    <tr>\n      <th>4</th>\n      <td>663</td>\n      <td>1978-06-30</td>\n      <td>female</td>\n      <td>Remaining Patient</td>\n    </tr>\n    <tr>\n      <th>...</th>\n      <td>...</td>\n      <td>...</td>\n      <td>...</td>\n      <td>...</td>\n    </tr>\n    <tr>\n      <th>163262</th>\n      <td>15950824</td>\n      <td>1932-01-30</td>\n      <td>male</td>\n      <td>Remaining Patient</td>\n    </tr>\n    <tr>\n      <th>163263</th>\n      <td>15950840</td>\n      <td>1940-01-02</td>\n      <td>male</td>\n      <td>Remaining Patient</td>\n    </tr>\n    <tr>\n      <th>163264</th>\n      <td>15951111</td>\n      <td>1966-06-06</td>\n      <td>male</td>\n      <td>Remaining Patient</td>\n    </tr>\n    <tr>\n      <th>163265</th>\n      <td>15951138</td>\n      <td>1975-08-23</td>\n      <td>male</td>\n      <td>Remaining Patient</td>\n    </tr>\n    <tr>\n      <th>163266</th>\n      <td>15951146</td>\n      <td>1975-08-23</td>\n      <td>male</td>\n      <td>Remaining Patient</td>\n    </tr>\n  </tbody>\n</table>\n<p>163267 rows × 4 columns</p>\n</div>"
     },
     "execution_count": 21,
     "metadata": {},
     "output_type": "execute_result"
    }
   ],
   "source": [
    "remaining_patients_df = pd.read_csv(base_path + \"20201117121038_remaining_patient_general.csv\", index_col=0)\n",
    "remaining_patients_df[\"Type\"] = \"Remaining Patient\"\n",
    "\n",
    "remaining_patients_df"
   ],
   "metadata": {
    "collapsed": false,
    "pycharm": {
     "name": "#%%\n"
    }
   }
  },
  {
   "cell_type": "code",
   "execution_count": 22,
   "outputs": [
    {
     "data": {
      "text/plain": "            Birth date  Gender               Type\nPatient ID                                       \n306908      1929-05-20    male       Risk Patient\n1366351     1943-09-21  female       Risk Patient\n1259776     1980-01-01    male       Risk Patient\n646369      1949-09-01  female       Risk Patient\n18996       1980-03-10  female       Risk Patient\n...                ...     ...                ...\n15950824    1932-01-30    male  Remaining Patient\n15950840    1940-01-02    male  Remaining Patient\n15951111    1966-06-06    male  Remaining Patient\n15951138    1975-08-23    male  Remaining Patient\n15951146    1975-08-23    male  Remaining Patient\n\n[163798 rows x 3 columns]",
      "text/html": "<div>\n<style scoped>\n    .dataframe tbody tr th:only-of-type {\n        vertical-align: middle;\n    }\n\n    .dataframe tbody tr th {\n        vertical-align: top;\n    }\n\n    .dataframe thead th {\n        text-align: right;\n    }\n</style>\n<table border=\"1\" class=\"dataframe\">\n  <thead>\n    <tr style=\"text-align: right;\">\n      <th></th>\n      <th>Birth date</th>\n      <th>Gender</th>\n      <th>Type</th>\n    </tr>\n    <tr>\n      <th>Patient ID</th>\n      <th></th>\n      <th></th>\n      <th></th>\n    </tr>\n  </thead>\n  <tbody>\n    <tr>\n      <th>306908</th>\n      <td>1929-05-20</td>\n      <td>male</td>\n      <td>Risk Patient</td>\n    </tr>\n    <tr>\n      <th>1366351</th>\n      <td>1943-09-21</td>\n      <td>female</td>\n      <td>Risk Patient</td>\n    </tr>\n    <tr>\n      <th>1259776</th>\n      <td>1980-01-01</td>\n      <td>male</td>\n      <td>Risk Patient</td>\n    </tr>\n    <tr>\n      <th>646369</th>\n      <td>1949-09-01</td>\n      <td>female</td>\n      <td>Risk Patient</td>\n    </tr>\n    <tr>\n      <th>18996</th>\n      <td>1980-03-10</td>\n      <td>female</td>\n      <td>Risk Patient</td>\n    </tr>\n    <tr>\n      <th>...</th>\n      <td>...</td>\n      <td>...</td>\n      <td>...</td>\n    </tr>\n    <tr>\n      <th>15950824</th>\n      <td>1932-01-30</td>\n      <td>male</td>\n      <td>Remaining Patient</td>\n    </tr>\n    <tr>\n      <th>15950840</th>\n      <td>1940-01-02</td>\n      <td>male</td>\n      <td>Remaining Patient</td>\n    </tr>\n    <tr>\n      <th>15951111</th>\n      <td>1966-06-06</td>\n      <td>male</td>\n      <td>Remaining Patient</td>\n    </tr>\n    <tr>\n      <th>15951138</th>\n      <td>1975-08-23</td>\n      <td>male</td>\n      <td>Remaining Patient</td>\n    </tr>\n    <tr>\n      <th>15951146</th>\n      <td>1975-08-23</td>\n      <td>male</td>\n      <td>Remaining Patient</td>\n    </tr>\n  </tbody>\n</table>\n<p>163798 rows × 3 columns</p>\n</div>"
     },
     "execution_count": 22,
     "metadata": {},
     "output_type": "execute_result"
    }
   ],
   "source": [
    "patients_df = pd.concat([risk_patients_df, remaining_patients_df])\n",
    "\n",
    "patients_df = patients_df.set_index(\"Patient ID\")\n",
    "\n",
    "patients_df"
   ],
   "metadata": {
    "collapsed": false,
    "pycharm": {
     "name": "#%%\n"
    }
   }
  },
  {
   "cell_type": "code",
   "execution_count": 30,
   "outputs": [
    {
     "data": {
      "text/plain": "         Patient SID  Patient 0ID  Patient ID  charlson_unweighted  \\\nCase ID                                                              \n1245158       564128      9183140     9183140                    5   \n1467038       470522      2982692     2982692                    0   \n1951441       647404      1123289     1123289                    0   \n1978729       771444     10254935    10254935                    0   \n1982643       653839       910538      910538                    1   \n...              ...          ...         ...                  ...   \n4918135      1106543     14281813    14281813                    0   \n4918163       413002      4264770     4264770                    0   \n4918187      1060833     14252708    14252708                    1   \n4918200       263760      3735990     3735990                    2   \n4918209      1106550     14281880    14281880                    2   \n\n         charlson_unweighted_assign0  charlson_weighted  \\\nCase ID                                                   \n1245158                            4                  8   \n1467038                            0                  0   \n1951441                            0                  0   \n1978729                            0                  0   \n1982643                            1                  1   \n...                              ...                ...   \n4918135                            0                  0   \n4918163                            0                  0   \n4918187                            1                  1   \n4918200                            2                  4   \n4918209                            2                  2   \n\n         charlson_weighted_assign0  charlson_age_adjustment  \\\nCase ID                                                       \n1245158                          7                        1   \n1467038                          0                        0   \n1951441                          0                        0   \n1978729                          0                        3   \n1982643                          1                        2   \n...                            ...                      ...   \n4918135                          0                        0   \n4918163                          0                        4   \n4918187                          1                        0   \n4918200                          4                        3   \n4918209                          2                        2   \n\n         elixhauser_unweighted  elixhauser_unweighted_assign0  \\\nCase ID                                                         \n1245158                      8                              8   \n1467038                      1                              1   \n1951441                      1                              1   \n1978729                      1                              1   \n1982643                      2                              2   \n...                        ...                            ...   \n4918135                      1                              1   \n4918163                      2                              2   \n4918187                      4                              4   \n4918200                      4                              4   \n4918209                      2                              2   \n\n         elixhauser_van_walraven  elixhauser_van_walraven_assign0  \nCase ID                                                            \n1245158                       25                               25  \n1467038                        6                                6  \n1951441                        5                                5  \n1978729                        5                                5  \n1982643                        3                                3  \n...                          ...                              ...  \n4918135                       -3                               -3  \n4918163                        5                                5  \n4918187                        6                                6  \n4918200                        2                                2  \n4918209                       12                               12  \n\n[210105 rows x 12 columns]",
      "text/html": "<div>\n<style scoped>\n    .dataframe tbody tr th:only-of-type {\n        vertical-align: middle;\n    }\n\n    .dataframe tbody tr th {\n        vertical-align: top;\n    }\n\n    .dataframe thead th {\n        text-align: right;\n    }\n</style>\n<table border=\"1\" class=\"dataframe\">\n  <thead>\n    <tr style=\"text-align: right;\">\n      <th></th>\n      <th>Patient SID</th>\n      <th>Patient 0ID</th>\n      <th>Patient ID</th>\n      <th>charlson_unweighted</th>\n      <th>charlson_unweighted_assign0</th>\n      <th>charlson_weighted</th>\n      <th>charlson_weighted_assign0</th>\n      <th>charlson_age_adjustment</th>\n      <th>elixhauser_unweighted</th>\n      <th>elixhauser_unweighted_assign0</th>\n      <th>elixhauser_van_walraven</th>\n      <th>elixhauser_van_walraven_assign0</th>\n    </tr>\n    <tr>\n      <th>Case ID</th>\n      <th></th>\n      <th></th>\n      <th></th>\n      <th></th>\n      <th></th>\n      <th></th>\n      <th></th>\n      <th></th>\n      <th></th>\n      <th></th>\n      <th></th>\n      <th></th>\n    </tr>\n  </thead>\n  <tbody>\n    <tr>\n      <th>1245158</th>\n      <td>564128</td>\n      <td>9183140</td>\n      <td>9183140</td>\n      <td>5</td>\n      <td>4</td>\n      <td>8</td>\n      <td>7</td>\n      <td>1</td>\n      <td>8</td>\n      <td>8</td>\n      <td>25</td>\n      <td>25</td>\n    </tr>\n    <tr>\n      <th>1467038</th>\n      <td>470522</td>\n      <td>2982692</td>\n      <td>2982692</td>\n      <td>0</td>\n      <td>0</td>\n      <td>0</td>\n      <td>0</td>\n      <td>0</td>\n      <td>1</td>\n      <td>1</td>\n      <td>6</td>\n      <td>6</td>\n    </tr>\n    <tr>\n      <th>1951441</th>\n      <td>647404</td>\n      <td>1123289</td>\n      <td>1123289</td>\n      <td>0</td>\n      <td>0</td>\n      <td>0</td>\n      <td>0</td>\n      <td>0</td>\n      <td>1</td>\n      <td>1</td>\n      <td>5</td>\n      <td>5</td>\n    </tr>\n    <tr>\n      <th>1978729</th>\n      <td>771444</td>\n      <td>10254935</td>\n      <td>10254935</td>\n      <td>0</td>\n      <td>0</td>\n      <td>0</td>\n      <td>0</td>\n      <td>3</td>\n      <td>1</td>\n      <td>1</td>\n      <td>5</td>\n      <td>5</td>\n    </tr>\n    <tr>\n      <th>1982643</th>\n      <td>653839</td>\n      <td>910538</td>\n      <td>910538</td>\n      <td>1</td>\n      <td>1</td>\n      <td>1</td>\n      <td>1</td>\n      <td>2</td>\n      <td>2</td>\n      <td>2</td>\n      <td>3</td>\n      <td>3</td>\n    </tr>\n    <tr>\n      <th>...</th>\n      <td>...</td>\n      <td>...</td>\n      <td>...</td>\n      <td>...</td>\n      <td>...</td>\n      <td>...</td>\n      <td>...</td>\n      <td>...</td>\n      <td>...</td>\n      <td>...</td>\n      <td>...</td>\n      <td>...</td>\n    </tr>\n    <tr>\n      <th>4918135</th>\n      <td>1106543</td>\n      <td>14281813</td>\n      <td>14281813</td>\n      <td>0</td>\n      <td>0</td>\n      <td>0</td>\n      <td>0</td>\n      <td>0</td>\n      <td>1</td>\n      <td>1</td>\n      <td>-3</td>\n      <td>-3</td>\n    </tr>\n    <tr>\n      <th>4918163</th>\n      <td>413002</td>\n      <td>4264770</td>\n      <td>4264770</td>\n      <td>0</td>\n      <td>0</td>\n      <td>0</td>\n      <td>0</td>\n      <td>4</td>\n      <td>2</td>\n      <td>2</td>\n      <td>5</td>\n      <td>5</td>\n    </tr>\n    <tr>\n      <th>4918187</th>\n      <td>1060833</td>\n      <td>14252708</td>\n      <td>14252708</td>\n      <td>1</td>\n      <td>1</td>\n      <td>1</td>\n      <td>1</td>\n      <td>0</td>\n      <td>4</td>\n      <td>4</td>\n      <td>6</td>\n      <td>6</td>\n    </tr>\n    <tr>\n      <th>4918200</th>\n      <td>263760</td>\n      <td>3735990</td>\n      <td>3735990</td>\n      <td>2</td>\n      <td>2</td>\n      <td>4</td>\n      <td>4</td>\n      <td>3</td>\n      <td>4</td>\n      <td>4</td>\n      <td>2</td>\n      <td>2</td>\n    </tr>\n    <tr>\n      <th>4918209</th>\n      <td>1106550</td>\n      <td>14281880</td>\n      <td>14281880</td>\n      <td>2</td>\n      <td>2</td>\n      <td>2</td>\n      <td>2</td>\n      <td>2</td>\n      <td>2</td>\n      <td>2</td>\n      <td>12</td>\n      <td>12</td>\n    </tr>\n  </tbody>\n</table>\n<p>210105 rows × 12 columns</p>\n</div>"
     },
     "execution_count": 30,
     "metadata": {},
     "output_type": "execute_result"
    }
   ],
   "source": [
    "charlson_scores_df = pd.read_csv(base_path + \"20201216125100_patient_case_charlson_scores.csv\")\n",
    "charlson_scores_df.rename(columns={\"dim_patient_sid\":\"Patient SID\", \"dim_patient_bk\": \"Patient 0ID\", \"dim_patient_pid_int\":\"Patient ID\", \"dim_fall_sid\": \"Case ID\"}, inplace=True)\n",
    "\n",
    "charlson_scores_df = charlson_scores_df.set_index(\"Case ID\")\n",
    "\n",
    "charlson_scores_df"
   ],
   "metadata": {
    "collapsed": false,
    "pycharm": {
     "name": "#%%\n"
    }
   }
  },
  {
   "cell_type": "code",
   "execution_count": 31,
   "outputs": [
    {
     "data": {
      "text/plain": "         Patient SID  Patient 0ID  Patient ID  charlson_unweighted  \\\nCase ID                                                              \n1245158       564128      9183140     9183140                    5   \n1467038       470522      2982692     2982692                    0   \n1951441       647404      1123289     1123289                    0   \n1978729       771444     10254935    10254935                    0   \n1982643       653839       910538      910538                    1   \n...              ...          ...         ...                  ...   \n4918135      1106543     14281813    14281813                    0   \n4918163       413002      4264770     4264770                    0   \n4918187      1060833     14252708    14252708                    1   \n4918200       263760      3735990     3735990                    2   \n4918209      1106550     14281880    14281880                    2   \n\n         charlson_unweighted_assign0  charlson_weighted  \\\nCase ID                                                   \n1245158                            4                  8   \n1467038                            0                  0   \n1951441                            0                  0   \n1978729                            0                  0   \n1982643                            1                  1   \n...                              ...                ...   \n4918135                            0                  0   \n4918163                            0                  0   \n4918187                            1                  1   \n4918200                            2                  4   \n4918209                            2                  2   \n\n         charlson_weighted_assign0  charlson_age_adjustment  \\\nCase ID                                                       \n1245158                          7                        1   \n1467038                          0                        0   \n1951441                          0                        0   \n1978729                          0                        3   \n1982643                          1                        2   \n...                            ...                      ...   \n4918135                          0                        0   \n4918163                          0                        4   \n4918187                          1                        0   \n4918200                          4                        3   \n4918209                          2                        2   \n\n         elixhauser_unweighted  elixhauser_unweighted_assign0  \\\nCase ID                                                         \n1245158                      8                              8   \n1467038                      1                              1   \n1951441                      1                              1   \n1978729                      1                              1   \n1982643                      2                              2   \n...                        ...                            ...   \n4918135                      1                              1   \n4918163                      2                              2   \n4918187                      4                              4   \n4918200                      4                              4   \n4918209                      2                              2   \n\n         elixhauser_van_walraven  elixhauser_van_walraven_assign0  Birth date  \\\nCase ID                                                                         \n1245158                       25                               25  1947-07-28   \n1467038                        6                                6  1995-11-10   \n1951441                        5                                5  1994-08-13   \n1978729                        5                                5  1938-10-08   \n1982643                        3                                3  1948-09-09   \n...                          ...                              ...         ...   \n4918135                       -3                               -3  1982-09-17   \n4918163                        5                                5  1936-09-25   \n4918187                        6                                6  1971-08-19   \n4918200                        2                                2  1947-02-08   \n4918209                       12                               12  1948-12-05   \n\n         Gender               Type  \nCase ID                             \n1245158    male  Remaining Patient  \n1467038  female  Remaining Patient  \n1951441    male  Remaining Patient  \n1978729  female  Remaining Patient  \n1982643    male  Remaining Patient  \n...         ...                ...  \n4918135    male  Remaining Patient  \n4918163    male  Remaining Patient  \n4918187    male  Remaining Patient  \n4918200    male  Remaining Patient  \n4918209    male  Remaining Patient  \n\n[210105 rows x 15 columns]",
      "text/html": "<div>\n<style scoped>\n    .dataframe tbody tr th:only-of-type {\n        vertical-align: middle;\n    }\n\n    .dataframe tbody tr th {\n        vertical-align: top;\n    }\n\n    .dataframe thead th {\n        text-align: right;\n    }\n</style>\n<table border=\"1\" class=\"dataframe\">\n  <thead>\n    <tr style=\"text-align: right;\">\n      <th></th>\n      <th>Patient SID</th>\n      <th>Patient 0ID</th>\n      <th>Patient ID</th>\n      <th>charlson_unweighted</th>\n      <th>charlson_unweighted_assign0</th>\n      <th>charlson_weighted</th>\n      <th>charlson_weighted_assign0</th>\n      <th>charlson_age_adjustment</th>\n      <th>elixhauser_unweighted</th>\n      <th>elixhauser_unweighted_assign0</th>\n      <th>elixhauser_van_walraven</th>\n      <th>elixhauser_van_walraven_assign0</th>\n      <th>Birth date</th>\n      <th>Gender</th>\n      <th>Type</th>\n    </tr>\n    <tr>\n      <th>Case ID</th>\n      <th></th>\n      <th></th>\n      <th></th>\n      <th></th>\n      <th></th>\n      <th></th>\n      <th></th>\n      <th></th>\n      <th></th>\n      <th></th>\n      <th></th>\n      <th></th>\n      <th></th>\n      <th></th>\n      <th></th>\n    </tr>\n  </thead>\n  <tbody>\n    <tr>\n      <th>1245158</th>\n      <td>564128</td>\n      <td>9183140</td>\n      <td>9183140</td>\n      <td>5</td>\n      <td>4</td>\n      <td>8</td>\n      <td>7</td>\n      <td>1</td>\n      <td>8</td>\n      <td>8</td>\n      <td>25</td>\n      <td>25</td>\n      <td>1947-07-28</td>\n      <td>male</td>\n      <td>Remaining Patient</td>\n    </tr>\n    <tr>\n      <th>1467038</th>\n      <td>470522</td>\n      <td>2982692</td>\n      <td>2982692</td>\n      <td>0</td>\n      <td>0</td>\n      <td>0</td>\n      <td>0</td>\n      <td>0</td>\n      <td>1</td>\n      <td>1</td>\n      <td>6</td>\n      <td>6</td>\n      <td>1995-11-10</td>\n      <td>female</td>\n      <td>Remaining Patient</td>\n    </tr>\n    <tr>\n      <th>1951441</th>\n      <td>647404</td>\n      <td>1123289</td>\n      <td>1123289</td>\n      <td>0</td>\n      <td>0</td>\n      <td>0</td>\n      <td>0</td>\n      <td>0</td>\n      <td>1</td>\n      <td>1</td>\n      <td>5</td>\n      <td>5</td>\n      <td>1994-08-13</td>\n      <td>male</td>\n      <td>Remaining Patient</td>\n    </tr>\n    <tr>\n      <th>1978729</th>\n      <td>771444</td>\n      <td>10254935</td>\n      <td>10254935</td>\n      <td>0</td>\n      <td>0</td>\n      <td>0</td>\n      <td>0</td>\n      <td>3</td>\n      <td>1</td>\n      <td>1</td>\n      <td>5</td>\n      <td>5</td>\n      <td>1938-10-08</td>\n      <td>female</td>\n      <td>Remaining Patient</td>\n    </tr>\n    <tr>\n      <th>1982643</th>\n      <td>653839</td>\n      <td>910538</td>\n      <td>910538</td>\n      <td>1</td>\n      <td>1</td>\n      <td>1</td>\n      <td>1</td>\n      <td>2</td>\n      <td>2</td>\n      <td>2</td>\n      <td>3</td>\n      <td>3</td>\n      <td>1948-09-09</td>\n      <td>male</td>\n      <td>Remaining Patient</td>\n    </tr>\n    <tr>\n      <th>...</th>\n      <td>...</td>\n      <td>...</td>\n      <td>...</td>\n      <td>...</td>\n      <td>...</td>\n      <td>...</td>\n      <td>...</td>\n      <td>...</td>\n      <td>...</td>\n      <td>...</td>\n      <td>...</td>\n      <td>...</td>\n      <td>...</td>\n      <td>...</td>\n      <td>...</td>\n    </tr>\n    <tr>\n      <th>4918135</th>\n      <td>1106543</td>\n      <td>14281813</td>\n      <td>14281813</td>\n      <td>0</td>\n      <td>0</td>\n      <td>0</td>\n      <td>0</td>\n      <td>0</td>\n      <td>1</td>\n      <td>1</td>\n      <td>-3</td>\n      <td>-3</td>\n      <td>1982-09-17</td>\n      <td>male</td>\n      <td>Remaining Patient</td>\n    </tr>\n    <tr>\n      <th>4918163</th>\n      <td>413002</td>\n      <td>4264770</td>\n      <td>4264770</td>\n      <td>0</td>\n      <td>0</td>\n      <td>0</td>\n      <td>0</td>\n      <td>4</td>\n      <td>2</td>\n      <td>2</td>\n      <td>5</td>\n      <td>5</td>\n      <td>1936-09-25</td>\n      <td>male</td>\n      <td>Remaining Patient</td>\n    </tr>\n    <tr>\n      <th>4918187</th>\n      <td>1060833</td>\n      <td>14252708</td>\n      <td>14252708</td>\n      <td>1</td>\n      <td>1</td>\n      <td>1</td>\n      <td>1</td>\n      <td>0</td>\n      <td>4</td>\n      <td>4</td>\n      <td>6</td>\n      <td>6</td>\n      <td>1971-08-19</td>\n      <td>male</td>\n      <td>Remaining Patient</td>\n    </tr>\n    <tr>\n      <th>4918200</th>\n      <td>263760</td>\n      <td>3735990</td>\n      <td>3735990</td>\n      <td>2</td>\n      <td>2</td>\n      <td>4</td>\n      <td>4</td>\n      <td>3</td>\n      <td>4</td>\n      <td>4</td>\n      <td>2</td>\n      <td>2</td>\n      <td>1947-02-08</td>\n      <td>male</td>\n      <td>Remaining Patient</td>\n    </tr>\n    <tr>\n      <th>4918209</th>\n      <td>1106550</td>\n      <td>14281880</td>\n      <td>14281880</td>\n      <td>2</td>\n      <td>2</td>\n      <td>2</td>\n      <td>2</td>\n      <td>2</td>\n      <td>2</td>\n      <td>2</td>\n      <td>12</td>\n      <td>12</td>\n      <td>1948-12-05</td>\n      <td>male</td>\n      <td>Remaining Patient</td>\n    </tr>\n  </tbody>\n</table>\n<p>210105 rows × 15 columns</p>\n</div>"
     },
     "execution_count": 31,
     "metadata": {},
     "output_type": "execute_result"
    }
   ],
   "source": [
    "charlson_scores_df.join(patients_df, on=\"Patient ID\")"
   ],
   "metadata": {
    "collapsed": false,
    "pycharm": {
     "name": "#%%\n"
    }
   }
  },
  {
   "cell_type": "code",
   "execution_count": null,
   "outputs": [],
   "source": [
    "\n"
   ],
   "metadata": {
    "collapsed": false,
    "pycharm": {
     "name": "#%%\n"
    }
   }
  }
 ],
 "metadata": {
  "kernelspec": {
   "display_name": "Python 3",
   "language": "python",
   "name": "python3"
  },
  "language_info": {
   "codemirror_mode": {
    "name": "ipython",
    "version": 2
   },
   "file_extension": ".py",
   "mimetype": "text/x-python",
   "name": "python",
   "nbconvert_exporter": "python",
   "pygments_lexer": "ipython2",
   "version": "2.7.6"
  }
 },
 "nbformat": 4,
 "nbformat_minor": 0
}