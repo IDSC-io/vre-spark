{
 "cells": [
  {
   "cell_type": "markdown",
   "metadata": {
    "pycharm": {
     "name": "#%% md\n"
    }
   },
   "source": [
    "# Integration test of delivered data"
   ]
  },
  {
   "cell_type": "code",
   "execution_count": null,
   "metadata": {
    "pycharm": {
     "name": "#%%\n"
    }
   },
   "outputs": [],
   "source": [
    "import os\n",
    "\n",
    "first_time = True\n",
    "if first_time:\n",
    "    os.chdir(\"..\")\n",
    "    first_time = False"
   ]
  },
  {
   "cell_type": "code",
   "execution_count": null,
   "metadata": {
    "pycharm": {
     "name": "#%%\n"
    }
   },
   "outputs": [],
   "source": [
    "import pandas as pd\n",
    "\n",
    "base_path = \"./data/processed/delivery/stats/\"\n",
    "\n",
    "risk_patients_df = pd.read_csv(base_path + \"20201117121038_risk_patient_general.csv\", index_col=0)\n",
    "risk_patients_df[\"Type\"] = \"Risk Patient\"\n",
    "\n",
    "risk_patients_df"
   ]
  },
  {
   "cell_type": "code",
   "execution_count": null,
   "metadata": {
    "pycharm": {
     "name": "#%%\n"
    }
   },
   "outputs": [],
   "source": [
    "remaining_patients_df = pd.read_csv(base_path + \"20201117121038_remaining_patient_general.csv\", index_col=0)\n",
    "remaining_patients_df[\"Type\"] = \"Remaining Patient\"\n",
    "\n",
    "remaining_patients_df"
   ]
  },
  {
   "cell_type": "code",
   "execution_count": null,
   "metadata": {
    "pycharm": {
     "name": "#%%\n"
    }
   },
   "outputs": [],
   "source": [
    "patients_df = pd.concat([risk_patients_df, remaining_patients_df])\n",
    "\n",
    "patients_df = patients_df.set_index(\"Patient ID\")\n",
    "\n",
    "patients_df"
   ]
  },
  {
   "cell_type": "code",
   "execution_count": null,
   "metadata": {
    "pycharm": {
     "name": "#%%\n"
    }
   },
   "outputs": [],
   "source": [
    "charlson_scores_df = pd.read_csv(base_path + \"20201216125100_patient_case_charlson_scores.csv\")\n",
    "charlson_scores_df.rename(columns={\"dim_patient_sid\":\"Patient SID\", \"dim_patient_bk\": \"Patient 0ID\", \"dim_patient_pid_int\":\"Patient ID\", \"dim_fall_sid\": \"Case ID\"}, inplace=True)\n",
    "\n",
    "charlson_scores_df = charlson_scores_df.set_index(\"Case ID\")\n",
    "\n",
    "charlson_scores_df"
   ]
  },
  {
   "cell_type": "code",
   "execution_count": null,
   "metadata": {
    "pycharm": {
     "name": "#%%\n"
    }
   },
   "outputs": [],
   "source": [
    "patient_case_charlson_scores_df = charlson_scores_df.join(patients_df, on=\"Patient ID\", how=\"outer\")\n",
    "\n",
    "patient_case_charlson_scores_df"
   ]
  },
  {
   "cell_type": "code",
   "execution_count": null,
   "metadata": {
    "pycharm": {
     "name": "#%%\n"
    }
   },
   "outputs": [],
   "source": [
    "patient_case_charlson_scores_df.isnull().sum()"
   ]
  },
  {
   "cell_type": "code",
   "execution_count": null,
   "metadata": {
    "pycharm": {
     "name": "#%%\n"
    }
   },
   "outputs": [],
   "source": [
    "len(patients_df)"
   ]
  },
  {
   "cell_type": "code",
   "execution_count": null,
   "metadata": {
    "pycharm": {
     "name": "#%%\n"
    }
   },
   "outputs": [],
   "source": [
    "patient_case_charlson_scores_df[\"Patient ID\"].nunique()"
   ]
  },
  {
   "cell_type": "code",
   "execution_count": null,
   "metadata": {
    "pycharm": {
     "name": "#%%\n"
    }
   },
   "outputs": [],
   "source": [
    "\n"
   ]
  }
 ],
 "metadata": {
  "kernelspec": {
   "display_name": "Python 3",
   "language": "python",
   "name": "python3"
  },
  "language_info": {
   "codemirror_mode": {
    "name": "ipython",
    "version": 3
   },
   "file_extension": ".py",
   "mimetype": "text/x-python",
   "name": "python",
   "nbconvert_exporter": "python",
   "pygments_lexer": "ipython3",
   "version": "3.7.9"
  }
 },
 "nbformat": 4,
 "nbformat_minor": 1
}
