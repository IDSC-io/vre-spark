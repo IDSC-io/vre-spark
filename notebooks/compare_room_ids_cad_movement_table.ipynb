{
 "cells": [
  {
   "cell_type": "markdown",
   "metadata": {
    "collapsed": true,
    "pycharm": {
     "name": "#%% md\n"
    }
   },
   "source": [
    "# Compare room IDs extracted from cad data and the movements (NBEW) database table of the IDP\n",
    "\n"
   ]
  },
  {
   "cell_type": "code",
   "execution_count": null,
   "metadata": {
    "pycharm": {
     "name": "#%%\n"
    }
   },
   "outputs": [],
   "source": [
    "import sys\n",
    "import os\n",
    "import re\n",
    "\n",
    "import numpy as np\n",
    "import pandas as pd\n",
    "pd.set_option('display.max_rows', None)\n",
    "pd.set_option('display.max_columns', None)\n",
    "pd.set_option('display.width', 500)\n",
    "pd.set_option('display.max_colwidth', None)\n",
    "import matplotlib.pyplot as plt\n",
    "\n",
    "first_time = True\n",
    "if first_time:\n",
    "    sys.path.append('../')\n",
    "    os.chdir(\"../\")\n",
    "    first_time = False\n",
    "\n",
    "print(os.getcwd())\n"
   ]
  },
  {
   "cell_type": "markdown",
   "metadata": {
    "pycharm": {
     "name": "#%% md\n"
    }
   },
   "source": [
    "# SAP Data"
   ]
  },
  {
   "cell_type": "markdown",
   "metadata": {},
   "source": [
    "## Movement/Stay Data"
   ]
  },
  {
   "cell_type": "code",
   "execution_count": null,
   "metadata": {
    "pycharm": {
     "name": "#%%\n"
    }
   },
   "outputs": [],
   "source": [
    "base_folder = \"./data/interim/model_data/\"\n",
    "movement_df = pd.read_csv(base_folder + \"LA_ISH_NBEW.csv\", encoding=\"ISO-8859-1\")\n",
    "\n",
    "sap_nbew_rooms_df = movement_df[[\"Department\", \"Ward\", \"Room ID\"]] #, \"Bed ID\"]]\n",
    "\n",
    "sap_nbew_rooms_df = sap_nbew_rooms_df.groupby(sap_nbew_rooms_df.columns.tolist()).size().reset_index().rename(columns={0:'count'})\n",
    "# sap_nbew_rooms_df = sap_nbew_rooms_df.drop_duplicates()\n",
    "\n",
    "sap_nbew_rooms_df = sap_nbew_rooms_df.fillna(value={\"Room ID\": \"-\"})\n",
    "\n",
    "sap_nbew_rooms_df.rename(columns={\"Room ID\": \"SAP Room ID\"}, inplace=True)\n",
    "\n",
    "sap_nbew_rooms_df.sort_values(by=\"count\", ascending=False) #[sap_rooms_df[\"Room ID\"].str.contains(\"BH \")]"
   ]
  },
  {
   "cell_type": "code",
   "execution_count": null,
   "metadata": {
    "pycharm": {
     "name": "#%%\n"
    }
   },
   "outputs": [],
   "source": [
    "# The numbers before the Departments are the following:\n",
    "# array(['71', nan, '61', '62', '63', '64', '92'], dtype=object)\n",
    "\n",
    "# sap_nbew_rooms_df[\"Department\"].unique()\n",
    "\n",
    "# dep_split_df = sap_nbew_rooms_df[\"Department\"].str.extract('([0-9][0-9])?([A-Za-z]{4})', expand=True)\n",
    "# dep_split_df.columns = [\"Building ID?\", \"Department ID?\"]\n",
    "# sap_nbew_rooms_df = pd.concat([sap_nbew_rooms_df, dep_split_df], axis=1)\n",
    "# sap_nbew_rooms_df\n",
    "\n",
    "# sap_nbew_rooms_df[\"Building ID?\"].unique()"
   ]
  },
  {
   "cell_type": "code",
   "execution_count": null,
   "metadata": {},
   "outputs": [],
   "source": [
    "building_split_df = sap_nbew_rooms_df[\"SAP Room ID\"].str.extract('([A-Za-z]+[0-9]*)?\\.?[\\s]?([A-Za-z]+)?([0-9]\\.)?[\\s\\.-]?([0-9]*[A-Za-z]*)?', expand=True)\n",
    "building_split_df = pd.concat([building_split_df, sap_nbew_rooms_df[\"SAP Room ID\"]], axis=1)\n",
    "building_split_df = building_split_df[building_split_df[\"SAP Room ID\"] != \"-\"]\n",
    "building_split_df = building_split_df.sort_values(by=[\"SAP Room ID\"]).drop_duplicates()\n",
    "building_split_df.columns = [\"Building ID\", \"Floor ID\", \"Floor ID2\", \"Room ID\", \"SAP Room ID\"]\n",
    "building_split_df[\"Floor ID\"] = building_split_df['Floor ID'].combine_first(building_split_df['Floor ID2'])\n",
    "building_split_df.drop([\"Floor ID2\"], axis=1, inplace=True)\n",
    "building_split_df"
   ]
  },
  {
   "cell_type": "markdown",
   "metadata": {},
   "source": [
    "## Room Data"
   ]
  },
  {
   "cell_type": "code",
   "execution_count": null,
   "metadata": {
    "pycharm": {
     "name": "#%%\n"
    }
   },
   "outputs": [],
   "source": [
    "# NOT SURE WHAT THOSE ROOM IDS ARE (CHECK CODE)\n",
    "base_folder = \"./data/interim/model_data/\"\n",
    "sap_dim_room_df = pd.read_csv(base_folder + \"DIM_RAUM.csv\",  dtype=str, index_col=0)\n",
    "\n",
    "sap_dim_room_df = sap_dim_room_df.fillna(value={\"Room Common Name\": \"-\"})\n",
    "#sap_dim_room_df[sap_dim_room_df[\"Room Common Name\"].str.contains(\"BH\")]\n",
    "sap_dim_room_df.sort_values(by=[\"Room Common Name\"], inplace=True)\n",
    "sap_dim_room_df"
   ]
  },
  {
   "cell_type": "code",
   "execution_count": null,
   "metadata": {
    "pycharm": {
     "name": "#%%\n"
    }
   },
   "outputs": [],
   "source": [
    "# NOT SURE WHAT THOSE ROOM IDS ARE (CHECK CODE)\n",
    "base_folder = \"./data/interim/model_data/\"\n",
    "fact_appointment_room_df = pd.read_csv(base_folder + \"FAKT_TERMIN_RAUM.csv\", encoding=\"ISO-8859-1\", dtype=str)\n",
    "\n",
    "appointment_rooms = fact_appointment_room_df[[\"Room ID\", \"Room Common Name\"]]\n",
    "\n",
    "distinct_rooms = appointment_rooms.drop_duplicates()\n",
    "\n",
    "distinct_rooms = distinct_rooms.fillna(value={\"Room Common Name\": \"-\"})\n",
    "\n",
    "bh_rooms = distinct_rooms[distinct_rooms[\"Room Common Name\"].str.contains(\"BH\")]\n",
    "\n",
    "sap_fact_app_room_df = distinct_rooms.sort_values(by=\"Room Common Name\")\n",
    "\n",
    "sap_fact_app_room_df.set_index(\"Room ID\", inplace=True)\n",
    "\n",
    "sap_fact_app_room_df"
   ]
  },
  {
   "cell_type": "markdown",
   "metadata": {
    "pycharm": {
     "name": "#%%\n"
    }
   },
   "source": [
    "## Building Unit Data"
   ]
  },
  {
   "cell_type": "code",
   "execution_count": null,
   "metadata": {},
   "outputs": [],
   "source": [
    "base_folder = \"./data/raw/model_data/\"\n",
    "sap_building_unit_df = pd.read_csv(base_folder + \"LA_ISH_NBAU.csv\", dtype=str)\n",
    "# SAP klingon translation: https://www.tcodesearch.com/sap-tables/detail?id=NBAU\n",
    "sap_building_unit_df.drop([\"MANDT\", \"TELNR\", \"TELFX\", \"TELTX\", \"LOEKZ\", \"LOUSR\", \"LODAT\",\n",
    "                           \"ERDAT\", \"ERUSR\", \"UPDAT\", \"UPUSR\", \"BEGDT\", \"ENDDT\", \"FREIG\",\n",
    "                           \"TALST\", \"ADDIN\",\"XKOOR\", \"YKOOR\", \"BREIT\", \"LAENG\", \"ARCHV\",\n",
    "                           \"MIGRATED_OBJID\", \"BATCH_RUN_ID\", \"ZZBEMK\", \"ZZVERLEGUNG\", \"ZZVORHALTE\",\n",
    "                           \"ZZPRIVAT\", \"EANNR\", \"BETTST_TYP\"], axis=1, inplace=True)\n",
    "sap_building_unit_df.columns = [\"SAP Room ID\", \"Unit Type\", \"Unit Name\", \"SAP Room ID 1\", \"SAP Room ID 2\", \"Short Text\", \"Long Text\", \"Address Information\", \"Address Object\", \"Waveware Campus\", \"Waveware Building ID\", \"Waveware Floor ID\", \"Waveware Room ID\"]\n",
    "sap_building_unit_df.set_index(\"SAP Room ID\", inplace=True)\n",
    "sap_building_unit_df.loc[sap_building_unit_df[\"Unit Type\"] == \"Z\", \"Unit Type\"] = \"Room\"\n",
    "sap_building_unit_df.loc[sap_building_unit_df[\"Unit Type\"] == \"B\", \"Unit Type\"] = \"Bettstellplatz\"\n",
    "sap_building_unit_df = sap_building_unit_df[sap_building_unit_df[\"Unit Type\"] == \"Room\"]\n",
    "sap_building_unit_df"
   ]
  },
  {
   "cell_type": "code",
   "execution_count": null,
   "metadata": {},
   "outputs": [],
   "source": [
    "def extract_campi(row):\n",
    "    if pd.isna(row['Waveware Campus']):\n",
    "        if row['Unit Name'].find(\"Aarberg\") != -1:\n",
    "            row['Waveware Campus'] = 'AARB'\n",
    "        if row['Unit Name'].find(\"Riggisberg\") != -1:\n",
    "            row['Waveware Campus'] = 'RIGG'\n",
    "        if row['Unit Name'].find(\"R_\") != -1:\n",
    "            row['Waveware Campus'] = 'RIGG'\n",
    "        if row['Unit Name'].find(\"Tiefenau\") != -1:\n",
    "            row['Waveware Campus'] = 'TIEF'\n",
    "        if row['Unit Name'].find(\"Münsigen\") != -1:\n",
    "            row['Waveware Campus'] = 'MUEN'\n",
    "        if row['Unit Name'].find(\"Belp\") != -1:\n",
    "            row['Waveware Campus'] = 'BELP'\n",
    "\n",
    "    return row\n",
    "\n",
    "def extract_ids(row):\n",
    "    if row['Waveware Campus'] not in ['Aarberg', 'Riggisberg', 'Tiefenau', 'Münsigen'] and not pd.isna(row['SAP Room ID 2']):\n",
    "        if pd.isna(row[\"Waveware Room ID\"]):\n",
    "            pattern = '([A-Za-z]+[0-9]*)[\\s]+([A-Za-z]*[0-9]*)[\\.N\\s-]+([0-9]+[A-Za-z]*)'#'([A-Za-z]+[0-9]*)?\\.?[\\s]?([A-Za-z]+)?([0-9]\\.)?[\\s\\.-]?([0-9]*[A-Za-z]*)?'\n",
    "            match = re.search(pattern, row['SAP Room ID 2'])\n",
    "#             if re.search('FK\\s*D\\s*35', row['SAP Room ID 2']) is not None:\n",
    "#                 print(row['SAP Room ID 2'])\n",
    "            if match is not None:\n",
    "                # if extraction was successful, read metric df and compose tuple\n",
    "                row['Waveware Building ID'], row['Waveware Floor ID'], row['Waveware Room ID'] = match.groups()\n",
    "    return row\n",
    "\n",
    "def extract_waveware_ids(row):\n",
    "    row = extract_campi(row)\n",
    "    row = extract_ids(row)\n",
    "    \n",
    "    return pd.Series({'Waveware Campus': row['Waveware Campus'], 'Waveware Building ID': row['Waveware Building ID'], 'Waveware Floor ID': row['Waveware Floor ID'], 'Waveware Room ID': row['Waveware Room ID']})\n",
    "\n",
    "sap_building_unit_fix_df = pd.concat([sap_building_unit_df.drop([\"Waveware Campus\", \"Waveware Building ID\", \"Waveware Floor ID\", \"Waveware Room ID\"], axis=1), sap_building_unit_df.apply(extract_waveware_ids, axis=1)], axis=1)\n",
    "\n",
    "print(\"Campus:\", len(sap_building_unit_fix_df[pd.isna(sap_building_unit_fix_df[\"Waveware Campus\"])]))\n",
    "print(\"Building\", len(sap_building_unit_fix_df[pd.isna(sap_building_unit_fix_df[\"Waveware Building ID\"])]))\n",
    "print(\"Floor\", len(sap_building_unit_fix_df[pd.isna(sap_building_unit_fix_df[\"Waveware Floor ID\"])]))\n",
    "print(\"Room\", len(sap_building_unit_fix_df[pd.isna(sap_building_unit_fix_df[\"Waveware Room ID\"])]))"
   ]
  },
  {
   "cell_type": "code",
   "execution_count": null,
   "metadata": {},
   "outputs": [],
   "source": [
    "sap_building_unit_fix_df[['Unit Type', 'Unit Name', 'SAP Room ID 1', 'SAP Room ID 2', 'Waveware Campus', 'Waveware Building ID', 'Waveware Floor ID', 'Waveware Room ID']]"
   ]
  },
  {
   "cell_type": "code",
   "execution_count": null,
   "metadata": {},
   "outputs": [],
   "source": [
    "len(sap_building_unit_fix_df[sap_building_unit_fix_df[\"Waveware Campus\"] == \"ISB\"])"
   ]
  },
  {
   "cell_type": "markdown",
   "metadata": {},
   "source": [
    "## Building Data"
   ]
  },
  {
   "cell_type": "code",
   "execution_count": null,
   "metadata": {},
   "outputs": [],
   "source": [
    "base_folder = \"./data/raw/model_data/\"\n",
    "sap_building_df = pd.read_csv(base_folder + \"LA_ISH_ZHC_RB_BUILDING.csv\", dtype=str)\n",
    "sap_building_df.drop([\"MANDT\", \"ERDAT\", \"ERNAM\", \"AEDAT\", \"AENAM\", \"BATCH_RUN_ID\"], axis=1, inplace=True)\n",
    "sap_building_df.columns = [\"Waveware Campus\", \"Waveware Building ID\", \"Building Common Name\"]\n",
    "sap_building_df.set_index(\"Waveware Building ID\", inplace=True)\n",
    "sap_building_df"
   ]
  },
  {
   "cell_type": "markdown",
   "metadata": {},
   "source": [
    "## Room Data"
   ]
  },
  {
   "cell_type": "code",
   "execution_count": null,
   "metadata": {},
   "outputs": [],
   "source": [
    "base_folder = \"./data/raw/model_data/\"\n",
    "rb_room_df = pd.read_csv(base_folder + \"LA_ISH_ZHC_RB_RAUM.csv\", dtype=str)\n",
    "rb_room_df.drop([\"MANDT\", \"ERDAT\", \"ERNAM\", \"AEDAT\", \"AENAM\", \"BATCH_RUN_ID\"], axis=1, inplace=True)\n",
    "rb_room_df.columns = [\"Waveware Campus\", \"Waveware Building ID\", \"Waveware Floor ID\", \"Waveware Room ID\", \"Room Common Name\", \"Waveware Room Full ID\"]\n",
    "rb_room_df.set_index(\"Waveware Room Full ID\", inplace=True)\n",
    "rb_room_df = pd.merge(rb_room_df, sap_building_df, on=\"Waveware Building ID\")\n",
    "rb_room_df"
   ]
  },
  {
   "cell_type": "markdown",
   "metadata": {},
   "source": [
    "## Campus Data"
   ]
  },
  {
   "cell_type": "code",
   "execution_count": null,
   "metadata": {},
   "outputs": [],
   "source": [
    "base_folder = \"./data/raw/model_data/\"\n",
    "rb_campus_df = pd.read_csv(base_folder + \"LA_ISH_ZHC_RB_STANDORT.csv\", dtype=str)\n",
    "rb_campus_df.drop([\"MANDT\", \"ERDAT\", \"ERNAM\", \"AEDAT\", \"AENAM\", \"BATCH_RUN_ID\"], axis=1, inplace=True)\n",
    "rb_campus_df.columns = [\"Waveware Campus\", \"Common Name\"]\n",
    "rb_campus_df"
   ]
  },
  {
   "cell_type": "markdown",
   "metadata": {},
   "source": [
    "## Floor Data"
   ]
  },
  {
   "cell_type": "code",
   "execution_count": null,
   "metadata": {},
   "outputs": [],
   "source": [
    "base_folder = \"./data/raw/model_data/\"\n",
    "rb_floor_df = pd.read_csv(base_folder + \"LA_ISH_ZHC_RB_STOCKWERK.csv\", dtype=str)\n",
    "rb_floor_df.drop([\"MANDT\", \"ERDAT\", \"ERNAM\", \"AEDAT\", \"AENAM\", \"BATCH_RUN_ID\"], axis=1, inplace=True)\n",
    "rb_floor_df.columns = [\"Waveware Campus\", \"Waveware Building ID\", \"Waveware Floor ID\", \"Floor Common Name\"]\n",
    "rb_floor_df = pd.merge(rb_floor_df, sap_building_df, on=\"Waveware Building ID\")\n",
    "rb_floor_df"
   ]
  },
  {
   "cell_type": "markdown",
   "metadata": {
    "pycharm": {
     "name": "#%% md\n"
    }
   },
   "source": [
    "# Waveware Data"
   ]
  },
  {
   "cell_type": "markdown",
   "metadata": {},
   "source": [
    "## Room Data"
   ]
  },
  {
   "cell_type": "code",
   "execution_count": null,
   "metadata": {
    "pycharm": {
     "name": "#%%\n"
    }
   },
   "outputs": [],
   "source": [
    "base_folder = \"./data/raw/cad_data/\"\n",
    "waveware_rooms_df = pd.read_csv(base_folder + \"Auszug Flaechenmanagement IDSC (Stand 02.07.20).csv\", encoding=\"ISO-8859-1\", dtype=str)\n",
    "\n",
    "waveware_rooms_df.columns = [\"Waveware Building ID\", \"Building Common Name\", \"Waveware Floor ID\", \"Waveware Room ID\", \"Waveware Room Full ID\", \"Room Common Name\", \"Room Area\", \"PC Group ID\", \"Sub-EC(PC) Nr\", \"Profitcenter\"]\n",
    "waveware_rooms_df = waveware_rooms_df.drop([\"Room Area\", \"PC Group ID\", \"Sub-EC(PC) Nr\", \"Profitcenter\"], axis=1)\n",
    "# waveware_rooms_df.set_index(\"Waveware Room Full ID\", inplace=True)\n",
    "waveware_rooms_df"
   ]
  },
  {
   "cell_type": "markdown",
   "metadata": {},
   "source": [
    "## Building Data"
   ]
  },
  {
   "cell_type": "code",
   "execution_count": null,
   "metadata": {
    "pycharm": {
     "name": "#%%\n"
    }
   },
   "outputs": [],
   "source": [
    "base_folder = \"./data/raw/cad_data/\"\n",
    "waveware_buildings_df = pd.read_csv(base_folder + \"Auszug Gebaeudeinformation Stand 03.12.2020.csv\", encoding=\"ISO-8859-1\", dtype=str)\n",
    "\n",
    "waveware_buildings_df = waveware_buildings_df.drop([\"Standort\", \"Parzellennummer\", \"Zonenplan\", \"Denkmalpflege\", \"Anlage-ID\", \"Bemerkung\", \"Eigentümer (SAP)\", \"Vermietung (SAP)\", \"Portfolio (SAP)\", \"Baujahr\", \"Gebäudetyp\", \"GVB-Nummer\", \"Amtlicher Wert\", \"Gebäudeversicherungswert\", \"Gebäudezustand\", \"Technologiestand HLKSE\", \"Techn. Ausb.standard\", \"Zustand Technik\", \"Klimatisierung\", \"Aufzug\", \"Gebäudezustand Bem.\", \"Status\"], axis=1)\n",
    "waveware_buildings_df.columns = [\"Waveware Building Full ID\", \"Building Code\", \"Waveware Building ID\", \"Building abbreviation\", \"Building Common Name\", \"Street\", \"Zip Code\", \"Location\", \"SAP-Anlage Nr.\"]\n",
    "waveware_buildings_df.drop([\"Zip Code\", \"Location\",\"SAP-Anlage Nr.\", \"Building Code\"], axis=1, inplace=True)\n",
    "waveware_buildings_df = waveware_buildings_df[waveware_buildings_df[\"Building Common Name\"] != \"Grundstück Inselareal\"]\n",
    "\n",
    "waveware_buildings_df = waveware_buildings_df[~pd.isna(waveware_buildings_df[\"Building abbreviation\"])]\n",
    "waveware_buildings_df.sort_values(by=[\"Building abbreviation\"], inplace=True)\n",
    "# waveware_buildings_df.set_index(\"Waveware Building ID\", inplace=True)\n",
    "waveware_buildings_df"
   ]
  },
  {
   "cell_type": "markdown",
   "metadata": {},
   "source": [
    "## Location data (Open Street Map)"
   ]
  },
  {
   "cell_type": "code",
   "execution_count": null,
   "metadata": {},
   "outputs": [],
   "source": [
    "import requests\n",
    "\n",
    "def get_long_lat(street_string):\n",
    "    response = requests.get(f\"https://nominatim.openstreetmap.org/search?q={street_string.replace(' ', '+')}+Bern&format=json\")\n",
    "    types = []\n",
    "    for loc in response.json():\n",
    "        types.append(loc[\"type\"] + \": \" + loc[\"display_name\"][:15])\n",
    "        if loc[\"type\"] in [\"hospital\", \"childcare\", \"clinic\"]:\n",
    "            id_string = loc[\"type\"] + \": \" + loc[\"display_name\"][:15]\n",
    "            long_lat = (loc[\"lon\"], loc[\"lat\"])\n",
    "            return pd.Series({'Type': id_string, 'Long/Lat': long_lat})\n",
    "        \n",
    "    id_string = response.json()[0][\"type\"] + \": \" + response.json()[0][\"display_name\"][:15]\n",
    "    long_lat = (response.json()[0][\"lon\"], response.json()[0][\"lat\"])\n",
    "    return pd.Series({'Type': id_string, 'Long/Lat': long_lat})\n",
    "\n",
    "\n",
    "waveware_buildings_coords_df = pd.concat([waveware_buildings_df, waveware_buildings_df[\"Street\"].apply(lambda s: get_long_lat(s))], axis=1)\n",
    "waveware_buildings_coords_df[\"Longitude\"] = waveware_buildings_coords_df[\"Long/Lat\"].apply(lambda ll: float(ll[0]))\n",
    "waveware_buildings_coords_df[\"Latitude\"] = waveware_buildings_coords_df[\"Long/Lat\"].apply(lambda ll: float(ll[1]))\n",
    "waveware_buildings_coords_df.drop([\"Long/Lat\"], axis=1, inplace=True)\n",
    "waveware_buildings_coords_df"
   ]
  },
  {
   "cell_type": "code",
   "execution_count": null,
   "metadata": {},
   "outputs": [],
   "source": [
    "import pandas as pd\n",
    "import geopandas\n",
    "import matplotlib.pyplot as plt\n",
    "import contextily as ctx\n",
    "gdf = geopandas.GeoDataFrame(\n",
    "    waveware_buildings_coords_df, geometry=geopandas.points_from_xy(waveware_buildings_coords_df.Longitude, waveware_buildings_coords_df.Latitude))\n",
    "gdf.set_crs(epsg=4326, inplace=True)\n",
    "gdf = gdf.to_crs(epsg=3857)\n",
    "\n",
    "gdf"
   ]
  },
  {
   "cell_type": "code",
   "execution_count": null,
   "metadata": {},
   "outputs": [],
   "source": [
    "ax = gdf.plot(figsize=(16, 12), alpha=0.5, edgecolor='k', label=\"Building abbreviation\")\n",
    "ctx.add_basemap(ax, zoom=15, source=ctx.providers.CartoDB.Positron, alpha=0.5) # OpenStreetMap.Mapnik, CartoDB.Positron, CartoDB.Voyager\n",
    "# providers: https://contextily.readthedocs.io/en/latest/providers_deepdive.html\n",
    "\n",
    "gdf['coords'] = gdf['geometry'].apply(lambda x: x.representative_point().coords[:])\n",
    "gdf['coords'] = [coords[0] for coords in gdf['coords']]\n",
    "\n",
    "for idx, row in gdf.iterrows():\n",
    "    plt.annotate(s=row['Building abbreviation'], xy=row['coords'], horizontalalignment='center', verticalalignment='bottom')\n",
    "plt.show()"
   ]
  },
  {
   "cell_type": "markdown",
   "metadata": {
    "pycharm": {
     "name": "#%% md\n"
    }
   },
   "source": [
    "## CAD Data"
   ]
  },
  {
   "cell_type": "code",
   "execution_count": null,
   "metadata": {
    "pycharm": {
     "name": "#%%\n"
    }
   },
   "outputs": [],
   "source": [
    "import pandas as pd\n",
    "import numpy as np\n",
    "from pathlib import Path\n",
    "from tqdm import tqdm\n",
    "import re\n",
    "\n",
    "# get all label csv files\n",
    "label_csv_files = list(Path(\"./data/processed/cad_maps/\").glob(\"**/*_labels.csv\"))\n",
    "\n",
    "pbar = tqdm(label_csv_files)\n",
    "floor_dfs = []\n",
    "for csv_file in pbar:\n",
    "    csv_file_path = str(csv_file)\n",
    "    pbar.set_description(f\"Processing {csv_file_path}...\")\n",
    "\n",
    "    floor_labels = pd.read_csv(csv_file_path, index_col=0)\n",
    "    floor_labels = floor_labels[floor_labels[\"Label Type\"] == \"Room ID\"]\n",
    "    floor_dfs.append(floor_labels)\n",
    "\n",
    "cad_rooms_df = pd.concat(floor_dfs)\n",
    "\n",
    "cad_rooms_df.reset_index()\n",
    "\n",
    "cad_rooms_df = cad_rooms_df[[\"Building ID\", \"Floor ID\", \"Label Text\"]]\n",
    "\n",
    "cad_rooms_df.rename(columns={\"Building ID\": \"Building Nr\", \"Label Text\": \"Room ID\"}, inplace=True)\n",
    "\n",
    "cad_rooms_df.sort_values(by=[\"Building Nr\"], inplace=True)\n",
    "\n",
    "cad_rooms_df"
   ]
  },
  {
   "cell_type": "markdown",
   "metadata": {
    "pycharm": {
     "name": "#%% md\n"
    }
   },
   "source": [
    "# Merges"
   ]
  },
  {
   "cell_type": "code",
   "execution_count": null,
   "metadata": {
    "pycharm": {
     "name": "#%%\n"
    }
   },
   "outputs": [],
   "source": [
    "sap_nbew_rooms_df.head()"
   ]
  },
  {
   "cell_type": "code",
   "execution_count": null,
   "metadata": {
    "pycharm": {
     "name": "#%%\n"
    }
   },
   "outputs": [],
   "source": [
    "sap_dim_room_df.head()"
   ]
  },
  {
   "cell_type": "code",
   "execution_count": null,
   "metadata": {
    "pycharm": {
     "name": "#%%\n"
    }
   },
   "outputs": [],
   "source": [
    "sap_fact_app_room_df.head()"
   ]
  },
  {
   "cell_type": "code",
   "execution_count": null,
   "metadata": {
    "pycharm": {
     "name": "#%%\n"
    }
   },
   "outputs": [],
   "source": [
    "waveware_rooms_df.head()"
   ]
  },
  {
   "cell_type": "code",
   "execution_count": null,
   "metadata": {
    "pycharm": {
     "name": "#%%\n"
    }
   },
   "outputs": [],
   "source": [
    "waveware_buildings_df.head()"
   ]
  },
  {
   "cell_type": "code",
   "execution_count": null,
   "metadata": {
    "pycharm": {
     "name": "#%%\n"
    }
   },
   "outputs": [],
   "source": [
    "cad_rooms_df.head()\n"
   ]
  },
  {
   "cell_type": "code",
   "execution_count": null,
   "metadata": {},
   "outputs": [],
   "source": [
    "pd.merge(rb_room_df, waveware_rooms_df, on=\"Waveware Building ID\")"
   ]
  },
  {
   "cell_type": "code",
   "execution_count": null,
   "metadata": {},
   "outputs": [],
   "source": [
    "len(waveware_rooms_df)"
   ]
  },
  {
   "cell_type": "code",
   "execution_count": null,
   "metadata": {},
   "outputs": [],
   "source": [
    "sap_building_fix_isb_df = sap_building_unit_fix_df[sap_building_unit_fix_df[\"Waveware Campus\"] == \"ISB\"]\n",
    "waveware_sap_merge = pd.merge(waveware_rooms_df, sap_building_fix_isb_df, on=[\"Waveware Building ID\", \"Waveware Floor ID\", \"Waveware Room ID\"])\n",
    "waveware_sap_merge[[\"Waveware Building ID\", \"Building Common Name\", \"Waveware Floor ID\", \"Waveware Room ID\", \"Waveware Room Full ID\", \"Room Common Name\", \"SAP Room ID 1\", \"SAP Room ID 2\"]]"
   ]
  },
  {
   "cell_type": "code",
   "execution_count": null,
   "metadata": {},
   "outputs": [],
   "source": [
    "len(waveware_sap_merge)"
   ]
  },
  {
   "cell_type": "code",
   "execution_count": null,
   "metadata": {},
   "outputs": [],
   "source": [
    "waveware_sap_merge_fails = pd.merge(waveware_rooms_df, sap_building_fix_isb_df, how='outer', on=[\"Waveware Building ID\", \"Waveware Floor ID\", \"Waveware Room ID\"], indicator=True)"
   ]
  },
  {
   "cell_type": "code",
   "execution_count": null,
   "metadata": {},
   "outputs": [],
   "source": [
    "waveware_sap_merge_fails = waveware_sap_merge_fails[waveware_sap_merge_fails[\"_merge\"] != \"both\"]\n",
    "excluded_buildings = [\"Unterirdische Verbindungsgänge\", \"Sitem-Insel\", \"Schwarztorstrasse 96\",\n",
    "                      \"Geschäftshaus Güterstrasse 24/26\", \"Geschäftshaus Effingerstrasse 77\",\n",
    "                     \"Wohnhaus Lentulusrain 11\", \"Wohnhaus Hopfenrain 16\", \"Wohnhaus Zieglerstrasse 8\",\n",
    "                      \"Wohnhaus Freiburgstrasse 65\", \"Wohnhaus Murtenstrasse 34\", \"Wohnhaus Murtenstrasse 40/42\",\n",
    "                      \"Murtenstrasse 50\", \"Murtenstrasse 10\", \"Apotheke\", \"Dekanat\", \"Wirtschaftsgebäude\",\n",
    "                     \"Lagerhaus Güterstrasse 13\"]\n",
    "excluded_rooms = [\"WC\", \"WC/Du\", \"Bad/Du\", \"WC Pers.\", \"WC Inv.\", \"Bad\", \"Materialraum\", \"Aufenthalt\", \"Windfang\", \"Heizung/Sanitär\", \"Lüftung\",\n",
    "                  \"Mehrzweckraum\",\n",
    "                  \"Garderobe Damen\", \"Garderobe Herren\", \"Apotheke\", \"Korridor\", \"Lift\", \"Treppe\", \"Putzraum\", \"Lager\", \"Velos\", \"Sanitär\"]\n",
    "waveware_sap_merge_fails = waveware_sap_merge_fails[~waveware_sap_merge_fails[\"Building Common Name\"].isin(excluded_buildings)]\n",
    "waveware_sap_merge_fails = waveware_sap_merge_fails[~waveware_sap_merge_fails[\"Room Common Name\"].isin(excluded_rooms)]\n",
    "waveware_sap_merge_fails_show = waveware_sap_merge_fails[[\"_merge\", \"Waveware Building ID\", \"Building Common Name\", \"Waveware Floor ID\", \"Waveware Room ID\", \"Waveware Room Full ID\", \"Room Common Name\", \"SAP Room ID 1\", \"SAP Room ID 2\"]]\n",
    "waveware_sap_merge_fails_show"
   ]
  },
  {
   "cell_type": "code",
   "execution_count": null,
   "metadata": {},
   "outputs": [],
   "source": [
    "len(waveware_sap_merge_fails_show)"
   ]
  },
  {
   "cell_type": "markdown",
   "metadata": {
    "pycharm": {
     "name": "#%%\n"
    }
   },
   "source": [
    "## New idea\n",
    "sap_nbew_rooms_df has a Room ID that seems to be splittable such that the first part looks like waveware Building abbreviations\n"
   ]
  },
  {
   "cell_type": "code",
   "execution_count": null,
   "metadata": {},
   "outputs": [],
   "source": [
    "waveware_rooms_df2 = pd.merge(waveware_rooms_df, waveware_buildings_df, on=\"Waveware Building ID\", suffixes=(\"\",\"_y\"))\n",
    "waveware_rooms_df2.drop([\"Building Common Name_y\"], axis=1, inplace=True)\n",
    "waveware_rooms_df2"
   ]
  },
  {
   "cell_type": "code",
   "execution_count": null,
   "metadata": {},
   "outputs": [],
   "source": []
  }
 ],
 "metadata": {
  "kernelspec": {
   "display_name": "Python 3",
   "language": "python",
   "name": "python3"
  },
  "language_info": {
   "codemirror_mode": {
    "name": "ipython",
    "version": 3
   },
   "file_extension": ".py",
   "mimetype": "text/x-python",
   "name": "python",
   "nbconvert_exporter": "python",
   "pygments_lexer": "ipython3",
   "version": "3.7.0"
  }
 },
 "nbformat": 4,
 "nbformat_minor": 1
}
