{
 "cells": [
  {
   "cell_type": "markdown",
   "metadata": {
    "collapsed": true,
    "pycharm": {
     "name": "#%% md\n"
    }
   },
   "source": [
    "# Compare room IDs extracted from cad data and the movements (NBEW) database table of the IDP\n",
    "\n"
   ]
  },
  {
   "cell_type": "code",
   "execution_count": null,
   "metadata": {
    "pycharm": {
     "name": "#%%\n"
    }
   },
   "outputs": [],
   "source": [
    "import sys\n",
    "import os\n",
    "import re\n",
    "\n",
    "import numpy as np\n",
    "import pandas as pd\n",
    "pd.set_option('display.max_rows', None)\n",
    "pd.set_option('display.max_columns', None)\n",
    "pd.set_option('display.width', 500)\n",
    "pd.set_option('display.max_colwidth', None)\n",
    "import matplotlib.pyplot as plt\n",
    "\n",
    "first_time = True\n",
    "if first_time:\n",
    "    sys.path.append('../')\n",
    "    os.chdir(\"../\")\n",
    "    first_time = False\n",
    "\n",
    "print(os.getcwd())\n"
   ]
  },
  {
   "cell_type": "markdown",
   "metadata": {
    "pycharm": {
     "name": "#%% md\n"
    }
   },
   "source": [
    "----------\n",
    "# SAP Data"
   ]
  },
  {
   "cell_type": "markdown",
   "metadata": {},
   "source": [
    "## Movement/Stay Data"
   ]
  },
  {
   "cell_type": "code",
   "execution_count": null,
   "metadata": {
    "pycharm": {
     "name": "#%%\n"
    }
   },
   "outputs": [],
   "source": [
    "# Find out what stay locations are requested and how often they are used\n",
    "\n",
    "base_folder = \"./data/interim/model_data/\"\n",
    "movement_df = pd.read_csv(base_folder + \"LA_ISH_NBEW.csv\", encoding=\"ISO-8859-1\")\n",
    "\n",
    "sap_nbew_rooms_df = movement_df[[\"Department\", \"Ward\", \"Room ID\"]] #, \"Bed ID\"]]\n",
    "\n",
    "sap_nbew_rooms_df = sap_nbew_rooms_df.groupby(sap_nbew_rooms_df.columns.tolist()).size().reset_index().rename(columns={0:'count'})\n",
    "# sap_nbew_rooms_df = sap_nbew_rooms_df.drop_duplicates()\n",
    "\n",
    "sap_nbew_rooms_df = sap_nbew_rooms_df.fillna(value={\"Room ID\": \"-\"})\n",
    "\n",
    "sap_nbew_rooms_df.rename(columns={\"Room ID\": \"SAP Room ID\"}, inplace=True)\n",
    "\n",
    "sap_nbew_rooms_count_df = sap_nbew_rooms_df.sort_values(by=\"count\", ascending=False) #[sap_rooms_df[\"Room ID\"].str.contains(\"BH \")]\n",
    "sap_nbew_rooms_count_df.head()"
   ]
  },
  {
   "cell_type": "markdown",
   "metadata": {},
   "source": [
    "## Room Data"
   ]
  },
  {
   "cell_type": "code",
   "execution_count": null,
   "metadata": {
    "pycharm": {
     "name": "#%%\n"
    }
   },
   "outputs": [],
   "source": [
    "# NOT SURE WHAT THOSE ROOM IDS ARE (CHECK VRE CODE)\n",
    "base_folder = \"./data/interim/model_data/\"\n",
    "sap_dim_room_df = pd.read_csv(base_folder + \"DIM_RAUM.csv\",  dtype=str, index_col=0)\n",
    "\n",
    "sap_dim_room_df = sap_dim_room_df.fillna(value={\"Room Common Name\": \"-\"})\n",
    "#sap_dim_room_df[sap_dim_room_df[\"Room Common Name\"].str.contains(\"BH\")]\n",
    "sap_dim_room_df.sort_values(by=[\"Room Common Name\"], inplace=True)\n",
    "sap_dim_room_df.head()"
   ]
  },
  {
   "cell_type": "code",
   "execution_count": null,
   "metadata": {
    "pycharm": {
     "name": "#%%\n"
    }
   },
   "outputs": [],
   "source": [
    "# NOT SURE WHAT THOSE ROOM IDS ARE (CHECK VRE CODE)\n",
    "base_folder = \"./data/interim/model_data/\"\n",
    "fact_appointment_room_df = pd.read_csv(base_folder + \"FAKT_TERMIN_RAUM.csv\", encoding=\"ISO-8859-1\", dtype=str)\n",
    "\n",
    "appointment_rooms = fact_appointment_room_df[[\"Room ID\", \"Room Common Name\"]]\n",
    "\n",
    "distinct_rooms = appointment_rooms.drop_duplicates()\n",
    "\n",
    "distinct_rooms = distinct_rooms.fillna(value={\"Room Common Name\": \"-\"})\n",
    "\n",
    "bh_rooms = distinct_rooms[distinct_rooms[\"Room Common Name\"].str.contains(\"BH\")]\n",
    "\n",
    "sap_fact_app_room_df = distinct_rooms.sort_values(by=\"Room Common Name\")\n",
    "\n",
    "sap_fact_app_room_df.set_index(\"Room ID\", inplace=True)\n",
    "\n",
    "sap_fact_app_room_df.head()"
   ]
  },
  {
   "cell_type": "markdown",
   "metadata": {
    "pycharm": {
     "name": "#%%\n"
    }
   },
   "source": [
    "## SAP Building Unit Data"
   ]
  },
  {
   "cell_type": "code",
   "execution_count": null,
   "metadata": {},
   "outputs": [],
   "source": [
    "# Prepare the SAP building unit data for further processing\n",
    "\n",
    "base_folder = \"./data/raw/model_data/\"\n",
    "sap_building_unit_df = pd.read_csv(base_folder + \"LA_ISH_NBAU.csv\", dtype=str)\n",
    "# SAP klingon translation: https://www.tcodesearch.com/sap-tables/detail?id=NBAU\n",
    "sap_building_unit_df.drop([\"MANDT\", \"TELNR\", \"TELFX\", \"TELTX\", \"LOEKZ\", \"LOUSR\", \"LODAT\",\n",
    "                           \"ERDAT\", \"ERUSR\", \"UPDAT\", \"UPUSR\", \"BEGDT\", \"ENDDT\", \"FREIG\",\n",
    "                           \"TALST\", \"ADDIN\",\"XKOOR\", \"YKOOR\", \"BREIT\", \"LAENG\", \"ARCHV\",\n",
    "                           \"MIGRATED_OBJID\", \"BATCH_RUN_ID\", \"ZZBEMK\", \"ZZVERLEGUNG\", \"ZZVORHALTE\",\n",
    "                           \"ZZPRIVAT\", \"EANNR\", \"BETTST_TYP\"], axis=1, inplace=True)\n",
    "\n",
    "sap_building_unit_df.columns = [\"SAP Room ID\", \"Unit Type\", \"Unit Name\", \"SAP Room ID 1\", \"SAP Room ID 2\",\n",
    "                                \"Short Text\", \"Long Text\", \"Address Information\", \"Address Object\",\n",
    "                                \"Waveware Campus\", \"Waveware Building ID\", \"Waveware Floor ID\", \"Waveware Room ID\"]\n",
    "\n",
    "\n",
    "sap_building_unit_df.loc[sap_building_unit_df[\"Unit Type\"] == \"Z\", \"Unit Type\"] = \"Room\"\n",
    "sap_building_unit_df.loc[sap_building_unit_df[\"Unit Type\"] == \"B\", \"Unit Type\"] = \"Bettstellplatz\"\n",
    "sap_building_unit_df = sap_building_unit_df[sap_building_unit_df[\"Unit Type\"] == \"Room\"]\n",
    "\n",
    "sap_building_unit_df"
   ]
  },
  {
   "cell_type": "markdown",
   "metadata": {},
   "source": [
    "## Raumbuch Building Data"
   ]
  },
  {
   "cell_type": "code",
   "execution_count": null,
   "metadata": {},
   "outputs": [],
   "source": [
    "# Show data we have about buildings from the Raumbuch (apparently this is Waveware)\n",
    "\n",
    "base_folder = \"./data/raw/model_data/\"\n",
    "sap_building_df = pd.read_csv(base_folder + \"LA_ISH_ZHC_RB_BUILDING.csv\", dtype=str)\n",
    "sap_building_df.drop([\"MANDT\", \"ERDAT\", \"ERNAM\", \"AEDAT\", \"AENAM\", \"BATCH_RUN_ID\"], axis=1, inplace=True)\n",
    "sap_building_df.columns = [\"Waveware Campus\", \"Waveware Building ID\", \"Building Common Name\"]\n",
    "sap_building_df.set_index(\"Waveware Building ID\", inplace=True)\n",
    "sap_building_df"
   ]
  },
  {
   "cell_type": "markdown",
   "metadata": {},
   "source": [
    "## Raumbuch Room Data"
   ]
  },
  {
   "cell_type": "code",
   "execution_count": null,
   "metadata": {},
   "outputs": [],
   "source": [
    "# Show data we have about rooms from the Raumbuch (apparently this is Waveware)\n",
    "\n",
    "base_folder = \"./data/raw/model_data/\"\n",
    "rb_room_df = pd.read_csv(base_folder + \"LA_ISH_ZHC_RB_RAUM.csv\", dtype=str)\n",
    "rb_room_df.drop([\"MANDT\", \"ERDAT\", \"ERNAM\", \"AEDAT\", \"AENAM\", \"BATCH_RUN_ID\"], axis=1, inplace=True)\n",
    "rb_room_df.columns = [\"Waveware Campus\", \"Waveware Building ID\", \"Waveware Floor ID\", \"Waveware Room ID\", \"Room Common Name\", \"Waveware Room Full ID\"]\n",
    "rb_room_df.set_index(\"Waveware Room Full ID\", inplace=True)\n",
    "rb_room_df = pd.merge(rb_room_df, sap_building_df, on=\"Waveware Building ID\")\n",
    "rb_room_df.head()"
   ]
  },
  {
   "cell_type": "markdown",
   "metadata": {},
   "source": [
    "## Raumbuch Campus Data"
   ]
  },
  {
   "cell_type": "code",
   "execution_count": null,
   "metadata": {},
   "outputs": [],
   "source": [
    "# Show data we have about the campi from the Raumbuch (apparently this is Waveware)\n",
    "\n",
    "base_folder = \"./data/raw/model_data/\"\n",
    "rb_campus_df = pd.read_csv(base_folder + \"LA_ISH_ZHC_RB_STANDORT.csv\", dtype=str)\n",
    "rb_campus_df.drop([\"MANDT\", \"ERDAT\", \"ERNAM\", \"AEDAT\", \"AENAM\", \"BATCH_RUN_ID\"], axis=1, inplace=True)\n",
    "rb_campus_df.columns = [\"Waveware Campus\", \"Common Name\"]\n",
    "rb_campus_df"
   ]
  },
  {
   "cell_type": "markdown",
   "metadata": {},
   "source": [
    "## Raumbuch Floor Data"
   ]
  },
  {
   "cell_type": "code",
   "execution_count": null,
   "metadata": {},
   "outputs": [],
   "source": [
    "# Show data we have about the floors from the Raumbuch (apparently this is Waveware)\n",
    "\n",
    "base_folder = \"./data/raw/model_data/\"\n",
    "rb_floor_df = pd.read_csv(base_folder + \"LA_ISH_ZHC_RB_STOCKWERK.csv\", dtype=str)\n",
    "rb_floor_df.drop([\"MANDT\", \"ERDAT\", \"ERNAM\", \"AEDAT\", \"AENAM\", \"BATCH_RUN_ID\"], axis=1, inplace=True)\n",
    "rb_floor_df.columns = [\"Waveware Campus\", \"Waveware Building ID\", \"Waveware Floor ID\", \"Floor Common Name\"]\n",
    "rb_floor_df = pd.merge(rb_floor_df, sap_building_df, on=\"Waveware Building ID\")\n",
    "rb_floor_df.head()"
   ]
  },
  {
   "cell_type": "markdown",
   "metadata": {
    "pycharm": {
     "name": "#%% md\n"
    }
   },
   "source": [
    "----------\n",
    "# Waveware Data"
   ]
  },
  {
   "cell_type": "markdown",
   "metadata": {},
   "source": [
    "## Room Data"
   ]
  },
  {
   "cell_type": "code",
   "execution_count": null,
   "metadata": {
    "pycharm": {
     "name": "#%%\n"
    }
   },
   "outputs": [],
   "source": [
    "# Show room data we have directly from Waveware\n",
    "\n",
    "base_folder = \"./data/raw/model_data/\"\n",
    "waveware_rooms_df = pd.read_csv(base_folder + \"Waveware_Auszug Flaechenmanagement IDSC (Stand 02.07.20).csv\", encoding=\"ISO-8859-1\", dtype=str)\n",
    "\n",
    "waveware_rooms_df.columns = [\"Waveware Building ID\", \"Building Common Name\", \"Waveware Floor ID\", \"Waveware Room ID\", \"Waveware Room Full ID\", \"Room Common Name\", \"Room Area\", \"PC Group ID\", \"Sub-EC(PC) Nr\", \"Profitcenter\"]\n",
    "waveware_rooms_df = waveware_rooms_df.drop([\"Room Area\", \"PC Group ID\", \"Sub-EC(PC) Nr\", \"Profitcenter\"], axis=1)\n",
    "# waveware_rooms_df.set_index(\"Waveware Room Full ID\", inplace=True)\n",
    "waveware_rooms_df"
   ]
  },
  {
   "cell_type": "markdown",
   "metadata": {},
   "source": [
    "## Building Data"
   ]
  },
  {
   "cell_type": "code",
   "execution_count": null,
   "metadata": {
    "pycharm": {
     "name": "#%%\n"
    }
   },
   "outputs": [],
   "source": [
    "# Show building data we have directly from Waveware\n",
    "\n",
    "base_folder = \"./data/raw/model_data/\"\n",
    "waveware_buildings_df = pd.read_csv(base_folder + \"Waveware_Auszug Gebaeudeinformation Stand 03.12.2020.csv\", encoding=\"ISO-8859-1\", dtype=str)\n",
    "\n",
    "waveware_buildings_df = waveware_buildings_df.drop([\"Standort\", \"Parzellennummer\", \"Zonenplan\", \"Denkmalpflege\", \"Anlage-ID\", \"Bemerkung\", \"Eigentümer (SAP)\", \"Vermietung (SAP)\", \"Portfolio (SAP)\", \"Baujahr\", \"Gebäudetyp\", \"GVB-Nummer\", \"Amtlicher Wert\", \"Gebäudeversicherungswert\", \"Gebäudezustand\", \"Technologiestand HLKSE\", \"Techn. Ausb.standard\", \"Zustand Technik\", \"Klimatisierung\", \"Aufzug\", \"Gebäudezustand Bem.\", \"Status\"], axis=1)\n",
    "waveware_buildings_df.columns = [\"Waveware Building Full ID\", \"Building Code\", \"Waveware Building ID\", \"Building abbreviation\", \"Building Common Name\", \"Street\", \"Zip Code\", \"Location\", \"SAP-Anlage Nr.\"]\n",
    "waveware_buildings_df.drop([\"Zip Code\", \"Location\",\"SAP-Anlage Nr.\", \"Building Code\"], axis=1, inplace=True)\n",
    "waveware_buildings_df = waveware_buildings_df[waveware_buildings_df[\"Building Common Name\"] != \"Grundstück Inselareal\"]\n",
    "\n",
    "waveware_buildings_df = waveware_buildings_df[~pd.isna(waveware_buildings_df[\"Building abbreviation\"])]\n",
    "waveware_buildings_df.sort_values(by=[\"Building abbreviation\"], inplace=True)\n",
    "# waveware_buildings_df.set_index(\"Waveware Building ID\", inplace=True)\n",
    "waveware_buildings_df"
   ]
  },
  {
   "cell_type": "markdown",
   "metadata": {
    "pycharm": {
     "name": "#%% md\n"
    }
   },
   "source": [
    "## CAD Data"
   ]
  },
  {
   "cell_type": "code",
   "execution_count": null,
   "metadata": {
    "pycharm": {
     "name": "#%%\n"
    }
   },
   "outputs": [],
   "source": [
    "import pandas as pd\n",
    "import numpy as np\n",
    "from pathlib import Path\n",
    "from tqdm import tqdm\n",
    "import re\n",
    "\n",
    "# get all label csv files\n",
    "label_csv_files = list(Path(\"./data/processed/cad_maps/\").glob(\"**/*_labels.csv\"))\n",
    "\n",
    "pbar = tqdm(label_csv_files)\n",
    "floor_dfs = []\n",
    "for csv_file in pbar:\n",
    "    csv_file_path = str(csv_file)\n",
    "    pbar.set_description(f\"Processing {csv_file_path}...\")\n",
    "\n",
    "    floor_labels = pd.read_csv(csv_file_path, index_col=0)\n",
    "    floor_labels = floor_labels[floor_labels[\"Label Type\"] == \"Room ID\"]\n",
    "    floor_dfs.append(floor_labels)\n",
    "\n",
    "cad_rooms_df = pd.concat(floor_dfs)\n",
    "\n",
    "cad_rooms_df.reset_index()\n",
    "\n",
    "cad_rooms_df = cad_rooms_df[[\"Building ID\", \"Floor ID\", \"Label Text\"]]\n",
    "\n",
    "cad_rooms_df.rename(columns={\"Building ID\": \"Building Nr\", \"Label Text\": \"Room ID\"}, inplace=True)\n",
    "\n",
    "cad_rooms_df.sort_values(by=[\"Building Nr\"], inplace=True)\n",
    "\n",
    "cad_rooms_df.head()"
   ]
  },
  {
   "cell_type": "markdown",
   "metadata": {},
   "source": [
    "## Preparing intermediate tables"
   ]
  },
  {
   "cell_type": "markdown",
   "metadata": {},
   "source": [
    "## SAP ISH NBEW table"
   ]
  },
  {
   "cell_type": "code",
   "execution_count": null,
   "metadata": {},
   "outputs": [],
   "source": [
    "# Split NBEW SAP Room IDs into Waveware Building, Floor, Room ID\n",
    "# TODO: Understand and split KKENO rooms\n",
    "\n",
    "def extract_ids(row):\n",
    "    \"\"\"\n",
    "    Extract waveware tokens from SAP Room IDs for Insel Hospital rooms.\n",
    "    \"\"\"\n",
    "    row['SAP Building Abbreviation'] = pd.NA\n",
    "    row['Waveware Floor ID'] = pd.NA\n",
    "    row['Waveware Room ID'] = pd.NA\n",
    "    \n",
    "    pattern = '([A-Za-z]{2,3}[0-9]*)[\\.\\s]+([A-Za-z]*[0-9]*)[\\.N\\s-]+([0-9]+[A-Za-z]*)$'\n",
    "    match = re.search(pattern, row['SAP Room ID'])\n",
    "\n",
    "    if match is not None:\n",
    "        # if extraction was successful, read metric df and compose tuple\n",
    "        row['Waveware Building ID'], row['Waveware Floor ID'], row['Waveware Room ID'] = match.groups()\n",
    "    else:\n",
    "            pattern = '([A-Za-z]+)[\\.\\s]*([0-9]*)[\\.N\\s-]+([0-9]+[A-Za-z]*)$'\n",
    "            match = re.search(pattern, row['SAP Room ID'])\n",
    "\n",
    "            if match is not None:\n",
    "                # if extraction was successful, read metric df and compose tuple\n",
    "                row['Waveware Building ID'], row['Waveware Floor ID'], row['Waveware Room ID'] = match.groups()\n",
    "            else:\n",
    "                pattern = '([A-Za-z]+[0-9]*)[\\s]+([A-Za-z]*)[\\.N\\s-]*([0-9]+[A-Za-z]*)'\n",
    "                match = re.search(pattern, row['SAP Room ID'])\n",
    "\n",
    "                if match is not None:\n",
    "                    # if extraction was successful, read metric df and compose tuple\n",
    "                    row['SAP Building Abbreviation'], row['Waveware Floor ID'], row['Waveware Room ID'] = match.groups()\n",
    "    return row\n",
    "\n",
    "def extract_waveware_ids(row):\n",
    "    \"\"\"\n",
    "    Run all above methods on the same row.\n",
    "    \"\"\"\n",
    "    row = extract_ids(row)\n",
    "    \n",
    "    return pd.Series({'SAP Building Abbreviation': row['SAP Building Abbreviation'], 'Waveware Floor ID': row['Waveware Floor ID'], 'Waveware Room ID': row['Waveware Room ID']})\n",
    "\n",
    "sap_nbew_rooms_count_fix_df = pd.concat([sap_nbew_rooms_count_df, sap_nbew_rooms_count_df.apply(extract_waveware_ids, axis=1)], axis=1)\n",
    "sap_nbew_rooms_count_fix_df.head()"
   ]
  },
  {
   "cell_type": "code",
   "execution_count": null,
   "metadata": {},
   "outputs": [],
   "source": [
    "# Check which ones failed to parse\n",
    "sap_nbew_rooms_count_fix_df[pd.isna(sap_nbew_rooms_count_fix_df[\"Waveware Room ID\"]) & ~sap_nbew_rooms_count_fix_df[\"SAP Room ID\"].str.isdecimal() & ~sap_nbew_rooms_count_fix_df[\"SAP Room ID\"].str.startswith(\"7\") & ~sap_nbew_rooms_count_fix_df[\"SAP Room ID\"].str.startswith(\"6\")].head()"
   ]
  },
  {
   "cell_type": "markdown",
   "metadata": {},
   "source": [
    "### SAP Building unit table"
   ]
  },
  {
   "cell_type": "code",
   "execution_count": null,
   "metadata": {},
   "outputs": [],
   "source": [
    "# improve the SAP building unit table's waveware data\n",
    "\n",
    "sap_building_unit_df['SAP Building Abbreviation 1'] = pd.NA\n",
    "sap_building_unit_df['SAP Building Abbreviation 2'] = pd.NA\n"
   ]
  },
  {
   "cell_type": "code",
   "execution_count": null,
   "metadata": {},
   "outputs": [],
   "source": [
    "def extract_campi(row):\n",
    "    \"\"\"\n",
    "    Extract the campus of the building and room based on hints in the Unit Name.\n",
    "    \"\"\"\n",
    "    if pd.isna(row['Waveware Campus']):\n",
    "        if row['Unit Name'].find(\"Aarberg\") != -1:\n",
    "            row['Waveware Campus'] = 'AARB'\n",
    "        if row['Unit Name'].find(\"Riggisberg\") != -1:\n",
    "            row['Waveware Campus'] = 'RIGG'\n",
    "        if row['Unit Name'].find(\"R_\") != -1:\n",
    "            row['Waveware Campus'] = 'RIGG'\n",
    "        if row['Unit Name'].find(\"Tiefenau\") != -1:\n",
    "            row['Waveware Campus'] = 'TIEF'\n",
    "        if row['Unit Name'].find(\"Münsigen\") != -1:\n",
    "            row['Waveware Campus'] = 'MUEN'\n",
    "        if row['Unit Name'].find(\"Belp\") != -1:\n",
    "            row['Waveware Campus'] = 'BELP'\n",
    "\n",
    "    return row\n",
    "\n",
    "def extract_ids(row):\n",
    "    \"\"\"\n",
    "    Extract waveware tokens from SAP Room IDs for Insel Hospital rooms.\n",
    "    \"\"\"\n",
    "    if row['Waveware Campus'] not in ['Aarberg', 'Riggisberg', 'Tiefenau', 'Münsigen'] and not pd.isna(row['SAP Room ID 2']):\n",
    "        if pd.isna(row[\"Waveware Room ID\"]):\n",
    "            pattern = '([A-Za-z]+[0-9]*)[\\s]+([A-Za-z]*[0-9]*)[\\.N\\s-]+([0-9]+[A-Za-z]*)'\n",
    "            match = re.search(pattern, row['SAP Room ID 2'])\n",
    "            if match is not None:\n",
    "                # if extraction was successful, read metric df and compose tuple\n",
    "                row['Waveware Building ID'], row['Waveware Floor ID'], row['Waveware Room ID'] = match.groups()\n",
    "    return row\n",
    "\n",
    "def extract_waveware_ids(row):\n",
    "    \"\"\"\n",
    "    Run all above methods on the same row.\n",
    "    \"\"\"\n",
    "    row = extract_campi(row)\n",
    "    row = extract_ids(row)\n",
    "    \n",
    "    return pd.Series({'Waveware Campus': row['Waveware Campus'], 'SAP Building Abbreviation 2': row['SAP Building Abbreviation 2'], 'Waveware Building ID': row['Waveware Building ID'], 'Waveware Floor ID': row['Waveware Floor ID'], 'Waveware Room ID': row['Waveware Room ID']})\n",
    "\n",
    "sap_building_unit_fix_df = pd.concat([sap_building_unit_df.drop([\"Waveware Campus\", \"Waveware Building ID\", \"SAP Building Abbreviation 2\", \"Waveware Floor ID\", \"Waveware Room ID\"], axis=1), sap_building_unit_df.apply(extract_waveware_ids, axis=1)], axis=1)"
   ]
  },
  {
   "cell_type": "code",
   "execution_count": null,
   "metadata": {},
   "outputs": [],
   "source": [
    "def fix_SAP_ID_1(row):\n",
    "    \"\"\"\n",
    "    Fix SAP ID 1 for Aarberg or unknown rooms.\n",
    "    \"\"\"\n",
    "    if re.search('[0-9]+', row[\"SAP Room ID\"]) is not None and (row[\"Waveware Campus\"] != \"ISB\" or pd.isna(row[\"Waveware Campus\"])):\n",
    "        row[\"SAP Room ID 1\"] = row['SAP Room ID']\n",
    "    \n",
    "    return pd.Series({'SAP Room ID 1': row[\"SAP Room ID 1\"]})\n",
    "\n",
    "# fix the Aarberg SAP Room IDs to make it possible to identify them in the SAP NBEW table data\n",
    "sap_building_unit_fix_df = pd.concat([sap_building_unit_fix_df.drop([\"SAP Room ID 1\"], axis=1), sap_building_unit_fix_df.apply(fix_SAP_ID_1, axis=1)], axis=1)\n",
    "\n",
    "# show number of unidentified rooms\n",
    "print(\"Campus:\", len(sap_building_unit_fix_df[pd.isna(sap_building_unit_fix_df[\"Waveware Campus\"])]))\n",
    "print(\"Building\", len(sap_building_unit_fix_df[pd.isna(sap_building_unit_fix_df[\"Waveware Building ID\"])]))\n",
    "print(\"Floor\", len(sap_building_unit_fix_df[pd.isna(sap_building_unit_fix_df[\"Waveware Floor ID\"])]))\n",
    "print(\"Room\", len(sap_building_unit_fix_df[pd.isna(sap_building_unit_fix_df[\"Waveware Room ID\"])]))"
   ]
  },
  {
   "cell_type": "code",
   "execution_count": null,
   "metadata": {},
   "outputs": [],
   "source": [
    "def extract_sap_1_ids(row):\n",
    "    \"\"\"\n",
    "    Extract SAP abbreviations from SAP Room IDs for Insel Hospital rooms.\n",
    "    \"\"\"\n",
    "    if row['Waveware Campus'] not in ['Aarberg', 'Riggisberg', 'Tiefenau', 'Münsigen'] and not pd.isna(row['SAP Room ID 1']):\n",
    "            pattern = '([A-Za-z]+[0-9]*)[\\s]+'\n",
    "            match = re.search(pattern, row['SAP Room ID 1'])\n",
    "            if match is not None:\n",
    "                # if extraction was successful, read metric df and compose tuple\n",
    "                row['SAP Building Abbreviation 1'] = match.groups()[0]\n",
    "    return pd.Series({'SAP Building Abbreviation 1': row['SAP Building Abbreviation 1']})\n",
    "\n",
    "# extract building abbreviation 1 from SAP Room ID 1\n",
    "sap_building_unit_fix_df = pd.concat([sap_building_unit_fix_df.drop(['SAP Building Abbreviation 1'], axis=1), sap_building_unit_fix_df.apply(extract_sap_1_ids, axis=1)], axis=1)"
   ]
  },
  {
   "cell_type": "code",
   "execution_count": null,
   "metadata": {},
   "outputs": [],
   "source": [
    "def extract_sap_2_ids(row):\n",
    "    \"\"\"\n",
    "    Extract SAP abbreviations from SAP Room IDs for Insel Hospital rooms.\n",
    "    \"\"\"\n",
    "    if row['Waveware Campus'] not in ['Aarberg', 'Riggisberg', 'Tiefenau', 'Münsigen'] and not pd.isna(row['SAP Room ID 1']):\n",
    "            pattern = '([A-Za-z]+[0-9]*)[\\s]+'\n",
    "            match = re.search(pattern, row['SAP Room ID 2'])\n",
    "            if match is not None:\n",
    "                # if extraction was successful, read metric df and compose tuple\n",
    "                row['SAP Building Abbreviation 2'] = match.groups()[0]\n",
    "    return pd.Series({'SAP Building Abbreviation 2': row['SAP Building Abbreviation 2']})\n",
    "\n",
    "# extract building abbreviation 1 from SAP Room ID 1\n",
    "sap_building_unit_fix_df = pd.concat([sap_building_unit_fix_df.drop(['SAP Building Abbreviation 2'], axis=1), sap_building_unit_fix_df.apply(extract_sap_2_ids, axis=1)], axis=1)"
   ]
  },
  {
   "cell_type": "code",
   "execution_count": null,
   "metadata": {},
   "outputs": [],
   "source": [
    "#sap_building_unit_fix_df#[~sap_building_unit_fix_df[\"Waveware Campus\"].isin([\"AARB\", \"TIEF\", \"RIGG\", \"MUEN\"])][[\"SAP Room ID 1\", \"SAP Building Abbreviation 1\", \"SAP Room ID 2\", \"SAP Building Abbreviation 2\"]]"
   ]
  },
  {
   "cell_type": "code",
   "execution_count": null,
   "metadata": {},
   "outputs": [],
   "source": [
    "# Show what we extracted\n",
    "sap_building_unit_fix_df[['Unit Type', 'Unit Name', 'SAP Room ID', 'SAP Room ID 1', 'SAP Building Abbreviation 1', 'SAP Room ID 2', 'SAP Building Abbreviation 2', 'Waveware Campus', 'Waveware Building ID', 'Waveware Floor ID', 'Waveware Room ID']]"
   ]
  },
  {
   "cell_type": "code",
   "execution_count": null,
   "metadata": {},
   "outputs": [],
   "source": [
    "# How many rooms are from Insel Hospital?\n",
    "\n",
    "len(sap_building_unit_fix_df[sap_building_unit_fix_df[\"Waveware Campus\"] == \"ISB\"])"
   ]
  },
  {
   "cell_type": "markdown",
   "metadata": {},
   "source": [
    "### Building Abbreviations Table"
   ]
  },
  {
   "cell_type": "code",
   "execution_count": null,
   "metadata": {},
   "outputs": [],
   "source": [
    "building_abbreviation_df = pd.merge(waveware_buildings_df[[\"Building Common Name\", \"Waveware Building ID\", \"Building abbreviation\", \"Waveware Building Full ID\"]], sap_building_unit_fix_df[[\"SAP Building Abbreviation 1\", \"SAP Building Abbreviation 2\", \"Waveware Building ID\"]], how=\"outer\", on=\"Waveware Building ID\", indicator=True).drop_duplicates().sort_values(by=\"Waveware Building ID\")\n",
    "building_abbreviation_df = building_abbreviation_df[building_abbreviation_df[\"_merge\"] != \"right_only\"].drop([\"_merge\"],axis=1)\n",
    "building_abbreviation_melt_df = pd.melt(building_abbreviation_df, id_vars=['Building Common Name', \"Waveware Building ID\", \"Waveware Building Full ID\"], value_vars=['Building abbreviation', 'SAP Building Abbreviation 1','SAP Building Abbreviation 2'])\n",
    "building_abbreviation_melt_df = building_abbreviation_melt_df.drop([\"variable\"], axis=1).drop_duplicates().sort_values(by=\"Waveware Building ID\")\n",
    "building_abbreviation_df = building_abbreviation_melt_df[building_abbreviation_melt_df['value'].notna()].rename(columns={\"value\": \"Building Abbreviation\"})\n",
    "building_abbreviation_df"
   ]
  },
  {
   "cell_type": "markdown",
   "metadata": {},
   "source": [
    "## Finding movements/stays of patients"
   ]
  },
  {
   "cell_type": "code",
   "execution_count": null,
   "metadata": {},
   "outputs": [],
   "source": [
    "# Merge SAP building unit data with the nbew stays\n",
    "# As the SAP building unit data contains Waveware {Building, Floor, Room} IDs,\n",
    "# this allows us to merge with the Waveware data\n",
    "nbew_sap_merge = pd.merge(sap_building_unit_fix_df, sap_nbew_rooms_count_fix_df, how=\"outer\", left_on=\"SAP Room ID 1\", right_on=\"SAP Room ID\", suffixes=(\"_x\",\"\"), indicator=True)\n",
    "len(nbew_sap_merge[nbew_sap_merge[\"_merge\"] == \"both\"])"
   ]
  },
  {
   "cell_type": "code",
   "execution_count": null,
   "metadata": {},
   "outputs": [],
   "source": [
    "# Just continue with the mergable data (but allow to analyse the unmerged data)\n",
    "nbew_sap_merge_both = nbew_sap_merge[nbew_sap_merge[\"_merge\"] == \"both\"]#[[\"count\", \"SAP Room ID\", \"Unit Name\",\"Waveware Campus\", \"Waveware Building ID\", \"Waveware Floor ID\", \"Waveware Room ID\", \"SAP Room ID 1\", \"SAP Room ID 2\", \"Department\", \"Ward\"]]\n",
    "nbew_sap_merge_both"
   ]
  },
  {
   "cell_type": "code",
   "execution_count": null,
   "metadata": {},
   "outputs": [],
   "source": [
    "# Reduce data to rooms on the Insel Hospital Campus\n",
    "nbew_sap_merge_isb = nbew_sap_merge_both[nbew_sap_merge_both[\"Waveware Campus\"] == \"ISB\"]\n",
    "nbew_sap_merge_isb"
   ]
  },
  {
   "cell_type": "code",
   "execution_count": null,
   "metadata": {},
   "outputs": [],
   "source": [
    "# Analyse the unmergable SAP NBEW locations\n",
    "nbew_sap_merge_fails = nbew_sap_merge[nbew_sap_merge[\"_merge\"] == \"right_only\"]\n",
    "nbew_sap_merge_fails_show = nbew_sap_merge_fails[[\"_merge\", \"count\", \"SAP Room ID\", \"Department\", \"Ward\", \"Waveware Building ID\", \"Waveware Floor ID\", \"Waveware Room ID\"]]\n",
    "nbew_sap_merge_fails_show.sort_values(by=\"count\", ascending=False)\n",
    "# nbew_sap_merge_fails_show.sort_values(by=\"SAP Room ID\", ascending=True)"
   ]
  },
  {
   "cell_type": "code",
   "execution_count": null,
   "metadata": {},
   "outputs": [],
   "source": [
    "len(nbew_sap_merge_fails_show)"
   ]
  },
  {
   "cell_type": "code",
   "execution_count": null,
   "metadata": {},
   "outputs": [],
   "source": [
    "merge_fails = pd.merge(nbew_sap_merge_fails_show.drop([\"_merge\"], axis=1), building_abbreviation_df, how=\"outer\", left_on=\"Waveware Building ID\", right_on=\"Building Abbreviation\", indicator=True)\n",
    "merge_fails[merge_fails[\"_merge\"] == \"both\"].sort_values(by=\"count\", ascending=False)"
   ]
  },
  {
   "cell_type": "code",
   "execution_count": null,
   "metadata": {},
   "outputs": [],
   "source": [
    "#pd.merge(nbew_sap_merge_fails_show, , on=[\"Waveware Building ID\", \"Waveware Floor ID\", \"Waveware Room ID\"])"
   ]
  },
  {
   "cell_type": "markdown",
   "metadata": {},
   "source": [
    "Observations:\n",
    "* [X] Most not found room IDs are probably still those from not(ISB) (check by looking at both and right_only, sorted by count, then SAP Room ID). Or it could be that SAP Room ID 1 is missing there!\n",
    "* [X] What is located in BH/BHH A, C,D, I? (larger amount of BH A-184 or BH C111 or BHHA408 not found) \\\n",
    "=> You can find the answers to this question in waveware_rooms_df\n",
    "* [ ] Furthermore there are some weird Naming schemes such as H5 G-19B. \\\n",
    "=> Possibly not a patient room. So we might have to take the leap to waveware_rooms_df\n",
    "* [X] What building is IN D 123 (INO D 123)? It seems to be located in many different departments \\\n",
    "=> Try to make the leap function to waveware_rooms_df\n",
    "* [X] INO C 09 and friends seem to be in NOTA INO and NOTB INO wards, but their name seems wrong. \\\n",
    "=> they are not in waveware_rooms_df but they seem to be in INO\n",
    "* [X] What is located in KK/KKL D, E, F? (KKB211 or KK C-826 or KKLG322 or KKL G322 are alternate patterns) \\\n",
    "=> You can find the answers to this question in waveware_rooms_df\n",
    "* [X] Frequently used: AS1.131B (ASH 1 131B Besprechung), BHH B118, TK B 179, IN D 123, INO C 10 \\\n",
    "=> Try to make the leap function to waveware_rooms_df\n",
    "* [ ] Where is AKUT NEPH? \\\n",
    "=> NO IDEA, but there seem to be a remaining number of rooms that are not in waveware somehow\n",
    "* [X] SH1 37B not found (Sahli-Haus 1) \\\n",
    "=> Try to make the leap function to waveware_rooms_df\n",
    "* [X] TK B 179 not found (Theodor Kocher Haus) \\\n",
    "=> Try to make the leap function to waveware_rooms_df"
   ]
  },
  {
   "cell_type": "code",
   "execution_count": null,
   "metadata": {},
   "outputs": [],
   "source": [
    "# Analyse merge fails\n",
    "nbew_sap_merge_fail_both_right = nbew_sap_merge[(nbew_sap_merge[\"_merge\"] == \"both\") & (nbew_sap_merge[\"Waveware Campus\"] == \"ISB\") | (nbew_sap_merge[\"_merge\"] == \"right_only\") & (pd.isna(nbew_sap_merge[\"Waveware Campus\"]))][[\"_merge\", \"count\", \"SAP Room ID\", \"Unit Name\",\"Waveware Campus\", \"Waveware Building ID\", \"Waveware Floor ID\", \"Waveware Room ID\", \"SAP Room ID 1\", \"SAP Room ID 2\", \"Department\", \"Ward\"]]\n",
    "nbew_sap_merge_fail_both_right.sort_values(by=\"count\", ascending=False, inplace=True)\n",
    "nbew_sap_merge_fail_both_right.sort_values(by=\"SAP Room ID\", ascending=True)"
   ]
  },
  {
   "cell_type": "code",
   "execution_count": null,
   "metadata": {},
   "outputs": [],
   "source": [
    "# Merge waveware data with SAP NBEW Insel hospital rooms\n",
    "waveware_nbew_merge = pd.merge(waveware_rooms_df, nbew_sap_merge_isb, how='outer', on=[\"Waveware Building ID\", \"Waveware Floor ID\", \"Waveware Room ID\"], indicator=True)\n",
    "\n",
    "waveware_nbew_merge_show = waveware_nbew_merge[waveware_nbew_merge[\"_merge\"] == \"both\"][[\"count\", \"Waveware Building ID\", \"SAP Room ID\", \"Building Common Name\", \"Waveware Floor ID\", \"Waveware Room ID\", \"Waveware Room Full ID\", \"Room Common Name\", \"SAP Room ID 1\", \"SAP Room ID 2\"]]\n",
    "waveware_nbew_merge_show.sort_values(by=\"count\", ascending=False)"
   ]
  },
  {
   "cell_type": "code",
   "execution_count": null,
   "metadata": {},
   "outputs": [],
   "source": [
    "# Analyse the unmergable rooms from SAP NBEW\n",
    "waveware_nbew_merge[waveware_nbew_merge[\"_merge\"] == \"right_only\"][[\"count\", \"Waveware Building ID\", \"SAP Room ID\", \"Building Common Name\", \"Waveware Floor ID\", \"Waveware Room ID\", \"Waveware Room Full ID\", \"Room Common Name\", \"SAP Room ID 1\", \"SAP Room ID 2\"]]"
   ]
  },
  {
   "cell_type": "code",
   "execution_count": null,
   "metadata": {},
   "outputs": [],
   "source": [
    "# Merge waveware buildings and rooms\n",
    "waveware_room_building_df = pd.merge(waveware_rooms_df, waveware_buildings_df, on=\"Waveware Building ID\", suffixes=(\"\",\"_y\"))\n",
    "waveware_room_building_df = waveware_room_building_df[[\"Waveware Building ID\", \"Building abbreviation\", \"Waveware Floor ID\", \"Waveware Room ID\", \"Waveware Room Full ID\", \"Room Common Name\"]]\n",
    "waveware_room_building_df"
   ]
  },
  {
   "cell_type": "markdown",
   "metadata": {},
   "source": [
    "# Prepare location data"
   ]
  },
  {
   "cell_type": "markdown",
   "metadata": {},
   "source": [
    "## Get location data (Open Street Map)"
   ]
  },
  {
   "cell_type": "code",
   "execution_count": null,
   "metadata": {},
   "outputs": [],
   "source": [
    "import requests\n",
    "\n",
    "def get_long_lat(street_string):\n",
    "    response = requests.get(f\"https://nominatim.openstreetmap.org/search?q={street_string.replace(' ', '+')}+Bern&format=json\")\n",
    "    types = []\n",
    "    for loc in response.json():\n",
    "        types.append(loc[\"type\"] + \": \" + loc[\"display_name\"][:15])\n",
    "        if loc[\"type\"] in [\"hospital\", \"childcare\", \"clinic\"]:\n",
    "            id_string = loc[\"type\"] + \": \" + loc[\"display_name\"][:15]\n",
    "            long_lat = (loc[\"lon\"], loc[\"lat\"])\n",
    "            return pd.Series({'Type': id_string, 'Long/Lat': long_lat})\n",
    "        \n",
    "    id_string = response.json()[0][\"type\"] + \": \" + response.json()[0][\"display_name\"][:15]\n",
    "    long_lat = (response.json()[0][\"lon\"], response.json()[0][\"lat\"])\n",
    "    return pd.Series({'Type': id_string, 'Long/Lat': long_lat})\n",
    "\n",
    "\n",
    "waveware_buildings_coords_df = pd.concat([waveware_buildings_df, waveware_buildings_df[\"Street\"].apply(lambda s: get_long_lat(s))], axis=1)\n",
    "waveware_buildings_coords_df[\"Longitude\"] = waveware_buildings_coords_df[\"Long/Lat\"].apply(lambda ll: float(ll[0]))\n",
    "waveware_buildings_coords_df[\"Latitude\"] = waveware_buildings_coords_df[\"Long/Lat\"].apply(lambda ll: float(ll[1]))\n",
    "waveware_buildings_coords_df.drop([\"Long/Lat\"], axis=1, inplace=True)\n",
    "waveware_buildings_coords_df"
   ]
  },
  {
   "cell_type": "code",
   "execution_count": null,
   "metadata": {},
   "outputs": [],
   "source": [
    "import pandas as pd\n",
    "import geopandas\n",
    "import matplotlib.pyplot as plt\n",
    "import contextily as ctx\n",
    "gdf = geopandas.GeoDataFrame(\n",
    "    waveware_buildings_coords_df, geometry=geopandas.points_from_xy(waveware_buildings_coords_df.Longitude, waveware_buildings_coords_df.Latitude))\n",
    "gdf.set_crs(epsg=4326, inplace=True)\n",
    "gdf = gdf.to_crs(epsg=3857)\n",
    "\n",
    "gdf"
   ]
  },
  {
   "cell_type": "code",
   "execution_count": null,
   "metadata": {},
   "outputs": [],
   "source": [
    "ax = gdf.plot(figsize=(16, 12), alpha=0.5, edgecolor='k', label=\"Building abbreviation\")\n",
    "ctx.add_basemap(ax, zoom=15, source=ctx.providers.CartoDB.Positron, alpha=0.5) # OpenStreetMap.Mapnik, CartoDB.Positron, CartoDB.Voyager\n",
    "# providers: https://contextily.readthedocs.io/en/latest/providers_deepdive.html\n",
    "\n",
    "gdf['coords'] = gdf['geometry'].apply(lambda x: x.representative_point().coords[:])\n",
    "gdf['coords'] = [coords[0] for coords in gdf['coords']]\n",
    "\n",
    "for idx, row in gdf.iterrows():\n",
    "    plt.annotate(s=row['Building abbreviation'], xy=row['coords'], horizontalalignment='center', verticalalignment='bottom')\n",
    "plt.show()"
   ]
  }
 ],
 "metadata": {
  "kernelspec": {
   "display_name": "Python 3",
   "language": "python",
   "name": "python3"
  },
  "language_info": {
   "codemirror_mode": {
    "name": "ipython",
    "version": 3
   },
   "file_extension": ".py",
   "mimetype": "text/x-python",
   "name": "python",
   "nbconvert_exporter": "python",
   "pygments_lexer": "ipython3",
   "version": "3.7.9"
  }
 },
 "nbformat": 4,
 "nbformat_minor": 1
}
