{
 "cells": [
  {
   "cell_type": "markdown",
   "id": "a27908ea-1515-414f-9a93-547b0ed0478a",
   "metadata": {},
   "source": [
    "# Multiprocessing on shared read-only structure"
   ]
  },
  {
   "cell_type": "markdown",
   "id": "a5cd66b1-bc28-478c-9a46-0d10fd7db88e",
   "metadata": {},
   "source": [
    "## Without OO"
   ]
  },
  {
   "cell_type": "code",
   "execution_count": 6,
   "id": "7c7f8218-9f28-4fa8-bbce-c55c7062b853",
   "metadata": {},
   "outputs": [
    {
     "name": "stdout",
     "output_type": "stream",
     "text": [
      "main proc: [] at 0x7ff00433e480\n",
      "main proc: [0.0, 1.0, 1.4142135623730951, 1.7320508075688772, 2.0, 2.23606797749979, 2.449489742783178, 2.6457513110645907, 2.8284271247461903, 3.0] at 0x7ff00433e480\n",
      "0x7ff00433e4800x7ff00433e4800x7ff00433e480\n",
      "0x7ff00433e480\n",
      "\n",
      "\n",
      "0.0\n",
      "0x7ff00433e480\n",
      "1.0\n",
      "0x7ff00433e480\n",
      "1.4142135623730951\n",
      "0x7ff00433e480\n",
      "1.7320508075688772\n",
      "0x7ff00433e480\n",
      "2.0\n",
      "0x7ff00433e480\n",
      "2.23606797749979\n",
      "0x7ff00433e480\n",
      "2.449489742783178\n",
      "2.6457513110645907\n",
      "2.8284271247461903\n",
      "3.0\n",
      "i =  [0.0, 1.0, 1.4142135623730951, 1.7320508075688772, 2.0, 2.23606797749979, 2.449489742783178, 2.6457513110645907, 2.8284271247461903, 3.0]\n"
     ]
    }
   ],
   "source": [
    "# Source: https://stackoverflow.com/a/60348772/4563947\n",
    "# source: https://stackoverflow.com/questions/5549190/is-shared-readonly-data-copied-to-different-processes-for-multiprocessing\n",
    "import multiprocessing\n",
    "from time import sleep\n",
    "\n",
    "\n",
    "if __name__ == \"__main__\":\n",
    "    my_global = []\n",
    "  \n",
    "    def my_func(i, d=my_global):\n",
    "        print(hex(id(d)))\n",
    "        sleep(d[i])\n",
    "        print(d[i])\n",
    "        return d[i]\n",
    "    \n",
    "    print(f'main proc: {my_global} at {hex(id(my_global))}')\n",
    "    my_global.extend([pow(i, 0.5) for i in range(10)])\n",
    "    print(f'main proc: {my_global} at {hex(id(my_global))}')\n",
    "    \n",
    "    pool = multiprocessing.Pool(processes=4)\n",
    "    i = pool.map(my_func, range(10))\n",
    "    \n",
    "    print(\"i = \",i)\n",
    "    "
   ]
  },
  {
   "cell_type": "markdown",
   "id": "6e80195c-ddc3-4415-965e-0d76d6d7f67f",
   "metadata": {},
   "source": [
    "## With OO"
   ]
  },
  {
   "cell_type": "code",
   "execution_count": 1,
   "id": "19f6fd30-f7b7-4408-a56b-e54fa9be3da6",
   "metadata": {},
   "outputs": [
    {
     "name": "stdout",
     "output_type": "stream",
     "text": [
      "main proc: [] at 0x7f2184671800\n",
      "main proc: [0.0, 1.0, 1.4142135623730951, 1.7320508075688772, 2.0, 2.23606797749979, 2.449489742783178, 2.6457513110645907, 2.8284271247461903, 3.0, <__main__.Reference object at 0x7f2184676280>] at 0x7f2184671800\n",
      "0x7f21846718000x7f21846718000x7f21846718000x7f21846718000x7f2184671800\n",
      "0x7f21846718000x7f21846718000x7f2184671800\n",
      "0x7f2184671800\n",
      "\n",
      "0.0\n",
      "\n",
      "0x7f2184671800\n",
      "\n",
      "\n",
      "\n",
      "\n",
      "1.0\n",
      "1.4142135623730951\n",
      "1.7320508075688772\n",
      "2.0\n",
      "2.23606797749979\n",
      "2.449489742783178\n",
      "2.6457513110645907\n",
      "2.8284271247461903\n",
      "3.0\n",
      "i =  [<__main__.Reference object at 0x7f21845a5040>, <__main__.Reference object at 0x7f218459d760>, <__main__.Reference object at 0x7f21845a5190>, <__main__.Reference object at 0x7f218459dfd0>, <__main__.Reference object at 0x7f218459dfa0>, <__main__.Reference object at 0x7f21845a52e0>, <__main__.Reference object at 0x7f21845a52b0>, <__main__.Reference object at 0x7f21845a5100>, <__main__.Reference object at 0x7f21845a5280>, <__main__.Reference object at 0x7f21845a5520>]\n"
     ]
    }
   ],
   "source": [
    "# Source: https://stackoverflow.com/a/60348772/4563947\n",
    "# source: https://stackoverflow.com/questions/5549190/is-shared-readonly-data-copied-to-different-processes-for-multiprocessing\n",
    "import multiprocessing\n",
    "from time import sleep\n",
    "\n",
    "class Reference:\n",
    "    def __init__(self):\n",
    "        self.reference = None\n",
    "\n",
    "\n",
    "class Printer:\n",
    "    l = None\n",
    "    def __init__(self, l):\n",
    "        Printer.l = l\n",
    "        \n",
    "    def multiprocess(self):\n",
    "        \n",
    "        pool = multiprocessing.Pool(processes=10)\n",
    "        i = pool.map(self.process, range(10))\n",
    "        \n",
    "        print(\"i = \",i)\n",
    "        \n",
    "    def process(self, i):\n",
    "        data = Printer.l\n",
    "        print(hex(id(data)))\n",
    "        j = 0\n",
    "        while(data[i] * 10000000 > j):\n",
    "            pow(i, 0.5)\n",
    "            j+=1\n",
    "        print(data[i])\n",
    "        ref = Reference()\n",
    "        ref.reference = data[i]\n",
    "        return ref\n",
    "\n",
    "\n",
    "if __name__ == \"__main__\":\n",
    "    my_global = []\n",
    "    \n",
    "    print(f'main proc: {my_global} at {hex(id(my_global))}')\n",
    "    my_global.extend([pow(i, 0.5) for i in range(10)])\n",
    "    ref1 = Reference()\n",
    "    ref2 = Reference()\n",
    "    ref1.reference = ref2\n",
    "    ref2.reference = ref1\n",
    "    # this can not be pickled\n",
    "    my_global.append(ref1)\n",
    "    print(f'main proc: {my_global} at {hex(id(my_global))}')\n",
    "    \n",
    "    p = Printer(my_global)\n",
    "    p.multiprocess()\n",
    "    "
   ]
  },
  {
   "cell_type": "code",
   "execution_count": null,
   "id": "2b300e49-144c-4877-8034-2badbc461b02",
   "metadata": {},
   "outputs": [],
   "source": []
  }
 ],
 "metadata": {
  "kernelspec": {
   "display_name": "Python 3 (ipykernel)",
   "language": "python",
   "name": "python3"
  },
  "language_info": {
   "codemirror_mode": {
    "name": "ipython",
    "version": 3
   },
   "file_extension": ".py",
   "mimetype": "text/x-python",
   "name": "python",
   "nbconvert_exporter": "python",
   "pygments_lexer": "ipython3",
   "version": "3.8.0"
  }
 },
 "nbformat": 4,
 "nbformat_minor": 5
}
