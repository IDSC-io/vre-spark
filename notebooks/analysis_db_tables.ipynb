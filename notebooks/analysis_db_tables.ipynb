{
 "cells": [
  {
   "cell_type": "code",
   "execution_count": 2,
   "metadata": {
    "collapsed": true,
    "pycharm": {
     "name": "#%%\n"
    }
   },
   "outputs": [],
   "source": [
    "import sys\n",
    "import os\n",
    "\n",
    "import numpy as np\n",
    "import pandas as pd\n",
    "import matplotlib.pyplot as plt\n",
    "\n",
    "sys.path.append('../')\n",
    "os.chdir(\"../\")\n",
    "\n",
    "base_folder = \"./data/raw/model_data/\""
   ]
  },
  {
   "cell_type": "code",
   "execution_count": 3,
   "outputs": [],
   "source": [
    "from pandas.api.types import is_string_dtype\n",
    "from pandas.api.types import is_numeric_dtype\n",
    "\n",
    "def evaluate_col_classes(df):\n",
    "    for column_name in df.columns:\n",
    "        if is_string_dtype(df[column_name].dtype):  # the column is probably categorical if correctly encoded\n",
    "            print('CATEGORICAL: Column name: {0}, dtype: {1}, values: {2}'\n",
    "                  .format(column_name,\n",
    "                    df[column_name].dtype,\n",
    "                    df[column_name].unique()))\n",
    "        elif is_numeric_dtype(df[column_name].dtype.name): # the column is probably numerical if correctly encoded\n",
    "            unique_vals = df[column_name].unique()\n",
    "\n",
    "            if len(unique_vals) > 100: # magic number\n",
    "                print('NUMERICAL: Column name: {0}, dtype: {1}, #qty unique values: {2}'\n",
    "                      .format(column_name,\n",
    "                      df[column_name].dtype,\n",
    "                      len(unique_vals)))\n",
    "            else:\n",
    "                print('NUMERICAL/POSSIBLY CATEGORICAL: Column name: {0}, dtype: {1}, unique values (#qty): {2}, ({3})'\n",
    "                      .format(column_name,\n",
    "                      df[column_name].dtype,\n",
    "                      sorted(unique_vals),\n",
    "                      len(unique_vals)))\n",
    "\n",
    "        else: # what kind of type is this?\n",
    "            print('UNKNOWN: Column name: {0}, dtype: {1}, class: numerical'\n",
    "                  .format(column_name,\n",
    "                   df[column_name].dtype))\n"
   ],
   "metadata": {
    "collapsed": false,
    "pycharm": {
     "name": "#%%\n"
    }
   }
  },
  {
   "cell_type": "code",
   "execution_count": 4,
   "outputs": [
    {
     "name": "stderr",
     "output_type": "stream",
     "text": [
      "/home/benelot/miniconda3/envs/vre-spark/lib/python3.7/site-packages/IPython/core/interactiveshell.py:3063: DtypeWarning: Columns (0) have mixed types. Specify dtype option on import or set low_memory=False.\n",
      "  interactivity=interactivity, compiler=compiler, result=result)\n"
     ]
    },
    {
     "name": "stdout",
     "output_type": "stream",
     "text": [
      "CATEGORICAL: Column name: PATIENTID, dtype: object, values: [13831402 13719092 82907641 ... 'P0001605567' '00002621231' '00090912918']\n",
      "NUMERICAL: Column name: CASEID, dtype: int64, #qty unique values: 2062921\n",
      "NUMERICAL/POSSIBLY CATEGORICAL: Column name: CASETYP, dtype: int64, unique values (#qty): [1, 2, 3], (3)\n",
      "CATEGORICAL: Column name: CASESTATUS, dtype: object, values: ['Fall ist abgeschlossen' 'Fall ist aktuell' 'Fall ist im Planstatus']\n",
      "CATEGORICAL: Column name: FALAR, dtype: object, values: ['ambulanter Fall' 'stationärer Fall' 'teilstationärer Fall']\n",
      "CATEGORICAL: Column name: BEGDT, dtype: object, values: ['2017-01-12' '2017-01-13' '2017-01-26' ... '2020-05-07' '2020-05-09'\n",
      " '2020-05-10']\n",
      "CATEGORICAL: Column name: ENDDT, dtype: object, values: ['2017-01-13' '1753-01-01' '2018-01-23' ... '2027-05-05' '2020-07-13'\n",
      " '2021-03-31']\n",
      "CATEGORICAL: Column name: PATIENTTYP, dtype: object, values: ['Standard Patient' 'Studie: Patient hat WI-Fall' 'Notfallpatient'\n",
      " 'bekannter Workaround' 'Geburtsdatum unbekannt' 'NNAME enthält Nummer'\n",
      " 'Ringversucht' 'Studie: \"Studie\" in NNAME' 'Katatest' nan]\n",
      "CATEGORICAL: Column name: PATIENTSTATUS, dtype: object, values: ['aktiv' 'storniert' nan]\n"
     ]
    }
   ],
   "source": [
    "dim_case_df = pd.read_csv(base_folder + \"DIM_FALL.csv\", encoding=\"ISO-8859-1\")\n",
    "\n",
    "evaluate_col_classes(dim_case_df)"
   ],
   "metadata": {
    "collapsed": false,
    "pycharm": {
     "name": "#%%\n"
    }
   }
  },
  {
   "cell_type": "code",
   "execution_count": 5,
   "outputs": [
    {
     "name": "stdout",
     "output_type": "stream",
     "text": [
      "NUMERICAL: Column name: dim_geraet_bk, dtype: int64, #qty unique values: 1265\n",
      "CATEGORICAL: Column name: dim_geraet_name, dtype: object, values: ['Unknown' 'Weiss Neidhart Claudia' 'PLWC' ... 'H5G019-3' 'H5G009-1'\n",
      " 'H5G019-4']\n"
     ]
    }
   ],
   "source": [
    "dim_device_df = pd.read_csv(base_folder + \"DIM_GERAET.csv\", encoding=\"ISO-8859-1\")\n",
    "\n",
    "evaluate_col_classes(dim_device_df)"
   ],
   "metadata": {
    "collapsed": false,
    "pycharm": {
     "name": "#%%\n"
    }
   }
  },
  {
   "cell_type": "code",
   "execution_count": 6,
   "outputs": [
    {
     "name": "stdout",
     "output_type": "stream",
     "text": [
      "NUMERICAL: Column name: PATIENTID, dtype: int64, #qty unique values: 163798\n",
      "CATEGORICAL: Column name: GESCHLECHT, dtype: object, values: ['männlich' 'weiblich' nan]\n",
      "CATEGORICAL: Column name: GEBURTSDATUM, dtype: object, values: ['1972-10-12' '1978-12-11' '1971-12-31' ... '2002-07-23' '2010-03-12'\n",
      " '1932-01-30']\n",
      "CATEGORICAL: Column name: PLZ, dtype: object, values: ['3012' '3027' '1797' ... '95047' '6773' '72072']\n",
      "CATEGORICAL: Column name: WOHNORT, dtype: object, values: ['Bern' 'Münchenwiler' 'Aarberg' ... 'Bergen' 'Paterno'\n",
      " 'Prato (Leventina)']\n",
      "CATEGORICAL: Column name: KANTON, dtype: object, values: ['BE' 'FR' 'SO' 'BS' 'VS' 'NE' 'ZH' 'LU' nan 'TI' 'VD' 'AG' 'BL' 'JU' 'GR'\n",
      " 'TG' 'OW' 'SZ' 'SG' 'ZG' 'AR' 'TH' 'GE' 'GB' 'UR' 'NW' 'SH' 'HR' '38'\n",
      " 'GL' 'IT' 'AI' 'MW' 'DE' 'CA' 'HU' 'AE' 'CE' 'LB' 'ES' 'FL' 'AU' 'NL'\n",
      " 'RO' 'MC' 'ID' '06' 'PL' 'LT' 'BA' 'HK' 'DK' 'NSW' 'CZ' 'AT' 'VA' 'DV'\n",
      " 'KS' '08' 'IL' '05' 'MI' 'RU' 'FI' 'IR' 'EG' 'MT' '04' '013' 'IE' 'NG'\n",
      " '005' 'US' 'NY' '21' '94' 'SA' '34' '07' 'PT' 'ARA' '68' '02' '01' 'LA'\n",
      " 'PA' '03' 'CM']\n",
      "CATEGORICAL: Column name: SPRACHE, dtype: object, values: ['Deutsch' 'Türkisch' 'Französisch' 'Portugiesisch' 'Italienisch'\n",
      " 'Kroatisch' 'Albanisch' 'Tamil' nan 'Schwedisch' 'Niederländisch'\n",
      " 'Spanisch' 'Serbisch' 'Englisch' 'Mazedonisch' 'Tschechisch' 'Somalisch'\n",
      " 'Vietnamesisch' 'Finnisch' 'Andere' 'Chinesisch' 'Kurdisch' 'Polnisch'\n",
      " 'Arabisch' 'Serbisch(latein)' 'Thailändisch' 'Ungarisch' 'Russisch'\n",
      " 'Dänisch' 'Rätoromanisch' 'Griechisch' 'Rumänisch' 'Malaysisch'\n",
      " 'Koreanisch' 'Bulgarisch' 'Japanisch' 'Ukrainisch' 'Norwegisch'\n",
      " 'Slowakisch' 'Chinesisch trad.' 'Afrikaans' 'Slowenisch' 'Hebräisch'\n",
      " 'Isländisch' 'Litauisch']\n"
     ]
    }
   ],
   "source": [
    "dim_patient_df = pd.read_csv(base_folder + \"DIM_PATIENT.csv\", encoding=\"ISO-8859-1\")\n",
    "\n",
    "evaluate_col_classes(dim_patient_df)"
   ],
   "metadata": {
    "collapsed": false,
    "pycharm": {
     "name": "#%%\n"
    }
   }
  },
  {
   "cell_type": "code",
   "execution_count": 16,
   "outputs": [
    {
     "name": "stdout",
     "output_type": "stream",
     "text": [
      "NUMERICAL: Column name: RAUMID, dtype: int64, #qty unique values: 1374\n",
      "CATEGORICAL: Column name: RAUMNAME, dtype: object, values: ['Unknown' 'Dermatologie (Eingang 14D)' 'Überwachung_B108b' ... 'Koje_5'\n",
      " 'Koje_3' 'Koje_4']\n"
     ]
    }
   ],
   "source": [
    "dim_room_df = pd.read_csv(base_folder + \"DIM_RAUM.csv\", encoding=\"ISO-8859-1\")\n",
    "\n",
    "evaluate_col_classes(dim_room_df)\n",
    "\n",
    "#dim_room_df.sort_values(by='RAUMNAME')[\"RAUMNAME\"].to_list()"
   ],
   "metadata": {
    "collapsed": false,
    "pycharm": {
     "name": "#%%\n"
    }
   }
  },
  {
   "cell_type": "code",
   "execution_count": 8,
   "outputs": [
    {
     "name": "stdout",
     "output_type": "stream",
     "text": [
      "NUMERICAL: Column name: TERMINID, dtype: int64, #qty unique values: 4506281\n",
      "NUMERICAL/POSSIBLY CATEGORICAL: Column name: IS_DELETED, dtype: bool, unique values (#qty): [False, True], (2)\n",
      "CATEGORICAL: Column name: TERMINBEZEICHNUNG, dtype: object, values: ['KONS + BE + FIBROSCAN' 'Lucentisinjektion OS  8. IVT'\n",
      " 'Fuss*\\r\\r\\n Poli Verlaufspatient Röntgen' ...\n",
      " 'Blutung aus Iliakalgefäss ( whs. zervikal, vaginal)\\r\\r\\nAngiografie in Embolisationsbereitschaft'\n",
      " 'LISS  Plattenosteosynthese rechts' 'Olecranon Osteosynthese links']\n",
      "CATEGORICAL: Column name: TERMINART, dtype: object, values: ['KONS + BE + FIBROSCAN' 'Lucentisinjektion OS' 'Fuss Verlauf Röntgen' ...\n",
      " \"MTT Training 60'\" 'Kiefergelenksreposition offen re' 'ABE30K15T300']\n",
      "CATEGORICAL: Column name: TERMINTYP, dtype: object, values: ['Patiententermin' 'Operation' 'Gruppentermin']\n",
      "CATEGORICAL: Column name: TERMINDATUM, dtype: object, values: ['2017-03-07' '2018-03-28' '2019-02-05' ... '2022-05-19' '2022-05-08'\n",
      " '2022-05-13']\n",
      "NUMERICAL: Column name: DAUERINMIN, dtype: float64, #qty unique values: 1359\n"
     ]
    }
   ],
   "source": [
    "dim_appointment_df = pd.read_csv(base_folder + \"DIM_TERMIN.csv\", encoding=\"ISO-8859-1\")\n",
    "\n",
    "evaluate_col_classes(dim_appointment_df)"
   ],
   "metadata": {
    "collapsed": false,
    "pycharm": {
     "name": "#%%\n"
    }
   }
  },
  {
   "cell_type": "code",
   "execution_count": 9,
   "outputs": [
    {
     "name": "stdout",
     "output_type": "stream",
     "text": [
      "NUMERICAL: Column name: PATIENTID, dtype: int64, #qty unique values: 119766\n",
      "NUMERICAL: Column name: CASEID, dtype: int64, #qty unique values: 193067\n",
      "CATEGORICAL: Column name: DRUG_TEXT, dtype: object, values: ['Novalgin' 'Aspirin Cardio' 'Pantoprazol' ... 'Alges-X' 'Inflectra'\n",
      " 'Tavor']\n",
      "CATEGORICAL: Column name: DRUG_ATC, dtype: object, values: ['N02BB02' 'B01AC06' 'A02BC02' ... 'S02DZ' 'A06A' 'B05AA06']\n",
      "NUMERICAL: Column name: DRUG_QUANTITY, dtype: float64, #qty unique values: 7893\n",
      "CATEGORICAL: Column name: DRUG_UNIT, dtype: object, values: ['500 mg/1 Stk' '100 mg/1 Stk' '40 mg/1 Stk' ... '1 g/1 g'\n",
      " '0.6 ml/1 ml, 0.15 ml/1 ml, 0.25 ml/1 ml' '1.5 mcg/1 Stk']\n",
      "CATEGORICAL: Column name: DRUG_DISPFORM, dtype: object, values: ['p.o. (peroral)' 'i.v. (intravenös; Injektion)' 'i.v. (intravenös)'\n",
      " 'i.v. (intravenös; Ernährung)' 'lokal / topisch'\n",
      " 'p.o. (peroral; Zyto/CMR)' 'rectal (lokal)' 'i.m. (intramuskulär)'\n",
      " 'rectal (systemisch)' 'i.v. (intravenös; Infusion)'\n",
      " 'p.o. (peroral; Ernährung)' 'enteral über Sonde (Ernährung)'\n",
      " 's.c. (subkutan)' 'enteral über Sonde' 'transdermal' 'sublingual'\n",
      " 'buccal' 'nasal (lokal)' 'inhalativ' 'konjunktival rechts' 'peritoneal'\n",
      " 'weiteres (gem. Bemerkung)' 'konjunktival beidseitig'\n",
      " 'konjunktival links' 'i.v. (intravenös; Blutprodukt)' 'perineural'\n",
      " 'off-label p.o. (peroral)' 'intravitreal beidseitig'\n",
      " 'peridural (Infusion)' 'i.v. (intravenös; Zusatz zur Infusion)'\n",
      " 'gemäss Chemo-Verordnung' 'nasal (systemisch)' 'vaginal'\n",
      " 'intracameral beidseitig' 'i.c. (intrakutan)' 'lokale Instillation'\n",
      " 'intracameral links' 'intraartikulär' 'peritoneal (in CAPD-Lösung)'\n",
      " 'lokal infiltrativ' 'enteral über Stoma' 'auriculär'\n",
      " 'off-label i.v. (intravenös)' 'konjunktival' 'off-label inhalativ'\n",
      " 'Unknown' 'intravesikal' 'intracameral rechts' 'intrathekal'\n",
      " 'intravitreal links' 'lokale Injektion' 'intrapleural'\n",
      " 'peridural (Injektion)' 'subarachnoidal' 'intravitreal rechts'\n",
      " 'in Corpus cavernosum' 'i.a. (intrarteriell)' '[bitte wählen]']\n",
      "CATEGORICAL: Column name: DRUG_SUBMISSION, dtype: object, values: ['2018-05-30 08:00:00.0000000' '2019-10-13 14:00:00.0000000'\n",
      " '2019-09-12 22:00:00.0000000' ... '2018-06-04 17:09:00.0000000'\n",
      " '2018-08-28 20:59:00.0000000' '2018-08-15 19:39:00.0000000']\n"
     ]
    }
   ],
   "source": [
    "fact_drug_df = pd.read_csv(base_folder + \"FAKT_MEDIKAMENTE.csv\", encoding=\"ISO-8859-1\")\n",
    "\n",
    "evaluate_col_classes(fact_drug_df)"
   ],
   "metadata": {
    "collapsed": false,
    "pycharm": {
     "name": "#%%\n"
    }
   }
  },
  {
   "cell_type": "code",
   "execution_count": 4,
   "outputs": [
    {
     "name": "stdout",
     "output_type": "stream",
     "text": [
      "NUMERICAL: Column name: TERMINID, dtype: int64, #qty unique values: 3105781\n",
      "NUMERICAL: Column name: GERAETID, dtype: int64, #qty unique values: 1164\n",
      "CATEGORICAL: Column name: TERMINSTART_TS, dtype: object, values: ['2007-03-09 09:30:00.0000000' '2007-03-28 09:15:00.0000000'\n",
      " '2007-03-26 12:30:00.0000000' ... '2009-12-22 13:35:00.0000000'\n",
      " '2009-12-17 12:55:00.0000000' '2010-01-13 12:15:00.0000000']\n",
      "CATEGORICAL: Column name: TERMINENDE_TS, dtype: object, values: ['2007-03-09 10:00:00.0000000' '2007-03-28 10:00:00.0000000'\n",
      " '2007-03-26 13:00:00.0000000' ... '2010-01-12 10:40:00.0000000'\n",
      " '2009-12-22 16:34:00.0000000' '2009-12-17 18:53:00.0000000']\n",
      "NUMERICAL: Column name: DAUERINMIN, dtype: float64, #qty unique values: 1632\n"
     ]
    }
   ],
   "source": [
    "fact_appointment_device_df = pd.read_csv(base_folder + \"FAKT_TERMIN_GERAET.csv\", encoding=\"ISO-8859-1\")\n",
    "\n",
    "evaluate_col_classes(fact_appointment_device_df)"
   ],
   "metadata": {
    "collapsed": false,
    "pycharm": {
     "name": "#%%\n"
    }
   }
  },
  {
   "cell_type": "code",
   "execution_count": 12,
   "outputs": [
    {
     "name": "stdout",
     "output_type": "stream",
     "text": [
      "NUMERICAL: Column name: TERMINID, dtype: int64, #qty unique values: 6351344\n",
      "NUMERICAL: Column name: MITARBEITERID, dtype: int64, #qty unique values: 6474\n",
      "CATEGORICAL: Column name: TERMINSTART_TS, dtype: object, values: ['2011-01-13 09:15:00.0000000' '2009-12-22 08:30:00.0000000'\n",
      " '2010-01-07 14:45:00.0000000' ... '2019-12-17 15:55:00.0000000'\n",
      " '2019-11-23 21:52:00.0000000' '2019-12-13 11:42:00.0000000']\n",
      "CATEGORICAL: Column name: TERMINENDE_TS, dtype: object, values: ['2011-01-13 10:00:00.0000000' '2009-12-22 09:00:00.0000000'\n",
      " '2010-01-07 15:15:00.0000000' ... '2019-11-23 18:14:00.0000000'\n",
      " '2019-11-24 01:03:00.0000000' '2020-01-08 07:45:00.0000000']\n",
      "NUMERICAL: Column name: DAUERINMIN, dtype: float64, #qty unique values: 1331\n"
     ]
    }
   ],
   "source": [
    "fact_appointment_employee_df = pd.read_csv(base_folder + \"FAKT_TERMIN_MITARBEITER.csv\", encoding=\"ISO-8859-1\")\n",
    "\n",
    "evaluate_col_classes(fact_appointment_employee_df)"
   ],
   "metadata": {
    "collapsed": false,
    "pycharm": {
     "name": "#%%\n"
    }
   }
  },
  {
   "cell_type": "code",
   "execution_count": 5,
   "outputs": [
    {
     "name": "stdout",
     "output_type": "stream",
     "text": [
      "NUMERICAL: Column name: TERMINID, dtype: float64, #qty unique values: 909909\n",
      "NUMERICAL: Column name: PATIENTID, dtype: float64, #qty unique values: 102582\n",
      "NUMERICAL: Column name: FALLID, dtype: int64, #qty unique values: 161005\n"
     ]
    }
   ],
   "source": [
    "fact_appointment_patient_df = pd.read_csv(base_folder + \"FAKT_TERMIN_PATIENT.csv\", encoding=\"ISO-8859-1\")\n",
    "\n",
    "evaluate_col_classes(fact_appointment_patient_df)"
   ],
   "metadata": {
    "collapsed": false,
    "pycharm": {
     "name": "#%%\n"
    }
   }
  },
  {
   "cell_type": "code",
   "execution_count": 14,
   "outputs": [
    {
     "name": "stdout",
     "output_type": "stream",
     "text": [
      "NUMERICAL: Column name: TERMINID, dtype: float64, #qty unique values: 2685296\n",
      "NUMERICAL: Column name: RAUMID, dtype: float64, #qty unique values: 1041\n",
      "CATEGORICAL: Column name: RAUMNAME, dtype: object, values: ['Blutentnahme F 20' 'Gyn/Geb OP Sectio' 'ANGP Koje 5' ... '61_Raum1'\n",
      " 'SCTA CT' 'Handtherapie A 432']\n",
      "CATEGORICAL: Column name: TERMINSTART_TS, dtype: object, values: ['2018-10-30 14:45:00.0000000' '2020-05-07 06:09:00.0000000'\n",
      " '2018-03-13 15:30:00.0000000' ... '2017-02-27 17:27:00.0000000'\n",
      " '2018-05-31 15:37:00.0000000' '2020-01-06 17:22:00.0000000']\n",
      "CATEGORICAL: Column name: TERMINENDE_TS, dtype: object, values: ['2018-10-30 15:00:00.0000000' '2020-05-07 06:10:00.0000000'\n",
      " '2018-03-13 16:55:00.0000000' ... '2019-08-15 14:02:00.0000000'\n",
      " '2018-11-27 10:13:00.0000000' '2020-01-06 17:42:00.0000000']\n",
      "NUMERICAL: Column name: DAUERINMIN, dtype: float64, #qty unique values: 1085\n"
     ]
    }
   ],
   "source": [
    "fact_appointment_room_df = pd.read_csv(base_folder + \"FAKT_TERMIN_RAUM.csv\", encoding=\"ISO-8859-1\")\n",
    "\n",
    "evaluate_col_classes(fact_appointment_room_df)"
   ],
   "metadata": {
    "collapsed": false,
    "pycharm": {
     "name": "#%%\n"
    }
   }
  },
  {
   "cell_type": "code",
   "execution_count": 17,
   "outputs": [
    {
     "name": "stdout",
     "output_type": "stream",
     "text": [
      "CATEGORICAL: Column name: CHOPCODE, dtype: object, values: ['C0' 'C1' 'C10' ... 'ZBB.1O' 'ZBB.1P' 'ZBB.1Q']\n",
      "NUMERICAL/POSSIBLY CATEGORICAL: Column name: CHOPVERWENDUNGSJAHR, dtype: int64, unique values (#qty): [2009, 2010, 2011, 2012, 2013, 2014, 2015, 2016, 2017, 2018, 2019, 2020], (12)\n",
      "CATEGORICAL: Column name: CHOP, dtype: object, values: ['Massnahmen und Interventionen nicht anderswo Klassifizierbar (00)'\n",
      " 'Massnahmen und Interventionen nicht anderswo klassifizierbar (00)'\n",
      " 'Operationen am Nervensystem (01\\x9605)' ...\n",
      " 'Zusatzaufwand in der Rehabilitation, mindestens 601 bis 650 Aufwandspunkte'\n",
      " 'Zusatzaufwand in der Rehabilitation, mindestens 651 bis 700 Aufwandspunkte'\n",
      " 'Zusatzaufwand in der Rehabilitation, 701 und mehr Aufwandspunkte']\n",
      "CATEGORICAL: Column name: CHOPCODELEVEL1, dtype: object, values: ['C0' 'C1' 'C10' 'C11' 'C12' 'C13' 'C14' 'C15' 'C16' 'C17' 'C18' 'C2' 'C3'\n",
      " 'C4' 'C5' 'C6' 'C7' 'C8' 'C9']\n",
      "CATEGORICAL: Column name: CHOPLEVEL1, dtype: object, values: ['Massnahmen und Interventionen nicht anderswo Klassifizierbar (00)'\n",
      " 'Massnahmen und Interventionen nicht anderswo klassifizierbar (00)'\n",
      " 'Operationen am Nervensystem (01\\x9605)'\n",
      " 'Operationen an den Harnorganen (55\\x9659)'\n",
      " 'Operationen an den männlichen Geschlechtsorganen (60\\x9664)'\n",
      " 'Operationen an den weiblichen Geschlechtsorganen (65\\x9671)'\n",
      " 'Geburtshilfliche Operationen (72\\x9675)'\n",
      " 'Operationen an den Bewegungsorganen (76\\x9684)'\n",
      " 'Operationen am Integument (85\\x9686)'\n",
      " 'Verschiedene diagnostische und therapeutische Massnahmen (87\\x9699)'\n",
      " 'Messinstrumente' 'Messinstrumente (AA)' 'Rehabilitation (BA-BB)'\n",
      " 'Operationen am Endokrinen System (06\\x9607)'\n",
      " 'Operationen an den Augen (08\\x9616)'\n",
      " 'Operationen an den Ohren (18\\x9620)'\n",
      " 'Operationen an Nase, Mund und Pharynx (21\\x9629)'\n",
      " 'Operationen am Respiratorischen System (30\\x9634)'\n",
      " 'Operationen am respiratorischen System (30\\x9634)'\n",
      " 'Operationen am Kardiovaskulären System (35\\x9639)'\n",
      " 'Operationen am kardiovaskulären System (35\\x9639)'\n",
      " 'Operationen am Hämatopoetischen und Lymphgefässsystem (40\\x9641)'\n",
      " 'Operationen am Verdauungstrakt (42\\x9654)']\n",
      "CATEGORICAL: Column name: CHOPCODELEVEL2, dtype: object, values: [nan 'Z00' 'Z01' 'Z02' 'Z03' 'Z04' 'Z05' 'Z06' 'Z07' 'Z08' 'Z09' 'Z10'\n",
      " 'Z11' 'Z12' 'Z13' 'Z14' 'Z15' 'Z16' 'Z18' 'Z19' 'Z20' 'Z21' 'Z22' 'Z23'\n",
      " 'Z24' 'Z25' 'Z26' 'Z27' 'Z28' 'Z29' 'Z30' 'Z31' 'Z32' 'Z33' 'Z34' 'Z35'\n",
      " 'Z36' 'Z37' 'Z38' 'Z39' 'Z40' 'Z41' 'Z42' 'Z43' 'Z44' 'Z45' 'Z46' 'Z47'\n",
      " 'Z48' 'Z49' 'Z50' 'Z51' 'Z52' 'Z53' 'Z54' 'Z55' 'Z56' 'Z57' 'Z58' 'Z59'\n",
      " 'Z60' 'Z61' 'Z62' 'Z63' 'Z64' 'Z65' 'Z66' 'Z67' 'Z68' 'Z69' 'Z70' 'Z71'\n",
      " 'Z72' 'Z73' 'Z74' 'Z75' 'Z76' 'Z77' 'Z78' 'Z79' 'Z7A' 'Z80' 'Z81' 'Z82'\n",
      " 'Z83' 'Z84' 'Z85' 'Z86' 'Z87' 'Z88' 'Z89' 'Z90' 'Z91' 'Z92' 'Z93' 'Z94'\n",
      " 'Z95' 'Z96' 'Z97' 'Z98' 'Z99' 'ZAA' 'ZBA' 'ZBB']\n",
      "CATEGORICAL: Column name: CHOPLEVEL2, dtype: object, values: [nan 'Massnahmen und Interventionen nicht anderswo klassifizierbar'\n",
      " 'Inzision und Exzision an Schädel, Gehirn und Hirnhäuten'\n",
      " 'Sonstige Operationen an Schädel, Gehirn und Hirnhäuten'\n",
      " 'Operationen an Rückenmark und Strukturen des Spinalkanals'\n",
      " 'Operationen an kranialen und peripheren Nerven'\n",
      " 'Parazervikale Denervation am Uterus (69.3)'\n",
      " 'Operationen an Schilddrüse und Nebenschilddrüse (Parathyreoidea)'\n",
      " 'Operationen an der Hypophyse' 'Operationen an den Augenbrauen'\n",
      " 'Operationen am Tränensystem' 'Operationen an der Konjunktiva'\n",
      " 'Operationen an der Kornea' 'Operationen an der Kornea (11.0-11.99)'\n",
      " 'Operationen an der Linse'\n",
      " 'Operationen an Retina, Chorioidea, Glaskörper und hinterer Augenkammer'\n",
      " 'Operationen an den äusseren Augenmuskeln'\n",
      " 'Reposition einer Orbitafraktur (76.78-76.79)'\n",
      " 'Operationen an Haut und Knorpel von Ohrmuschel und Gehörgang'\n",
      " 'Plastische Rekonstruktion am Mittelohr'\n",
      " 'Sonstige Operationen an Mittel- und Innenohr' 'Operationen an der Nase'\n",
      " 'Operationen an den Nasennebenhöhlen' 'Zahnextraktion und Zahnsanierung'\n",
      " 'Sonstige Operationen an Zähnen, Zahnfleisch und Alveolen'\n",
      " 'Operationen an der Zunge' 'Operationen an Speicheldrüsen und -gängen'\n",
      " 'Sonstige Operationen an Mundhöhle und Gesicht'\n",
      " 'Operationen an Tonsillen und Adenoiden'\n",
      " 'Operationen am Sinus piriformis' 'Exzision am Larynx'\n",
      " 'Sonstige Operationen an Larynx und Trachea'\n",
      " 'Thorakotomie als operativer Zugang'\n",
      " 'Operationen an der Mamma (85.0-85.99)' 'Operationen an der Mamma (85.-)'\n",
      " 'Thorakotomie als operativer Zugang *'\n",
      " 'Operationen an Herzklappen und -septen'\n",
      " 'Jede Injektion oder Infusion von Plättchenaggregationshemmer (99.20)'\n",
      " 'Andere Operationen am Herz und Perikard'\n",
      " 'Kardiopulmonaler Bypass [extrakorporelle Zirkulation (ECC)] [Herz-Lungen-Maschine] (39.61)'\n",
      " 'Kardiopulmonaler Bypass [Extrakorporelle Zirkulation (ECC)] (39.61.-)'\n",
      " 'Operationen an Herzgefässen (36.-)'\n",
      " 'Operation an Koronargefässen (36.00-36.99)'\n",
      " 'Operation an Koronargefässen (36)' 'Operationen am lymphatischen System'\n",
      " 'Operationen an Knochenmark und Milz' 'Operationen am Ösophagus'\n",
      " 'Inzision und Exzision am Magen' 'Sonstige Operationen am Magen'\n",
      " 'Inzision, Exzision und Anastomose am Darm'\n",
      " 'Sonstige Operationen am Darm' 'Operationen an der Appendix'\n",
      " 'Schlingenligatur und Clippen am Darm' 'Zäkumpolresektion'\n",
      " 'Operationen an Rektum, Rektosigmoid und Perirektalgewebe'\n",
      " 'Operationen am Anus' 'Operationen an der Leber'\n",
      " 'Operationen an: Ampulla Vateri, Ductus choledochus, Ductus cysticus, Ductus hepaticus, intrahepatischen Gallengängen, Sphincter Oddii'\n",
      " 'Operationen am Pankreas' 'Manuelle Reposition einer Hernie (96.27)'\n",
      " 'Verwendung einer intakten, azellulären, nicht quervernetzten Matrix aus Schweinegewebe (54.99.71)'\n",
      " 'Verwendung einer intakten, azellulären, nicht quervernetzten Matrix aus Schweinegewebe (00.9A.28)'\n",
      " 'Verwendung einer intakten, azellulären Matrix aus Schweinegewebe (quervernetzt oder nicht quervernetzt) (00.9A.2A)'\n",
      " 'Sonstige Operationen in der Abdominalgegend' 'Operationen an der Niere'\n",
      " 'Operationen am Ureter' 'Operationen an der Harnblase'\n",
      " 'Operationen an der Urethra' 'Sonstige Operationen an den Harnwegen'\n",
      " 'Radikale Zystektomie (57.71)'\n",
      " 'Operationen an Skrotum und Tunica vaginalis testis'\n",
      " 'Operationen an den Hoden'\n",
      " 'Operationen an Funiculus spermaticus, Epididymis und Ductus deferens'\n",
      " 'Operationen an Corpora cavernosa, Glans penis, Präputium'\n",
      " 'Operationen am Ovar' 'Operationen an den Tubae uterinae'\n",
      " 'Operationen an der Cervix uteri'\n",
      " 'Sonstige Inzision und Exzision am Uterus'\n",
      " 'Sonstige Operationen an Uterus und uterinem Halteapparat'\n",
      " 'Operationen an Vagina und Douglasraum'\n",
      " 'Operationen an Vulva und Perineum'\n",
      " 'Entbindung mit Zange, Vakuum und bei Beckenendlage'\n",
      " 'Sonstige einleitende oder unterstützende geburtshilfliche Massnahmen'\n",
      " 'Sectio caesarea und Extraktion des Fetus'\n",
      " 'Sonstige geburtshilfliche Operationen'\n",
      " 'Sonstige geburtshilfliche Operationen und Eingriffe am Fetus'\n",
      " 'Operationen an Nasennebenhöhlen (22.00-22.9)'\n",
      " 'Operation an akzessorischen Sinus (22.00-22.9)'\n",
      " 'Operationen an Knochen und Gelenken der Wirbelsäule (7A.-)'\n",
      " 'Transplantat zur Knochenverlängerung (78.30-78.39) *'\n",
      " 'Sonstige Operationen an Knochen, ausser Gesichtsschädelknochen'\n",
      " 'Traktion ausschliesslich zur Reposition der Fraktur (93.41-93.46)'\n",
      " 'Zusatzinformationen zur Höhe des Eingriffs an der Wirbelsäule (7A.B1.-)'\n",
      " 'Operation an Gelenkkapsel, Knorpel, Kondylen, Ligamenten, Meniskus, Synovialmembran'\n",
      " 'Plastische Rekonstruktion an Gelenkstrukturen'\n",
      " 'Operationen an Muskeln, Sehnen und Faszien der Hand'\n",
      " 'Operationen an: Aponeurose, Synovialmembran von Bursa oder Sehnenscheide, Sehnenscheide'\n",
      " 'Sonstige Massnahmen am Bewegungsapparat' 'Operationen an der Mamma'\n",
      " 'Regionale Lymphadenektomie im Rahmen eines anderen Eingriffs (40.3X.2-)'\n",
      " 'Operationen an subkutanen Fettpolstern'\n",
      " 'Wenn im Kode präzisiert enstspricht kleinflächig einer Fläche bis 4 cm2.'\n",
      " 'Wenn im Kode präzisiert entspricht kleinflächig einer Fläche bis 4 cm2.'\n",
      " 'Wenn im Kode präzisiert entspricht kleinflächig, resp. lokal, einer Fläche bis 4 cm2 oder einem Raum bis zu 1 cm3.'\n",
      " 'Wenn im Kode präzisiert entspricht kleinflächig einer Fläche bis und gleich 4 cm2. Werden Eingriffe der selben Art, mehrfach in der gleichen anatomischen Region durchgeführt und ist deren Gesamtfläche über 4 cm2, so kann ein Kode mit der Bezeichnung grossflächig verwendet werden. Dies gilt nur für Eingriffe gleicher Natur sowie in gleicher anatomischer Region. Die anatomischen Regionen sind wie folgt differenziert: Kopf, Hals, Schulter sowie Axilla, Oberarm sowie Ellenbogen, Unterarm, Hand, Brustwand sowie Rücken, Bauchregion sowie Leiste, Gesäss, Oberschenkel sowie Knie, Unterschenkel, Fuss.'\n",
      " 'Diagnostische Radiologie'\n",
      " 'Sonstige diagnostische Radiologie und verwandte Verfahren'\n",
      " 'Befragung, Beurteilung, Konsultation, und Untersuchung'\n",
      " 'Mikroskopische Untersuchung - I' 'Mikroskopische Untersuchung - II'\n",
      " 'Nuklearmedizin'\n",
      " 'Physiotherapie, Atemtherapie, Rehabilitation und verwandte Verfahren'\n",
      " 'Auf die Psyche bezogene Massnahmen'\n",
      " 'Ophthalmologische und otologische Diagnose und Therapie'\n",
      " 'Nicht-operative Sondeneinlage und Spülung'\n",
      " 'Ersetzen und Entfernen von therapeutischen Vorrichtungen'\n",
      " 'Nicht-operatives Entfernen eines Fremdkörpers oder Konkrements'\n",
      " 'Sonstige nicht-operative Verfahren'\n",
      " 'Messinstrumente für die Rehabilitation'\n",
      " 'Zusätzliche in der Rehabilitation erbrachte Leistungen sind über entsprechende CHOP-Kodes abzubilden. Es gelten dabei die allgemeinen Kodierungsrichtlinien.'\n",
      " 'Zusatzaufwand in der Rehabilitation']\n",
      "CATEGORICAL: Column name: CHOPCODELEVEL3, dtype: object, values: [nan 'Z00.0' 'Z00.1' 'Z00.2' 'Z00.3' 'Z00.4' 'Z00.5' 'Z00.6' 'Z00.7'\n",
      " 'Z00.8' 'Z00.9' 'Z01.0' 'Z01.1' 'Z01.2' 'Z01.3' 'Z01.4' 'Z01.5' 'Z01.6'\n",
      " 'Z02.0' 'Z02.1' 'Z02.2' 'Z02.3' 'Z02.4' 'Z02.5' 'Z02.9' 'Z03.0' 'Z03.1'\n",
      " 'Z03.2' 'Z03.3' 'Z03.4' 'Z03.5' 'Z03.6' 'Z03.7' 'Z03.8' 'Z03.9' 'Z04.0'\n",
      " 'Z04.1' 'Z04.2' 'Z04.3' 'Z04.4' 'Z04.5' 'Z04.6' 'Z04.7' 'Z04.8' 'Z04.9'\n",
      " 'Z05.0' 'Z05.1' 'Z05.2' 'Z05.3' 'Z05.8' 'Z05.9' 'Z06.0' 'Z06.1' 'Z06.2'\n",
      " 'Z06.3' 'Z06.4' 'Z06.5' 'Z06.6' 'Z06.7' 'Z06.8' 'Z06.9' 'Z07.0' 'Z07.1'\n",
      " 'Z07.2' 'Z07.3' 'Z07.4' 'Z07.5' 'Z07.6' 'Z07.7' 'Z07.8' 'Z07.9' 'Z08.0'\n",
      " 'Z08.1' 'Z08.2' 'Z08.3' 'Z08.4' 'Z08.5' 'Z08.6' 'Z08.7' 'Z08.8' 'Z08.9'\n",
      " 'Z09.0' 'Z09.1' 'Z09.2' 'Z09.3' 'Z09.4' 'Z09.5' 'Z09.6' 'Z09.7' 'Z09.8'\n",
      " 'Z09.9' 'Z10.0' 'Z10.1' 'Z10.2' 'Z10.3' 'Z10.4' 'Z10.5' 'Z10.6' 'Z10.9'\n",
      " 'Z11.0' 'Z11.1' 'Z11.2' 'Z11.3' 'Z11.4' 'Z11.5' 'Z11.6' 'Z11.7' 'Z11.9'\n",
      " 'Z12.0' 'Z12.1' 'Z12.2' 'Z12.3' 'Z12.4' 'Z12.5' 'Z12.6' 'Z12.7' 'Z12.8'\n",
      " 'Z12.9' 'Z13.0' 'Z13.1' 'Z13.2' 'Z13.3' 'Z13.4' 'Z13.5' 'Z13.6' 'Z13.7'\n",
      " 'Z13.8' 'Z13.9' 'Z14.0' 'Z14.1' 'Z14.2' 'Z14.3' 'Z14.4' 'Z14.5' 'Z14.6'\n",
      " 'Z14.7' 'Z14.9' 'Z15.0' 'Z15.1' 'Z15.2' 'Z15.3' 'Z15.4' 'Z15.5' 'Z15.6'\n",
      " 'Z15.7' 'Z15.9' 'Z16.0' 'Z16.1' 'Z16.2' 'Z16.3' 'Z16.4' 'Z16.5' 'Z16.6'\n",
      " 'Z16.7' 'Z16.8' 'Z16.9' 'Z18.0' 'Z18.1' 'Z18.2' 'Z18.3' 'Z18.4' 'Z18.5'\n",
      " 'Z18.6' 'Z18.7' 'Z18.9' 'Z19.0' 'Z19.1' 'Z19.2' 'Z19.3' 'Z19.4' 'Z19.5'\n",
      " 'Z19.6' 'Z19.9' 'Z20.0' 'Z20.1' 'Z20.2' 'Z20.3' 'Z20.4' 'Z20.5' 'Z20.6'\n",
      " 'Z20.7' 'Z20.8' 'Z20.9' 'Z21.0' 'Z21.1' 'Z21.2' 'Z21.3' 'Z21.4' 'Z21.5'\n",
      " 'Z21.6' 'Z21.7' 'Z21.8' 'Z21.9' 'Z22.0' 'Z22.1' 'Z22.2' 'Z22.3' 'Z22.4'\n",
      " 'Z22.5' 'Z22.6' 'Z22.7' 'Z22.9' 'Z23.0' 'Z23.1' 'Z23.2' 'Z23.3' 'Z23.4'\n",
      " 'Z23.5' 'Z23.6' 'Z23.7' 'Z23.8' 'Z23.9' 'Z23.A' 'Z24.0' 'Z24.1' 'Z24.2'\n",
      " 'Z24.3' 'Z24.4' 'Z24.5' 'Z24.6' 'Z24.7' 'Z24.8' 'Z24.9' 'Z25.0' 'Z25.1'\n",
      " 'Z25.2' 'Z25.3' 'Z25.4' 'Z25.5' 'Z25.9' 'Z26.0' 'Z26.1' 'Z26.2' 'Z26.3'\n",
      " 'Z26.4' 'Z26.9' 'Z27.0' 'Z27.1' 'Z27.2' 'Z27.3' 'Z27.4' 'Z27.5' 'Z27.6'\n",
      " 'Z27.7' 'Z27.9' 'Z28.0' 'Z28.1' 'Z28.2' 'Z28.3' 'Z28.4' 'Z28.5' 'Z28.6'\n",
      " 'Z28.7' 'Z28.9' 'Z29.0' 'Z29.1' 'Z29.2' 'Z29.3' 'Z29.4' 'Z29.5' 'Z29.9'\n",
      " 'Z30.0' 'Z30.1' 'Z30.2' 'Z30.3' 'Z30.4' 'Z31.0' 'Z31.1' 'Z31.2' 'Z31.3'\n",
      " 'Z31.4' 'Z31.5' 'Z31.6' 'Z31.7' 'Z31.9' 'Z32.0' 'Z32.1' 'Z32.2' 'Z32.3'\n",
      " 'Z32.4' 'Z32.5' 'Z32.6' 'Z32.9' 'Z33.0' 'Z33.1' 'Z33.2' 'Z33.3' 'Z33.4'\n",
      " 'Z33.5' 'Z33.6' 'Z33.7' 'Z33.9' 'Z34.0' 'Z34.1' 'Z34.2' 'Z34.3' 'Z34.4'\n",
      " 'Z34.5' 'Z34.6' 'Z34.7' 'Z34.8' 'Z34.9' 'Z35.0' 'Z35.1' 'Z35.2' 'Z35.3'\n",
      " 'Z35.4' 'Z35.5' 'Z35.6' 'Z35.7' 'Z35.8' 'Z35.9' 'Z35.A' 'Z35.B' 'Z35.C'\n",
      " 'Z35.D' 'Z35.E' 'Z35.F' 'Z35.G' 'Z35.H' 'Z35.I' 'Z35.J' 'Z36.0' 'Z36.1'\n",
      " 'Z36.2' 'Z36.3' 'Z36.9' 'Z37.0' 'Z37.1' 'Z37.2' 'Z37.3' 'Z37.4' 'Z37.5'\n",
      " 'Z37.6' 'Z37.7' 'Z37.8' 'Z37.9' 'Z38.0' 'Z38.1' 'Z38.2' 'Z38.3' 'Z38.4'\n",
      " 'Z38.5' 'Z38.6' 'Z38.7' 'Z38.8' 'Z38.9' 'Z39.0' 'Z39.1' 'Z39.2' 'Z39.3'\n",
      " 'Z39.4' 'Z39.5' 'Z39.6' 'Z39.7' 'Z39.8' 'Z39.9' 'Z39.A' 'Z39.B' 'Z39.C'\n",
      " 'Z40.0' 'Z40.1' 'Z40.2' 'Z40.3' 'Z40.4' 'Z40.5' 'Z40.6' 'Z40.7' 'Z40.9'\n",
      " 'Z41.0' 'Z41.1' 'Z41.2' 'Z41.3' 'Z41.4' 'Z41.5' 'Z41.9' 'Z42.0' 'Z42.1'\n",
      " 'Z42.2' 'Z42.3' 'Z42.4' 'Z42.5' 'Z42.6' 'Z42.7' 'Z42.8' 'Z42.9' 'Z43.0'\n",
      " 'Z43.1' 'Z43.3' 'Z43.4' 'Z43.5' 'Z43.6' 'Z43.7' 'Z43.8' 'Z43.9' 'Z44.0'\n",
      " 'Z44.1' 'Z44.2' 'Z44.3' 'Z44.4' 'Z44.5' 'Z44.6' 'Z44.9' 'Z45.0' 'Z45.1'\n",
      " 'Z45.2' 'Z45.3' 'Z45.4' 'Z45.5' 'Z45.6' 'Z45.7' 'Z45.8' 'Z45.9' 'Z46.0'\n",
      " 'Z46.1' 'Z46.2' 'Z46.3' 'Z46.4' 'Z46.5' 'Z46.6' 'Z46.7' 'Z46.8' 'Z46.9'\n",
      " 'Z47.0' 'Z47.1' 'Z47.2' 'Z47.9' 'Z48.0' 'Z48.1' 'Z48.2' 'Z48.3' 'Z48.4'\n",
      " 'Z48.5' 'Z48.6' 'Z48.7' 'Z48.8' 'Z48.9' 'Z49.0' 'Z49.1' 'Z49.2' 'Z49.3'\n",
      " 'Z49.4' 'Z49.5' 'Z49.6' 'Z49.7' 'Z49.9' 'Z50.0' 'Z50.1' 'Z50.2' 'Z50.3'\n",
      " 'Z50.4' 'Z50.5' 'Z50.6' 'Z50.7' 'Z50.9' 'Z51.0' 'Z51.1' 'Z51.2' 'Z51.3'\n",
      " 'Z51.4' 'Z51.5' 'Z51.6' 'Z51.7' 'Z51.8' 'Z51.9' 'Z52.0' 'Z52.1' 'Z52.2'\n",
      " 'Z52.3' 'Z52.4' 'Z52.5' 'Z52.6' 'Z52.7' 'Z52.8' 'Z52.9' 'Z53.0' 'Z53.1'\n",
      " 'Z53.2' 'Z53.3' 'Z53.4' 'Z53.5' 'Z53.6' 'Z53.7' 'Z53.8' 'Z53.9' 'Z54.0'\n",
      " 'Z54.1' 'Z54.2' 'Z54.3' 'Z54.4' 'Z54.5' 'Z54.6' 'Z54.7' 'Z54.9' 'Z54.A'\n",
      " 'Z55.0' 'Z55.1' 'Z55.2' 'Z55.3' 'Z55.4' 'Z55.5' 'Z55.6' 'Z55.7' 'Z55.8'\n",
      " 'Z55.9' 'Z56.0' 'Z56.1' 'Z56.2' 'Z56.3' 'Z56.4' 'Z56.5' 'Z56.6' 'Z56.7'\n",
      " 'Z56.8' 'Z56.9' 'Z57.0' 'Z57.1' 'Z57.2' 'Z57.3' 'Z57.4' 'Z57.5' 'Z57.6'\n",
      " 'Z57.7' 'Z57.8' 'Z57.9' 'Z58.0' 'Z58.1' 'Z58.2' 'Z58.3' 'Z58.4' 'Z58.5'\n",
      " 'Z58.6' 'Z58.9' 'Z59.0' 'Z59.1' 'Z59.2' 'Z59.3' 'Z59.4' 'Z59.5' 'Z59.6'\n",
      " 'Z59.7' 'Z59.8' 'Z59.9' 'Z60.0' 'Z60.1' 'Z60.2' 'Z60.3' 'Z60.4' 'Z60.5'\n",
      " 'Z60.6' 'Z60.7' 'Z60.8' 'Z60.9' 'Z61.0' 'Z61.1' 'Z61.2' 'Z61.3' 'Z61.4'\n",
      " 'Z61.9' 'Z62.0' 'Z62.1' 'Z62.2' 'Z62.3' 'Z62.4' 'Z62.5' 'Z62.6' 'Z62.7'\n",
      " 'Z62.9' 'Z63.0' 'Z63.1' 'Z63.2' 'Z63.3' 'Z63.4' 'Z63.5' 'Z63.6' 'Z63.7'\n",
      " 'Z63.8' 'Z63.9' 'Z64.0' 'Z64.1' 'Z64.2' 'Z64.3' 'Z64.4' 'Z64.5' 'Z64.9'\n",
      " 'Z65.0' 'Z65.1' 'Z65.2' 'Z65.3' 'Z65.4' 'Z65.5' 'Z65.6' 'Z65.7' 'Z65.8'\n",
      " 'Z65.9' 'Z66.0' 'Z66.1' 'Z66.2' 'Z66.3' 'Z66.4' 'Z66.5' 'Z66.6' 'Z66.7'\n",
      " 'Z66.8' 'Z66.9' 'Z66.A' 'Z66.B' 'Z67.0' 'Z67.1' 'Z67.2' 'Z67.3' 'Z67.4'\n",
      " 'Z67.5' 'Z67.6' 'Z68.0' 'Z68.1' 'Z68.2' 'Z68.3' 'Z68.4' 'Z68.5' 'Z68.6'\n",
      " 'Z68.7' 'Z68.8' 'Z68.9' 'Z69.0' 'Z69.1' 'Z69.2' 'Z69.3' 'Z69.4' 'Z69.5'\n",
      " 'Z69.6' 'Z69.7' 'Z69.9' 'Z70.0' 'Z70.1' 'Z70.2' 'Z70.3' 'Z70.4' 'Z70.5'\n",
      " 'Z70.6' 'Z70.7' 'Z70.8' 'Z70.9' 'Z71.0' 'Z71.1' 'Z71.2' 'Z71.3' 'Z71.4'\n",
      " 'Z71.5' 'Z71.6' 'Z71.7' 'Z71.8' 'Z71.9' 'Z72.0' 'Z72.1' 'Z72.2' 'Z72.3'\n",
      " 'Z72.4' 'Z72.5' 'Z72.6' 'Z72.7' 'Z72.8' 'Z72.9' 'Z73.0' 'Z73.1' 'Z73.2'\n",
      " 'Z73.3' 'Z73.4' 'Z73.5' 'Z73.6' 'Z73.7' 'Z73.8' 'Z73.9' 'Z74.0' 'Z74.1'\n",
      " 'Z74.2' 'Z74.3' 'Z74.4' 'Z74.9' 'Z75.0' 'Z75.1' 'Z75.2' 'Z75.3' 'Z75.4'\n",
      " 'Z75.5' 'Z75.6' 'Z75.7' 'Z75.8' 'Z75.9' 'Z75.A' 'Z75.B' 'Z75.C' 'Z75.D'\n",
      " 'Z75.E' 'Z75.F' 'Z76.0' 'Z76.1' 'Z76.2' 'Z76.3' 'Z76.4' 'Z76.5' 'Z76.6'\n",
      " 'Z76.7' 'Z76.9' 'Z77.0' 'Z77.1' 'Z77.2' 'Z77.3' 'Z77.4' 'Z77.5' 'Z77.6'\n",
      " 'Z77.7' 'Z77.8' 'Z77.9' 'Z78.0' 'Z78.1' 'Z78.2' 'Z78.3' 'Z78.4' 'Z78.5'\n",
      " 'Z78.6' 'Z78.7' 'Z78.8' 'Z78.9' 'Z79.0' 'Z79.1' 'Z79.2' 'Z79.3' 'Z79.4'\n",
      " 'Z79.5' 'Z79.6' 'Z79.7' 'Z79.8' 'Z79.9' 'Z79.A' 'Z7A.1' 'Z7A.2' 'Z7A.3'\n",
      " 'Z7A.4' 'Z7A.5' 'Z7A.6' 'Z7A.7' 'Z7A.8' 'Z7A.A' 'Z7A.B' 'Z80.0' 'Z80.1'\n",
      " 'Z80.2' 'Z80.3' 'Z80.4' 'Z80.5' 'Z80.6' 'Z80.7' 'Z80.8' 'Z80.9' 'Z81.0'\n",
      " 'Z81.1' 'Z81.2' 'Z81.3' 'Z81.4' 'Z81.5' 'Z81.6' 'Z81.7' 'Z81.8' 'Z81.9'\n",
      " 'Z81.A' 'Z82.0' 'Z82.1' 'Z82.2' 'Z82.3' 'Z82.4' 'Z82.5' 'Z82.6' 'Z82.7'\n",
      " 'Z82.8' 'Z82.9' 'Z83.0' 'Z83.1' 'Z83.2' 'Z83.3' 'Z83.4' 'Z83.5' 'Z83.6'\n",
      " 'Z83.7' 'Z83.8' 'Z83.9' 'Z84.0' 'Z84.1' 'Z84.2' 'Z84.3' 'Z84.4' 'Z84.5'\n",
      " 'Z84.6' 'Z84.7' 'Z84.8' 'Z84.9' 'Z84.A' 'Z85.0' 'Z85.1' 'Z85.2' 'Z85.3'\n",
      " 'Z85.4' 'Z85.5' 'Z85.6' 'Z85.7' 'Z85.8' 'Z85.9' 'Z85.A' 'Z85.B' 'Z85.C'\n",
      " 'Z85.D' 'Z85.E' 'Z85.F' 'Z85.G' 'Z85.H' 'Z85.I' 'Z85.J' 'Z85.K' 'Z86.0'\n",
      " 'Z86.1' 'Z86.2' 'Z86.3' 'Z86.4' 'Z86.5' 'Z86.6' 'Z86.7' 'Z86.8' 'Z86.9'\n",
      " 'Z86.A' 'Z86.B' 'Z87.0' 'Z87.1' 'Z87.2' 'Z87.3' 'Z87.4' 'Z87.5' 'Z87.6'\n",
      " 'Z87.7' 'Z87.8' 'Z87.9' 'Z88.0' 'Z88.1' 'Z88.2' 'Z88.3' 'Z88.4' 'Z88.5'\n",
      " 'Z88.6' 'Z88.7' 'Z88.8' 'Z88.9' 'Z89.0' 'Z89.1' 'Z89.2' 'Z89.3' 'Z89.4'\n",
      " 'Z89.5' 'Z89.6' 'Z89.7' 'Z89.8' 'Z89.9' 'Z90.0' 'Z90.1' 'Z90.2' 'Z90.3'\n",
      " 'Z90.4' 'Z90.5' 'Z90.6' 'Z90.7' 'Z90.8' 'Z90.9' 'Z91.0' 'Z91.1' 'Z91.2'\n",
      " 'Z91.3' 'Z91.4' 'Z91.5' 'Z91.6' 'Z91.7' 'Z91.8' 'Z91.9' 'Z92.0' 'Z92.1'\n",
      " 'Z92.2' 'Z92.3' 'Z92.4' 'Z93.0' 'Z93.1' 'Z93.2' 'Z93.3' 'Z93.4' 'Z93.5'\n",
      " 'Z93.6' 'Z93.7' 'Z93.8' 'Z93.9' 'Z93.A' 'Z94.0' 'Z94.1' 'Z94.2' 'Z94.3'\n",
      " 'Z94.4' 'Z94.5' 'Z94.6' 'Z94.7' 'Z94.8' 'Z94.9' 'Z94.A' 'Z95.0' 'Z95.1'\n",
      " 'Z95.2' 'Z95.3' 'Z95.4' 'Z96.0' 'Z96.1' 'Z96.2' 'Z96.3' 'Z96.4' 'Z96.5'\n",
      " 'Z96.6' 'Z96.7' 'Z96.A' 'Z96.B' 'Z97.0' 'Z97.1' 'Z97.2' 'Z97.3' 'Z97.4'\n",
      " 'Z97.5' 'Z97.6' 'Z97.7' 'Z97.8' 'Z98.0' 'Z98.1' 'Z98.2' 'Z98.5' 'Z99.0'\n",
      " 'Z99.1' 'Z99.2' 'Z99.3' 'Z99.4' 'Z99.5' 'Z99.6' 'Z99.7' 'Z99.8' 'Z99.9'\n",
      " 'Z99.A' 'Z99.B' 'Z99.C' 'ZAA.1' 'ZAA.2' 'ZAA.3' 'ZBA.1' 'ZBA.2' 'ZBA.3'\n",
      " 'ZBA.4' 'ZBA.5' 'ZBA.6' 'ZBA.7' 'ZBA.8' 'ZBA.9' 'ZBB.1']\n",
      "CATEGORICAL: Column name: CHOPLEVEL3, dtype: object, values: [nan 'Therapeutischer Ultraschall' 'Pharmakon' ...\n",
      " 'Mindestmerkmal Punkt 3, Austrittsassessment: \\r\\r\\nStrukturiertes geriatrisches Assessment bei Austritt '\n",
      " 'Basisleistung in der Rehabilitation, sonstige'\n",
      " 'Zusatzaufwand in der Rehabilitation, nach Aufwandspunkte']\n",
      "CATEGORICAL: Column name: CHOPCODELEVEL4, dtype: object, values: [nan 'Z00.01' 'Z00.02' ... 'ZBB.1O' 'ZBB.1P' 'ZBB.1Q']\n",
      "CATEGORICAL: Column name: CHOPLEVEL4, dtype: object, values: [nan 'Ultraschall Thrombektomie (38.01, 38.02)'\n",
      " 'Ultraschall Angioplastie an Herzkranzgefässen (00.66, 36.09)' ...\n",
      " 'Zusatzaufwand in der Rehabilitation, mindestens 601 bis 650 Aufwandspunkte'\n",
      " 'Zusatzaufwand in der Rehabilitation, mindestens 651 bis 700 Aufwandspunkte'\n",
      " 'Zusatzaufwand in der Rehabilitation, 701 und mehr Aufwandspunkte']\n",
      "CATEGORICAL: Column name: CHOPCODELEVEL5, dtype: object, values: [nan 'Z00.12.0' 'Z00.12.00' ... 'ZAA.32.H' 'ZAA.32.I' 'ZAA.32.J']\n",
      "CATEGORICAL: Column name: CHOPLEVEL5, dtype: object, values: [nan 'Detail der Subkategorie 00.12'\n",
      " 'Dauer der Behandlung bis unter 48 Stunden' ... 'SCIM 17, Treppensteigen'\n",
      " 'SCIM 18, Transfer Rollstuhl <-> Auto'\n",
      " 'SCIM 19: Transfer Boden <-> Rollstuhl']\n",
      "CATEGORICAL: Column name: CHOPCODELEVEL6, dtype: object, values: [nan 'Z00.12.00' 'Z00.12.01' ... 'ZAA.32.I3' 'ZAA.32.J1' 'ZAA.32.J2']\n",
      "CATEGORICAL: Column name: CHOPLEVEL6, dtype: object, values: [nan\n",
      " 'Inhalation von Stickstoffmonoxid, Dauer der Behandlung bis unter 48 Stunden'\n",
      " 'Inhalation von Stickstoffmonoxid, Dauer der Behandlung 48 Stunden bis 96 Stunden'\n",
      " ... 'SCIM 18, Score 2' 'SCIM 19, Score 0' 'SCIM 19, Score 1']\n",
      "NUMERICAL/POSSIBLY CATEGORICAL: Column name: CHOPSTATUS, dtype: float64, unique values (#qty): [nan, 0.0, 1.0, 2.0], (4)\n",
      "NUMERICAL/POSSIBLY CATEGORICAL: Column name: CHOPSAPKATALOGID, dtype: int64, unique values (#qty): [9, 10, 11, 12, 14, 15, 16, 17, 18, 19, 20], (11)\n"
     ]
    }
   ],
   "source": [
    "chop_surgical_procedures_code_df = pd.read_csv(base_folder + \"LA_CHOP_FLAT.csv\", encoding=\"ISO-8859-1\")\n",
    "\n",
    "evaluate_col_classes(chop_surgical_procedures_code_df)"
   ],
   "metadata": {
    "collapsed": false,
    "pycharm": {
     "name": "#%%\n"
    }
   }
  },
  {
   "cell_type": "code",
   "execution_count": 19,
   "outputs": [
    {
     "name": "stdout",
     "output_type": "stream",
     "text": [
      "NUMERICAL: Column name: FALNR, dtype: int64, #qty unique values: 217918\n",
      "NUMERICAL: Column name: LFDNR, dtype: int64, #qty unique values: 347\n",
      "NUMERICAL/POSSIBLY CATEGORICAL: Column name: BEWTY, dtype: int64, unique values (#qty): [1, 2, 3, 4, 6, 7], (6)\n",
      "CATEGORICAL: Column name: BWART, dtype: object, values: ['SB' 'EI' 'WA' 'AK' 'EN' 'EK' 'KK' 'BE' 'BU' 'AU' 'WB' 'GA' 'EV' 'AE'\n",
      " 'WZ' 'AN' 'BS' 'GE' 'BK' 'UB' 'UE' 'EW' 'EE' 'GN' 'AS' 'EB' 'KU' 'EU'\n",
      " 'GB' 'BA' 'EA' 'KZ' nan 'KA' 'WK' 'AT' 'ET' 'ES' 'GK' 'KS' 'RA' 'UO' 'WS'\n",
      " 'RE' 'KV' 'AG' 'BG' 'EX']\n",
      "CATEGORICAL: Column name: BWIDT, dtype: object, values: ['2017-01-04' '2017-01-17' '2017-01-23' ... '2020-10-08' '2020-09-08'\n",
      " '2020-06-19']\n",
      "CATEGORICAL: Column name: BWIZT, dtype: object, values: ['15:30:00.0000000' '10:00:00.0000000' '11:37:28.0000000' ...\n",
      " '05:26:40.0000000' '14:52:10.0000000' '05:49:02.0000000']\n",
      "NUMERICAL/POSSIBLY CATEGORICAL: Column name: STATU, dtype: float64, unique values (#qty): [30.0, nan, 20.0, 55.0, 70.0], (5)\n",
      "CATEGORICAL: Column name: BWEDT, dtype: object, values: ['2017-01-04' '2017-01-17' '2017-01-23' ... '2020-06-06' '2020-06-07'\n",
      " '2020-07-10']\n",
      "CATEGORICAL: Column name: BWEZT, dtype: object, values: ['15:30:00.000000000' '10:00:00.000000000' '11:37:28.000000000' ...\n",
      " '15:18:18.000000000' '15:59:09.000000000' '23:38:36.000000000']\n",
      "NUMERICAL: Column name: LFDREF, dtype: int64, #qty unique values: 238\n",
      "CATEGORICAL: Column name: KZTXT, dtype: object, values: [nan 'Müllner 7054/fu' 'Zis / 113' ...\n",
      " 'ET Spital Biel 24.11.2019, 06:06 - mb' 'stationär L süd'\n",
      " 'Pat: 10.30h CT: 10.30h Dr. D. Hagemeyer7689']\n",
      "CATEGORICAL: Column name: ORGFA, dtype: object, values: ['71KARA' '71WUNA' '71NOTC' '71VCHA' '71AIMS' '71IPSS' 'NRLK' 'SWEA'\n",
      " '61NOTM' 'ORTP' '61AIMS' 'GYNF' 'GYKF' 'IPTM' 'NZKJ' 'KMEK' 'HONK' 'NOTC'\n",
      " 'PMLK' '61NOTC' '61CHIS' 'NOTM' 'NEBR' 'NCHI' 'NCHK' 'VMCK' 'IMCI' 'NEPH'\n",
      " '71VCHS' '71NOTO' '71ORTS' 'AUGK' 'PNEK' 'NSTB' 'KARR' 'HNOB' 'KINB'\n",
      " 'IBME' '62NOTM' '62AIMS' '71PNEA' '71GASA' '71PNES' 'GEFB' 'ANGP' 'NFZA'\n",
      " 'STOB' '71NOTM' '71GUKS' 'MEAS' 'HNOP' 'ORTK' 'KIMC' '62GASA' 'UROK'\n",
      " 'UROA' 'ROST' 'ROTC' 'HERB' 'EMGP' 'NOTB' 'AIMB' 'AUGP' 'KARD' 'PNEU'\n",
      " '62GBHS' 'UIMC' '62NGBS' 'GBSF' 'GBHF' 'ONHB' 'TCSQ' 'ANGK' 'GAST'\n",
      " '71KARS' 'KCHK' 'IPMK' 'KPSP' '63NOTC' '63CHIS' 'NGSF' 'DERP' 'NOKB'\n",
      " 'DIAA' 'NEOI' 'MELO' 'THSP' 'KHXB' 'HINF' 'OSTP' 'KHTX' 'ENDA' '62AIMA'\n",
      " 'DERK' 'HEPC' 'VMCP' '63NOTM' '63AIMS' 'HCHB' 'KCHP' 'NPKA' 'EMEA' 'PHON'\n",
      " 'USDF' 'NIPS' 'NEUP' 'PACB' 'SKGB' 'SKGE' 'FPLF' 'UROC' 'BEWA' 'KRHB'\n",
      " '62NOTC' '62CHIS' 'KZBA' 'NCHP' 'GONF' 'NRTA' '64GRES' '64GERM' '64GPHM'\n",
      " '64GLOM' '63CHIA' 'NUKK' '61ORTS' 'HAND' 'RHEU' 'AHFA' '63NRES' '61AIMA'\n",
      " '62NCHS' 'RHES' '62ORTS' 'ORTC' 'ONKP' '62CHIA' 'PSMK' 'ERGL' 'PSMA'\n",
      " 'PSTM' 'ROTB' 'ROAS' 'KMEB' 'GASK' 'AUGO' 'AUGC' '64LANS' 'PGYF' '63KARA'\n",
      " '63AIMA' 'NREH' 'PLWB' '62GYNS' 'AIMA' 'NUKL' 'VCHC' 'KARE' 'KIKA'\n",
      " '71HAGC' 'ANGC' 'PSNA' 'ERGR' 'SKGC' 'ALLP' 'KAPR' 'SENF' '64ALTB' 'NCHC'\n",
      " '63WUNA' 'NREI' '63PNEA' 'OCGP' 'APHP' '63GAEA' 'PGBF' '61CHIA' '71ORTA'\n",
      " '71IMCS' 'PRFC' 'PHOC' 'ZSWP' 'SCTA' 'ZAWB' 'GASC' '71KMRA' 'ONKC' 'HZLA'\n",
      " 'ENAF' 'ENSP' '63PHYM' 'RADL' 'UROF' '61DMOC' 'PAWB' 'NEPK' 'PLWS' 'SCTC'\n",
      " '62PHYM' '62GBHA' '71AIMA' 'KSKM' 'HNVC' '61WUNA' 'FANP' 'GENM' 'PLWP'\n",
      " 'NRAD' 'HGEP' 'WSZP' '62GYNA' 'NEHY' '63GYNA' '71IPTM' '63ORTA' '71KHRA'\n",
      " 'KMEP' 'KCHC' '71ERBM' '61LIPC' 'ROED' 'LMDA' 'ROEK' 'HZLC' 'THSC' 'PSFC'\n",
      " '64LANA' 'DYSF' 'PNEC' 'REGP' '62RADM' '61RADM' 'PWFC' 'GEFA' '71ONHA'\n",
      " '71DIAM' 'INFC' '62NRAM' '61NRAM' '71ERGM' '61ANEA' 'AIMC' '64PHYM'\n",
      " '71RADM' 'PERS' 'APHC' '63ANEA' '71LOGM' 'GHSP' 'ENSW' 'ROEF' 'GEFC'\n",
      " '63RADM' '71NRAM' '62ERNM' 'RNFL' '61SCTA' 'NOTE' '61LABM' '64RADM'\n",
      " '62HNOS' '61RITC' 'PSTC' '61ERBM' '61PHYM' '63NRAM' '62LABM' 'LOGE'\n",
      " '92RADM' '61ERGM' '62ORTA' '61GASA' '61FRIA' 'PMFC' '63PAEA' 'FGYP'\n",
      " '63ERBM' 'NGAF' 'NUKC' 'PKFC' '62ANEA' '61UROA' '64LOGM' '62NCHA'\n",
      " '63LABM' '71LABM' '61DIAM' '63NREA' '63UROA' 'ISZA' 'ORGB' '71MONA'\n",
      " 'ZSBA' 'PHTP' 'CGLM' '63GASA' '62DIAM' 'ZASP' 'ZSAA' '61SLHA' 'HGSC'\n",
      " 'PMOC' 'PMUC' 'PACP' 'OSMP' 'HERI' '61KARA' 'GEFI' 'IRMP' '62NOTG'\n",
      " '62TAGK']\n",
      "CATEGORICAL: Column name: ORGPF, dtype: object, values: ['71KARA' '71WUNA' '71NOTC' '71VCHA' '71MITTE2' '71IPS' 'L MITTE' 'SWEA'\n",
      " '61NOTM' 'ORTP' '61STAT2' 'GYNF' 'F1' 'IPTM' 'NZKJ' 'KK K NO' 'KK K SU'\n",
      " 'KK HS' 'HONK' 'NOTC' 'Q MITTE' '61NOTC' '61STAT3' 'NOTM' 'R SUED'\n",
      " 'E120-21' 'NCHK' 'H VNBS' 'E108-09' 'H NORD 1' 'NEPH' '71WEST P' '71NOTO'\n",
      " '71WEST 2' 'WEST 2' 'PNEK' 'L-STROKE' 'KARR' 'J MITTE' 'P NORD' 'INEGE 1'\n",
      " '62NOTM' '62STAT A' '62NOTFS' '62ZAWR' '71PNEA' '71GASA' '71MITTEP'\n",
      " 'HK LABOR' 'IMC HG' 'N NORD' 'OP HGEK' 'ANGP' 'NFZA' 'OP VMCK' 'ZAWR_INO'\n",
      " 'STOB' 'Q NORD' '71NOTM' '71MITTE1' 'E113-15' 'N SUED' 'HNOP' 'OP ORTK'\n",
      " 'P IMC' 'P MITTE' '71OST 2' '62GASA' 'OP UROK' 'UROA' 'R MITTE1'\n",
      " 'OP NCHK' 'INEBL 1' 'ROST' 'ROTC' 'IN E GR' 'OP HNOB' 'J SUED' 'F-SUED'\n",
      " 'O NORD' 'INEGE 2' 'EMGP' 'NOTA INO' '2OG' 'AUGP' 'KARD' 'PNEU' 'KK C SU'\n",
      " '62GEBS' '62STAT C' 'INEBL 2' '71WEST 1' 'UEBERW 4' 'GBSF' 'B1' 'E2'\n",
      " 'R MITTE2' 'OP TCSQ' 'GAST' 'APTA LAB' 'N MITTE' 'KK E NO' 'KK B IB'\n",
      " 'KPSP' '63NOTC' '63NOTFS' '63STAT1' 'K SUED' 'J NORD' 'E2 K' '1OG'\n",
      " '71NOTFS' 'DERP' 'H SUED 2' 'KK D NO' 'U1 NOKB' 'NOKB' 'DIAA' '61NOTFS'\n",
      " 'B3' 'O MITTE' 'EG WEST' 'EG OST' 'THSP' 'HINF' 'OSTP' 'KHTX' 'G NORD'\n",
      " 'ENDA' 'H SUED 1' '62AIMA' 'B WEST' 'H NORD 2' 'HEPC' 'B OST' 'VMCP'\n",
      " 'OST 2' '63NOTM' '63STAT2' 'G1 WEST' '62STAT B' 'OP HCHB' 'KCHP' 'NPKA'\n",
      " 'NOTB INO' 'L SUED' 'OP KCHK' 'EMEA' 'KK J SU' 'PHON' 'E1' 'USDF' 'B2'\n",
      " 'NEUP' 'M NORD' 'SWAN C' 'FK D WE' 'M SUED' 'SKGE' 'FPLF' 'UROC' 'C WEST'\n",
      " 'G MITTE' 'F MITTE' '62NOTC' 'KZBA' 'NCHP' 'IMCURO4' 'K MITTE' 'FKD KARD'\n",
      " '71OST 1' 'HINTEN 4' 'KK E SU' 'P SUED' 'GONF' 'R NORD' 'NRTA' '64GERIR1'\n",
      " '64GERM' '64GPHM' '64GLOM' '63CHIA' 'SWAN D' '61STAT1' 'KK PAWB'\n",
      " 'VORNE 4.' 'HAND' 'B SUED' 'AHFA' '63STAT3' '61AIMA' 'RHES' 'K NORD'\n",
      " 'VORNE 3.' 'ORTC' 'ONKP' 'O SUED' '62CHIA' 'LO G2' 'ERGL' 'PSMA' 'PSTM'\n",
      " 'HINTEN 3' 'ROAS' 'KMEB' 'GASK' 'AUGO' 'AUGC' 'OP AUGK' '64GERIR2'\n",
      " '64LANGZP' 'KK C NO' 'Q SUED' 'PGYF' '63KARA' '63AIMA' 'G SUED'\n",
      " 'M SUEDWE' 'ASH 2.OG' 'AIMA' 'NUKL' 'VCHC' 'PANZ' 'KARE' 'KIKA' 'OP SKGB'\n",
      " '71HAGC' 'ANGC' 'PSNA' 'VMCK' 'Q109TK' 'ERGR' 'SKGC' 'ALLP' 'ASH 1.OG'\n",
      " 'KAPR' 'SENF' '64ALTERS' 'NCHC' '63WUNA' '63PNEA' 'OCGP' 'APHP' '63STAT4'\n",
      " '63GAEA' 'PGBF' '61CHIA' '71ORTA' '71IMC' 'PRFC' 'OST 3AS' 'OP PLWB'\n",
      " 'PHOC' 'ZSWP' 'SCTA' 'GASC' '71KMRA' 'ONKC' 'HZLA' 'NGSF' 'ENAF' 'ENSP'\n",
      " '63PHYM' 'RADL' 'UROF' '61DMOC' '62GBHS' 'NEPK' 'GYKF' 'PLWS' 'NOTB'\n",
      " 'AIMB' 'SCTC' '62PHYM' '62GBHA' '71AIMA' 'KSKM' '71AIMS' 'HNVC' '61WUNA'\n",
      " 'FANP' 'GENM' 'PLWP' 'NRAD' 'B RHEUTK' 'HGEP' 'WSZP' '61ZAWR' 'NEOI'\n",
      " '62GYNA' 'NEHY' '63GYNA' '71IPTM' '63ORTA' '71KHRA' '71IPSS' 'EG SUED'\n",
      " 'KMEP' 'KCHC' 'OP GYKF' '71ERBM' '61LIPC' 'ROED' '61AIMS' '61CHIS' 'LMDA'\n",
      " 'ROEK' 'HCHB' '62AIMS' 'HZLC' 'ORTK' 'THSC' 'PSFC' '64LANA' 'DYSF' 'PNEC'\n",
      " 'REGP' '62RADM' '62NGBS' '61RADM' 'PWFC' 'GEFA' 'SKGB' '71ONHA' '71DIAM'\n",
      " 'INFC' '62NRAM' '61NRAM' '71ERGM' 'GEFB' '61ANEA' 'AIMC' '64PHYM'\n",
      " '71RADM' 'GBHF' 'PERS' 'APHC' '63ANEA' '71LOGM' 'GHSP' 'ENSW' '63AIMS'\n",
      " '63CHIS' 'ROEF' 'GEFC' '63RADM' '71NRAM' 'KK H NO' 'PKT1 D' '62ERNM'\n",
      " 'RNFL' '61SCTA' 'NOTE' '71ORTS' '61LABM' '64RADM' '61RITC' 'PSTC'\n",
      " '61ERBM' '61PHYM' '63NRAM' 'TKH D1' 'TKH F2K' '62LABM' 'LOGE' '92RADM'\n",
      " '61ERGM' 'TKH G1' 'PSMK' '62ORTA' '61GASA' '61FRIA' '71KARS' 'PMFC'\n",
      " 'KCHK' 'TKH F2' '63PAEA' 'FGYP' '63ERBM' 'TKH E1' 'TKH E2' 'ANGK'\n",
      " 'TKH F1' 'NGAF' 'NUKC' 'NRLK' 'PKFC' 'NEBR' '62ANEA' '61UROA' '64LOGM'\n",
      " 'UROK' 'TKH AWRF' '62NCHA' '63LABM' 'NREH' '71LABM' '61DIAM' '71VCHS'\n",
      " '63NREA' '63UROA' 'ONHB' 'KIMC' 'ISZA' '71MONA' 'ZSBA' 'PHTP' 'CGLM'\n",
      " '63GASA' 'NSTB' '62DIAM' 'ZASP' 'ZSAA' '61SLHA' 'HGSC' 'PMOC' 'KINB'\n",
      " 'PMUC' 'AUGK' 'PACP' 'OSMP' 'F NORD' '61KARA' 'KMEK' 'IRMP' '61ORTS'\n",
      " '62NOTG' '62TAGK' '62ORTS' 'IPMK' '71GUKS' '63NRES' '62GYNS' '62CHIS'\n",
      " 'PLWB' 'BEWA']\n",
      "CATEGORICAL: Column name: ORGAU, dtype: object, values: [nan '71AUFN' 'BHHA' 'AVOR' 'MAIL' 'FKKE' 'NKK4' 'NKK3' 'NKK2' '61NOTF'\n",
      " 'NERW' '71NOTF' 'AKKL' '62EMPF' '62AUFN' '61AUFN' '63AUFN' '62NOTF'\n",
      " 'NKK1' 'ATEL' 'NKKL' 'FKKA' 'DECK' '63NOTF' 'ABEW' 'MELD' 'PROV' 'OWSZ'\n",
      " 'FWSZ' '64AUFN' 'TWSZ' 'AUTO' 'IICP' 'NKK5' 'ASHA' '61EMPF' 'IICA' 'FEHT'\n",
      " 'AARB' '62ROEA' '61ROEA' 'EWSZ' 'TJOB' '71ROEA' 'SOUC' 'SVKA' 'FALK'\n",
      " 'HA5A' '62GAST' 'ROBO' 'XPIA' 'IICD' 'ROSOL' 'AFSZ' 'IICBEAN' 'BERS'\n",
      " 'NPRO']\n",
      "CATEGORICAL: Column name: ZIMMR, dtype: object, values: [nan '00071230' '71IPS04' ... '00062112' '00062111' 'PERSCOV']\n",
      "CATEGORICAL: Column name: BETT, dtype: object, values: [nan '71230F' '71IPS01E' ... 'INC23_A' '64L211T' '62111T']\n",
      "NUMERICAL/POSSIBLY CATEGORICAL: Column name: STORN, dtype: float64, unique values (#qty): [nan], (1)\n",
      "NUMERICAL: Column name: EXTKH, dtype: float64, #qty unique values: 1163\n"
     ]
    }
   ],
   "source": [
    "movement_df = pd.read_csv(base_folder + \"LA_ISH_NBEW.csv\", encoding=\"ISO-8859-1\")\n",
    "\n",
    "evaluate_col_classes(movement_df)"
   ],
   "metadata": {
    "collapsed": false,
    "pycharm": {
     "name": "#%%\n"
    }
   }
  },
  {
   "cell_type": "code",
   "execution_count": 20,
   "outputs": [
    {
     "name": "stdout",
     "output_type": "stream",
     "text": [
      "NUMERICAL: Column name: FALNR, dtype: int64, #qty unique values: 201632\n",
      "CATEGORICAL: Column name: DKEY1, dtype: object, values: ['L02.4' 'B96.2' 'L89.27' ... 'A00.1' 'M14.57' 'K00.8']\n",
      "NUMERICAL/POSSIBLY CATEGORICAL: Column name: DKAT1, dtype: int64, unique values (#qty): [11, 15, 17, 19], (4)\n",
      "CATEGORICAL: Column name: DIADT, dtype: object, values: ['2016-12-28' '2017-01-05' '2016-12-31' ... '2020-02-09' '2020-02-26'\n",
      " '2020-04-23']\n",
      "CATEGORICAL: Column name: DRG_CATEGORY, dtype: object, values: ['P' 'S']\n"
     ]
    }
   ],
   "source": [
    "diagnosis_df = pd.read_csv(base_folder + \"LA_ISH_NDIA.csv\", encoding=\"ISO-8859-1\")\n",
    "\n",
    "evaluate_col_classes(diagnosis_df)"
   ],
   "metadata": {
    "collapsed": false,
    "pycharm": {
     "name": "#%%\n"
    }
   }
  },
  {
   "cell_type": "code",
   "execution_count": 21,
   "outputs": [
    {
     "name": "stdout",
     "output_type": "stream",
     "text": [
      "NUMERICAL: Column name: PATCASEID, dtype: int64, #qty unique values: 200700\n",
      "NUMERICAL: Column name: COST_WEIGHT, dtype: float64, #qty unique values: 8179\n"
     ]
    }
   ],
   "source": [
    "drg_tarif_df = pd.read_csv(base_folder + \"LA_ISH_NDRG.csv\", encoding=\"ISO-8859-1\")\n",
    "\n",
    "evaluate_col_classes(drg_tarif_df)\n"
   ],
   "metadata": {
    "collapsed": false,
    "pycharm": {
     "name": "#%%\n"
    }
   }
  },
  {
   "cell_type": "code",
   "execution_count": 26,
   "outputs": [
    {
     "name": "stdout",
     "output_type": "stream",
     "text": [
      "CATEGORICAL: Column name: EARZT, dtype: object, values: ['H' 'E' 'U' 'B' 'W' 'X' 'A' 'N' 'G' 'O']\n",
      "NUMERICAL/POSSIBLY CATEGORICAL: Column name: FARZT, dtype: int64, unique values (#qty): [0, 1, 2, 3, 4, 5, 6, 7, 9], (9)\n",
      "NUMERICAL: Column name: FALNR, dtype: int64, #qty unique values: 169803\n",
      "NUMERICAL: Column name: LFDNR, dtype: int64, #qty unique values: 401\n",
      "NUMERICAL: Column name: PERNR, dtype: int64, #qty unique values: 8457\n",
      "CATEGORICAL: Column name: STORN, dtype: object, values: [nan 'X']\n"
     ]
    }
   ],
   "source": [
    "partner_case_df = pd.read_csv(base_folder + \"LA_ISH_NFPZ.csv\", encoding=\"ISO-8859-1\")\n",
    "\n",
    "evaluate_col_classes(partner_case_df)"
   ],
   "metadata": {
    "collapsed": false,
    "pycharm": {
     "name": "#%%\n"
    }
   }
  },
  {
   "cell_type": "code",
   "execution_count": 22,
   "outputs": [
    {
     "name": "stdout",
     "output_type": "stream",
     "text": [
      "NUMERICAL: Column name: GPART, dtype: int64, #qty unique values: 97647\n",
      "CATEGORICAL: Column name: NAME1, dtype: object, values: [nan 'Swisscare Insurance AG' 'Praxisgemeinschaft' ... 'Tavares Valdez'\n",
      " 'Bachofner-Weber' 'Nageh']\n",
      "CATEGORICAL: Column name: NAME2, dtype: object, values: [nan 'HasliPraxis' 'Medizinisches Labor' ... 'Olimpia Ksenia' 'Kathrine'\n",
      " 'Thuraia']\n",
      "CATEGORICAL: Column name: NAME3, dtype: object, values: [nan 'Schadenabteilung' 'Spitalfinanzierung' ... 'Chefarzt Stellvertreter'\n",
      " 'Dr.med. P. Freiburghaus' 'Praxis Dr. K. Geisbühler']\n",
      "CATEGORICAL: Column name: LAND, dtype: object, values: ['CH' 'LI' 'DE' 'US' 'NL' 'DK' 'FR' 'GB' 'BE' 'PL' 'CZ' 'AT' 'RS' 'FI'\n",
      " 'HR' 'IL' 'IT' 'SI' 'IE' 'LU' 'AU' 'HU' 'ZA' 'BG' 'GR' 'ES' 'RU' 'AR'\n",
      " 'MA' 'SG' 'NZ' 'MK' 'CA' 'UY' 'LB' 'PH' 'BA' 'EG' 'UA' 'NO' 'AL' 'KS'\n",
      " 'IN' 'CN' 'SN' 'BR' 'MY' 'JP' 'AE' 'PT' 'DZ' 'TN' 'IS' 'IR' 'SE' 'TW'\n",
      " 'ID' 'LT' 'CM' 'HK' 'LV' 'TH' nan]\n",
      "CATEGORICAL: Column name: PSTLZ, dtype: object, values: [nan '1700' '4900' ... '1420' '5301' '1063']\n",
      "CATEGORICAL: Column name: ORT, dtype: object, values: [nan 'Fribourg' 'Langenthal' ... 'Martherenges' 'mannstätten' 'enhausen']\n",
      "CATEGORICAL: Column name: ORT2, dtype: object, values: [nan 'Fribourg' 'Langenthal' ... 'Isenfluh' 'Winkel' 'Lüterkofen']\n",
      "CATEGORICAL: Column name: STRAS, dtype: object, values: [nan 'rue de Lausanne' 'St. Urbanstrasse 40' ... 'MPA SSC Münsingen'\n",
      " 'Berater KPMG Landspitäler' 'Belegärztin Tiefenau']\n",
      "CATEGORICAL: Column name: KRKHS, dtype: object, values: [nan 'X']\n"
     ]
    },
    {
     "name": "stderr",
     "output_type": "stream",
     "text": [
      "/home/benelot/miniconda3/envs/vre-spark/lib/python3.7/site-packages/IPython/core/interactiveshell.py:3063: DtypeWarning: Columns (9) have mixed types. Specify dtype option on import or set low_memory=False.\n",
      "  interactivity=interactivity, compiler=compiler, result=result)\n"
     ]
    }
   ],
   "source": [
    "external_partner_df = pd.read_csv(base_folder + \"LA_ISH_NGPA.csv\", encoding=\"ISO-8859-1\")\n",
    "\n",
    "evaluate_col_classes(external_partner_df)"
   ],
   "metadata": {
    "collapsed": false,
    "pycharm": {
     "name": "#%%\n"
    }
   }
  },
  {
   "cell_type": "code",
   "execution_count": 23,
   "outputs": [
    {
     "name": "stdout",
     "output_type": "stream",
     "text": [
      "NUMERICAL/POSSIBLY CATEGORICAL: Column name: LFDBEW, dtype: int64, unique values (#qty): [0], (1)\n",
      "NUMERICAL/POSSIBLY CATEGORICAL: Column name: ICPMK, dtype: int64, unique values (#qty): [11, 16, 17, 18, 19, 20], (6)\n",
      "CATEGORICAL: Column name: ICPML, dtype: object, values: ['37.51.10' '00.93.20' '00.99.10' ... '39.B1.D1' '39.95.41' '92.28.65']\n",
      "NUMERICAL/POSSIBLY CATEGORICAL: Column name: ANZOP, dtype: int64, unique values (#qty): [0], (1)\n",
      "CATEGORICAL: Column name: BGDOP, dtype: object, values: ['2016-07-07' '2016-07-10' '2016-07-14' ... '2020-02-22' '2020-02-23'\n",
      " '2020-04-23']\n",
      "CATEGORICAL: Column name: LSLOK, dtype: object, values: [nan 'L' 'R' 'B' 'U' 'EU']\n",
      "CATEGORICAL: Column name: STORN, dtype: object, values: [nan 'X']\n",
      "NUMERICAL: Column name: FALNR, dtype: int64, #qty unique values: 168297\n",
      "CATEGORICAL: Column name: ORGPF, dtype: object, values: ['INEGE 1' 'G NORD' '71WEST P' '71IPS' 'NDYL' 'HGKT' 'NEPH' 'IBME'\n",
      " 'KK K SU' 'KK HS' 'Q MITTE' '71WEST 2' 'N NORD' '62STAT A' 'R MITTE1'\n",
      " 'INEBL 1' '71OST 2' 'P MITTE' 'F1' '2OG' 'Q NORD' 'H SUED 2' 'N SUED'\n",
      " 'J NORD' 'KK B IB' 'H NORD 2' '63STAT1' 'G1 WEST' 'J MITTE' 'L SUED'\n",
      " 'L MITTE' '63STAT2' '1OG' 'SWAN C' 'P NORD' 'J SUED' 'F-SUED' 'O MITTE'\n",
      " '61STAT1' '61STAT2' 'K SUED' 'R SUED' 'K MITTE' 'KK E NO' 'KK C SU'\n",
      " 'L-STROKE' 'B SUED' 'KK D NO' 'H NORD 1' '71MITTEP' '61STAT3' 'C WEST'\n",
      " 'H VNBS' 'EG OST' 'N MITTE' 'M NORD' 'K NORD' 'Q SUED' '71WEST 1' 'NCHK'\n",
      " 'INEBL 2' 'M SUED' 'IN E GR' '71MITTE2' 'E113-15' 'OST 2' 'E120-21'\n",
      " 'INEGE 2' 'P IMC' 'H SUED 1' 'B3' 'R MITTE2' '61NOTFS' '71IMC' 'E108-09'\n",
      " 'O NORD' 'G SUED' 'ASH 2.OG' 'B WEST' 'VORNE 4.' 'KK K NO' 'KK J SU'\n",
      " 'NOTA INO' '71NOTFS' '71OST 1' 'FKD KARD' 'ZAWR_INO' 'HINTEN 4' 'U1 NOKB'\n",
      " 'B OST' '62STAT B' 'E1' 'E2' 'E2 K' 'IMC HG' 'KK E SU' 'FK D WE' '62ZAWR'\n",
      " 'F MITTE' 'OP UROK' 'B1' 'P SUED' 'OP ORTK' 'HERB' 'VMCK' 'MEAS' 'GEFB'\n",
      " 'IMCI' 'MELO' 'AIMB' 'G MITTE' 'WEST 2' 'NOTB INO' 'O SUED' 'NEPK' 'HTME'\n",
      " 'EG WEST' '63NOTFS' 'SWAN D' '71MITTE1' 'PANZ' '62STAT C' 'R NORD'\n",
      " 'IMCURO4' 'B2' 'APTA LAB' '62NOTFS' '64GERIR2' 'KK C NO' 'VORNE 3.'\n",
      " 'OP VMCK' '62GEBS' 'OP HNOB' 'LO G2' 'OP HGEK' 'ASH 1.OG' '63STAT4'\n",
      " '63STAT3' 'HINTEN 3' 'UEBERW 4' 'OP KCHK' 'NOKB' 'M SUEDWE' '64GERIR1'\n",
      " '62GBHS' 'HK LABOR' 'NOTB' 'ORTK' 'OP NCHK' nan '61ZAWR' 'Q109TK' 'UROK'\n",
      " 'OP HCHB' '71IPSS' 'OST 3AS' 'NEBR' 'KK PAWB' 'KCHK' 'PACB' 'HADL' 'HNOB'\n",
      " 'KMEK' 'IPMK' '61AIMS' 'ROTB' 'OP GYKF' 'OP AUGK' 'OP PLWB' 'PMLK'\n",
      " 'OP SKGB' 'NREI' 'NRLK' '63AIMS' 'B RHEUTK' '64NEBL' '64GRES' '61NOTM'\n",
      " '71PNES' '71AIMS' '71ORTS' 'HCHB' '71GUKS' '62NOTM' 'KK H NO' 'NEOI'\n",
      " 'HZLA' '61CHIS' 'ONHB' '71VCHS' 'OP TCSQ' '63CHIS' 'ANGK' 'PSMK' 'TKH F2'\n",
      " 'TKH G1' 'TKH F2K' 'TKH F1' 'TKH E1' 'NOTC' 'TKH D1' 'TKH E2' 'KIMC'\n",
      " '71KARS' 'NOTM' 'KINB' '61NOTC' 'PLWB' 'BEWA' 'SKGB' '61NEAL' '61AOPL'\n",
      " '62CHIA' '62NOTC' 'F NORD' '71NOTM' 'NCHI' 'TCSQ' 'NOTE' 'NZKJ' 'NNFL'\n",
      " 'NRAD' 'RAKL_G' '71NRAM' '71RADM' 'RADL' '61NRAM' '61RADM' 'NOPL'\n",
      " '71RAKL_G' 'HONK' 'KMEB' 'ANAE' 'ORTC' '61NOTL' 'ANGP' '63NOTM' '62NOTL'\n",
      " 'HGIL' 'APTA' 'NIPS' '63NOTL' 'KHKL' '71ANEL' '62AOPL' '71OPIL' '63AOPL'\n",
      " '62OPIL' 'LSHL' 'NCHP' 'EMGP' 'NEML' 'EETL' 'EEGL' 'NUKL' 'ONOL_G' 'ONOL'\n",
      " 'ZSWP' 'PNEU' '71PNEA' 'PNEK' 'KARD' '71KANL' 'KIKA']\n"
     ]
    }
   ],
   "source": [
    "surgery_df = pd.read_csv(base_folder + \"LA_ISH_NICP.csv\", encoding=\"ISO-8859-1\")\n",
    "\n",
    "evaluate_col_classes(surgery_df)"
   ],
   "metadata": {
    "collapsed": false,
    "pycharm": {
     "name": "#%%\n"
    }
   }
  },
  {
   "cell_type": "code",
   "execution_count": 27,
   "outputs": [
    {
     "name": "stderr",
     "output_type": "stream",
     "text": [
      "/home/benelot/miniconda3/envs/vre-spark/lib/python3.7/site-packages/IPython/core/interactiveshell.py:3063: DtypeWarning: Columns (8) have mixed types. Specify dtype option on import or set low_memory=False.\n",
      "  interactivity=interactivity, compiler=compiler, result=result)\n"
     ]
    },
    {
     "name": "stdout",
     "output_type": "stream",
     "text": [
      "NUMERICAL: Column name: patient_patientid, dtype: int64, #qty unique values: 87893\n",
      "CATEGORICAL: Column name: patient_typ, dtype: object, values: ['Standard Patient']\n",
      "CATEGORICAL: Column name: patient_status, dtype: object, values: ['aktiv']\n",
      "NUMERICAL: Column name: fall_nummer, dtype: int64, #qty unique values: 132974\n",
      "CATEGORICAL: Column name: fall_typ, dtype: object, values: ['Standard Fall']\n",
      "CATEGORICAL: Column name: fall_status, dtype: object, values: ['aktiv']\n",
      "CATEGORICAL: Column name: datum_betreuung, dtype: object, values: ['2018-03-07 00:00:00' '2018-01-23 00:00:00' '2018-07-04 00:00:00'\n",
      " '2018-03-15 00:00:00' '2018-03-13 00:00:00' '2018-02-24 00:00:00'\n",
      " '2018-02-25 00:00:00' '2018-02-11 00:00:00' '2018-11-03 00:00:00'\n",
      " '2018-11-20 00:00:00' '2018-04-08 00:00:00' '2018-09-12 00:00:00'\n",
      " '2018-04-09 00:00:00' '2019-02-12 00:00:00' '2019-07-07 00:00:00'\n",
      " '2018-02-07 00:00:00' '2019-04-30 00:00:00' '2019-06-21 00:00:00'\n",
      " '2018-01-17 00:00:00' '2019-04-29 00:00:00' '2019-07-16 00:00:00'\n",
      " '2019-07-22 00:00:00' '2019-06-20 00:00:00' '2018-06-04 00:00:00'\n",
      " '2019-02-16 00:00:00' '2018-06-03 00:00:00' '2018-10-16 00:00:00'\n",
      " '2018-08-18 00:00:00' '2018-02-15 00:00:00' '2018-01-14 00:00:00'\n",
      " '2018-02-20 00:00:00' '2018-12-03 00:00:00' '2018-01-28 00:00:00'\n",
      " '2018-01-01 00:00:00' '2018-12-04 00:00:00' '2018-10-23 00:00:00'\n",
      " '2018-05-11 00:00:00' '2018-05-12 00:00:00' '2018-06-29 00:00:00'\n",
      " '2018-03-19 00:00:00' '2018-03-20 00:00:00' '2018-06-28 00:00:00'\n",
      " '2018-06-20 00:00:00' '2018-06-27 00:00:00' '2019-04-27 00:00:00'\n",
      " '2018-06-30 00:00:00' '2019-02-23 00:00:00' '2018-04-11 00:00:00'\n",
      " '2018-07-07 00:00:00' '2018-04-12 00:00:00' '2019-05-07 00:00:00'\n",
      " '2019-04-17 00:00:00' '2019-06-30 00:00:00' '2019-07-11 00:00:00'\n",
      " '2019-07-01 00:00:00' '2019-02-28 00:00:00' '2018-08-19 00:00:00'\n",
      " '2018-08-22 00:00:00' '2018-12-21 00:00:00' '2018-08-21 00:00:00'\n",
      " '2018-01-10 00:00:00' '2019-03-12 00:00:00' '2018-12-10 00:00:00'\n",
      " '2018-01-09 00:00:00' '2018-07-26 00:00:00' '2018-10-02 00:00:00'\n",
      " '2019-03-06 00:00:00' '2019-01-04 00:00:00' '2018-09-27 00:00:00'\n",
      " '2018-12-11 00:00:00' '2019-03-07 00:00:00' '2019-08-16 00:00:00'\n",
      " '2019-09-14 00:00:00' '2019-07-06 00:00:00' '2019-06-22 00:00:00'\n",
      " '2019-11-07 00:00:00' '2019-10-01 00:00:00' '2019-07-26 00:00:00'\n",
      " '2019-07-18 00:00:00' '2019-07-30 00:00:00' '2019-09-15 00:00:00'\n",
      " '2019-05-28 00:00:00' '2019-07-19 00:00:00' '2019-12-12 00:00:00'\n",
      " '2019-12-13 00:00:00' '2019-11-08 00:00:00' '2019-12-02 00:00:00'\n",
      " '2019-09-05 00:00:00' '2019-10-30 00:00:00' '2019-12-03 00:00:00'\n",
      " '2019-09-18 00:00:00' '2019-01-25 00:00:00' '2019-01-30 00:00:00'\n",
      " '2019-03-23 00:00:00' '2018-05-31 00:00:00' '2019-04-20 00:00:00'\n",
      " '2018-11-07 00:00:00' '2018-08-01 00:00:00' '2018-03-26 00:00:00'\n",
      " '2018-08-02 00:00:00' '2019-05-01 00:00:00' '2018-06-02 00:00:00'\n",
      " '2018-06-01 00:00:00' '2019-03-24 00:00:00' '2019-03-19 00:00:00'\n",
      " '2018-11-01 00:00:00' '2019-05-24 00:00:00' '2018-09-07 00:00:00'\n",
      " '2018-06-25 00:00:00' '2018-11-21 00:00:00' '2018-11-02 00:00:00'\n",
      " '2018-06-26 00:00:00' '2019-02-26 00:00:00' '2018-11-08 00:00:00'\n",
      " '2018-06-05 00:00:00' '2018-10-30 00:00:00' '2018-08-03 00:00:00'\n",
      " '2018-03-27 00:00:00' '2019-07-09 00:00:00' '2018-12-14 00:00:00'\n",
      " '2019-04-10 00:00:00' '2019-01-26 00:00:00' '2018-11-09 00:00:00'\n",
      " '2018-06-06 00:00:00' '2018-09-08 00:00:00' '2019-06-11 00:00:00'\n",
      " '2018-06-07 00:00:00' '2018-08-04 00:00:00' '2018-12-15 00:00:00'\n",
      " '2019-01-31 00:00:00' '2018-11-10 00:00:00' '2018-06-08 00:00:00'\n",
      " '2019-03-25 00:00:00' '2018-11-22 00:00:00' '2019-04-16 00:00:00'\n",
      " '2018-03-28 00:00:00' '2018-11-04 00:00:00' '2018-10-31 00:00:00'\n",
      " '2019-05-25 00:00:00' '2018-11-11 00:00:00' '2018-08-05 00:00:00'\n",
      " '2019-04-02 00:00:00' '2018-06-09 00:00:00' '2018-11-12 00:00:00'\n",
      " '2018-11-05 00:00:00' '2018-06-10 00:00:00' '2019-05-02 00:00:00'\n",
      " '2018-08-06 00:00:00' '2018-11-23 00:00:00' '2018-11-13 00:00:00'\n",
      " '2018-06-11 00:00:00' '2019-07-03 00:00:00' '2018-03-29 00:00:00'\n",
      " '2018-06-12 00:00:00' '2019-01-27 00:00:00' '2018-12-16 00:00:00'\n",
      " '2019-06-12 00:00:00' '2018-08-07 00:00:00' '2018-11-14 00:00:00'\n",
      " '2018-06-13 00:00:00' '2018-06-14 00:00:00' '2018-11-06 00:00:00'\n",
      " '2019-06-23 00:00:00' '2019-03-26 00:00:00' '2018-06-15 00:00:00'\n",
      " '2018-08-08 00:00:00' '2019-02-01 00:00:00' '2018-03-30 00:00:00'\n",
      " '2019-04-23 00:00:00' '2018-06-16 00:00:00' '2018-06-17 00:00:00'\n",
      " '2018-11-24 00:00:00' '2018-12-17 00:00:00' '2018-11-15 00:00:00'\n",
      " '2018-06-18 00:00:00' '2018-08-09 00:00:00' '2019-03-20 00:00:00'\n",
      " '2018-06-19 00:00:00' '2019-06-29 00:00:00' '2019-02-02 00:00:00'\n",
      " '2019-01-28 00:00:00' '2018-03-31 00:00:00' '2018-11-25 00:00:00'\n",
      " '2019-05-26 00:00:00' '2018-09-09 00:00:00' '2018-11-16 00:00:00'\n",
      " '2018-06-21 00:00:00' '2019-04-11 00:00:00' '2018-08-10 00:00:00'\n",
      " '2019-05-03 00:00:00' '2018-06-22 00:00:00' '2019-03-27 00:00:00'\n",
      " '2018-11-17 00:00:00' '2019-02-03 00:00:00' '2018-11-26 00:00:00'\n",
      " '2018-04-01 00:00:00' '2018-06-23 00:00:00' '2018-08-11 00:00:00'\n",
      " '2018-06-24 00:00:00' '2019-04-03 00:00:00' '2018-09-10 00:00:00'\n",
      " '2018-04-02 00:00:00' '2018-08-12 00:00:00' '2018-08-13 00:00:00'\n",
      " '2018-11-27 00:00:00' '2018-12-18 00:00:00' '2018-04-03 00:00:00'\n",
      " '2019-03-28 00:00:00' '2018-07-01 00:00:00' '2019-05-27 00:00:00'\n",
      " '2018-07-02 00:00:00' '2018-08-14 00:00:00' '2019-02-27 00:00:00'\n",
      " '2018-07-03 00:00:00' '2019-07-10 00:00:00' '2018-09-11 00:00:00'\n",
      " '2018-07-05 00:00:00' '2018-04-04 00:00:00' '2018-07-06 00:00:00'\n",
      " '2018-08-15 00:00:00' '2019-02-04 00:00:00' '2019-01-29 00:00:00'\n",
      " '2018-07-08 00:00:00' '2018-07-09 00:00:00' '2018-11-28 00:00:00'\n",
      " '2018-07-10 00:00:00' '2018-08-16 00:00:00' '2018-07-11 00:00:00'\n",
      " '2019-03-29 00:00:00' '2018-04-05 00:00:00' '2018-07-12 00:00:00'\n",
      " '2019-06-13 00:00:00' '2018-07-13 00:00:00' '2018-08-17 00:00:00'\n",
      " '2019-04-25 00:00:00' '2018-07-14 00:00:00' '2018-07-15 00:00:00'\n",
      " '2019-05-04 00:00:00' '2019-02-05 00:00:00' '2018-07-16 00:00:00'\n",
      " '2018-07-17 00:00:00' '2019-06-24 00:00:00' '2018-12-19 00:00:00'\n",
      " '2018-04-06 00:00:00' '2018-07-18 00:00:00' '2018-11-29 00:00:00'\n",
      " '2018-07-19 00:00:00' '2018-07-20 00:00:00' '2019-03-30 00:00:00'\n",
      " '2018-07-21 00:00:00' '2018-07-22 00:00:00' '2018-08-20 00:00:00'\n",
      " '2018-07-24 00:00:00' '2018-07-23 00:00:00' '2018-04-07 00:00:00'\n",
      " '2018-07-25 00:00:00' '2019-05-05 00:00:00' '2019-03-31 00:00:00'\n",
      " '2019-07-04 00:00:00' '2019-03-21 00:00:00' '2018-11-30 00:00:00'\n",
      " '2018-07-27 00:00:00' '2018-09-13 00:00:00' '2018-07-29 00:00:00'\n",
      " '2018-07-28 00:00:00' '2019-04-01 00:00:00' '2018-07-30 00:00:00'\n",
      " '2018-07-31 00:00:00' '2019-02-06 00:00:00' '2018-12-01 00:00:00'\n",
      " '2018-12-20 00:00:00' '2018-12-02 00:00:00' '2018-08-23 00:00:00'\n",
      " '2019-04-26 00:00:00' '2018-09-14 00:00:00' '2019-02-07 00:00:00'\n",
      " '2018-08-24 00:00:00' '2018-04-10 00:00:00' '2019-05-06 00:00:00'\n",
      " '2019-05-29 00:00:00' '2018-08-25 00:00:00' '2019-02-08 00:00:00'\n",
      " '2019-06-14 00:00:00' '2018-08-26 00:00:00' '2019-04-04 00:00:00'\n",
      " '2018-08-27 00:00:00' '2019-02-09 00:00:00' '2019-04-21 00:00:00'\n",
      " '2018-08-28 00:00:00' '2019-02-10 00:00:00' '2018-08-29 00:00:00'\n",
      " '2019-02-11 00:00:00' '2018-12-22 00:00:00' '2019-05-08 00:00:00'\n",
      " '2018-04-13 00:00:00' '2019-03-01 00:00:00' '2018-08-30 00:00:00'\n",
      " '2018-12-05 00:00:00' '2018-08-31 00:00:00' '2018-09-01 00:00:00'\n",
      " '2018-09-15 00:00:00' '2018-09-03 00:00:00' '2018-09-04 00:00:00'\n",
      " '2018-09-02 00:00:00' '2019-04-12 00:00:00' '2018-09-05 00:00:00'\n",
      " '2018-12-06 00:00:00' '2019-03-22 00:00:00' '2019-04-05 00:00:00'\n",
      " '2018-09-06 00:00:00' '2018-09-16 00:00:00' '2018-12-23 00:00:00'\n",
      " '2019-02-24 00:00:00' '2019-02-25 00:00:00' '2019-01-11 00:00:00'\n",
      " '2019-05-30 00:00:00' '2018-12-07 00:00:00' '2019-02-13 00:00:00'\n",
      " '2019-06-15 00:00:00' '2019-06-07 00:00:00' '2019-05-14 00:00:00'\n",
      " '2019-06-25 00:00:00' '2018-04-14 00:00:00' '2019-01-12 00:00:00'\n",
      " '2019-04-06 00:00:00' '2019-02-14 00:00:00' '2019-05-09 00:00:00'\n",
      " '2018-12-24 00:00:00' '2019-04-28 00:00:00' '2018-09-17 00:00:00'\n",
      " '2019-06-19 00:00:00' '2018-04-15 00:00:00' '2019-01-13 00:00:00'\n",
      " '2018-11-18 00:00:00' '2019-01-14 00:00:00' '2019-03-02 00:00:00'\n",
      " '2019-05-15 00:00:00' '2019-04-07 00:00:00' '2019-02-15 00:00:00'\n",
      " '2018-04-16 00:00:00' '2018-12-08 00:00:00' '2019-05-31 00:00:00'\n",
      " '2018-09-18 00:00:00' '2019-01-15 00:00:00' '2019-06-16 00:00:00'\n",
      " '2019-04-08 00:00:00' '2018-12-09 00:00:00' '2019-05-10 00:00:00'\n",
      " '2018-04-17 00:00:00' '2018-11-19 00:00:00' '2019-01-16 00:00:00'\n",
      " '2019-03-03 00:00:00' '2019-02-17 00:00:00' '2019-01-17 00:00:00'\n",
      " '2018-12-25 00:00:00' '2019-05-16 00:00:00' '2018-04-18 00:00:00'\n",
      " '2019-02-18 00:00:00' '2019-06-08 00:00:00' '2019-01-18 00:00:00'\n",
      " '2019-02-19 00:00:00' '2018-09-19 00:00:00' '2019-06-17 00:00:00'\n",
      " '2019-07-08 00:00:00' '2019-04-09 00:00:00' '2018-12-12 00:00:00'\n",
      " '2018-04-19 00:00:00' '2019-01-19 00:00:00' '2019-01-20 00:00:00'\n",
      " '2019-06-01 00:00:00' '2019-02-20 00:00:00' '2019-05-11 00:00:00'\n",
      " '2019-01-21 00:00:00' '2018-12-13 00:00:00' '2019-01-22 00:00:00'\n",
      " '2019-02-21 00:00:00' '2018-12-26 00:00:00' '2018-04-20 00:00:00'\n",
      " '2019-03-04 00:00:00' '2019-05-17 00:00:00' '2019-01-23 00:00:00'\n",
      " '2018-09-20 00:00:00' '2019-05-12 00:00:00' '2019-01-24 00:00:00'\n",
      " '2018-12-27 00:00:00' '2018-04-21 00:00:00' '2019-06-02 00:00:00'\n",
      " '2019-02-22 00:00:00' '2018-04-22 00:00:00' '2019-05-13 00:00:00'\n",
      " '2018-09-21 00:00:00' '2019-07-05 00:00:00' '2019-06-09 00:00:00'\n",
      " '2018-04-23 00:00:00' '2019-05-18 00:00:00' '2019-03-05 00:00:00'\n",
      " '2019-06-03 00:00:00' '2018-04-24 00:00:00' '2019-06-26 00:00:00'\n",
      " '2019-04-24 00:00:00' '2018-09-22 00:00:00' '2018-12-28 00:00:00'\n",
      " '2019-05-19 00:00:00' '2018-04-25 00:00:00' '2019-07-02 00:00:00'\n",
      " '2019-06-10 00:00:00' '2018-09-23 00:00:00' '2019-04-13 00:00:00'\n",
      " '2019-06-18 00:00:00' '2018-12-29 00:00:00' '2019-05-20 00:00:00'\n",
      " '2018-04-26 00:00:00' '2018-09-24 00:00:00' '2019-04-14 00:00:00'\n",
      " '2019-04-15 00:00:00' '2019-06-04 00:00:00' '2018-04-27 00:00:00'\n",
      " '2018-12-30 00:00:00' '2019-03-08 00:00:00' '2018-01-02 00:00:00'\n",
      " '2018-09-25 00:00:00' '2018-04-28 00:00:00' '2018-01-03 00:00:00'\n",
      " '2019-03-09 00:00:00' '2019-04-22 00:00:00' '2018-04-29 00:00:00'\n",
      " '2019-07-12 00:00:00' '2019-03-10 00:00:00' '2018-12-31 00:00:00'\n",
      " '2019-05-21 00:00:00' '2018-01-04 00:00:00' '2018-04-30 00:00:00'\n",
      " '2018-09-26 00:00:00' '2019-04-18 00:00:00' '2018-01-05 00:00:00'\n",
      " '2019-06-05 00:00:00' '2018-05-01 00:00:00' '2019-05-22 00:00:00'\n",
      " '2018-01-06 00:00:00' '2018-09-28 00:00:00' '2019-01-01 00:00:00'\n",
      " '2018-01-07 00:00:00' '2018-09-29 00:00:00' '2019-03-11 00:00:00'\n",
      " '2018-05-02 00:00:00' '2019-01-02 00:00:00' '2018-09-30 00:00:00'\n",
      " '2018-01-08 00:00:00' '2018-10-01 00:00:00' '2019-01-03 00:00:00'\n",
      " '2019-05-23 00:00:00' '2018-05-03 00:00:00' '2019-06-06 00:00:00'\n",
      " '2019-04-19 00:00:00' '2018-10-03 00:00:00' '2019-01-05 00:00:00'\n",
      " '2018-05-04 00:00:00' '2018-10-04 00:00:00' '2018-01-11 00:00:00'\n",
      " '2019-01-06 00:00:00' '2018-10-05 00:00:00' '2019-06-27 00:00:00'\n",
      " '2019-01-07 00:00:00' '2019-03-13 00:00:00' '2018-05-05 00:00:00'\n",
      " '2018-01-12 00:00:00' '2018-10-06 00:00:00' '2018-05-06 00:00:00'\n",
      " '2018-01-13 00:00:00' '2018-10-07 00:00:00' '2019-01-08 00:00:00'\n",
      " '2019-03-14 00:00:00' '2018-10-08 00:00:00' '2018-01-15 00:00:00'\n",
      " '2019-01-09 00:00:00' '2018-05-07 00:00:00' '2019-03-15 00:00:00'\n",
      " '2018-01-16 00:00:00' '2018-10-09 00:00:00' '2019-01-10 00:00:00'\n",
      " '2018-10-10 00:00:00' '2018-05-08 00:00:00' '2019-03-16 00:00:00'\n",
      " '2018-10-11 00:00:00' '2019-03-17 00:00:00' '2018-01-18 00:00:00'\n",
      " '2018-10-12 00:00:00' '2018-05-09 00:00:00' '2019-03-18 00:00:00'\n",
      " '2019-07-17 00:00:00' '2019-07-27 00:00:00' '2018-10-13 00:00:00'\n",
      " '2018-10-14 00:00:00' '2019-07-23 00:00:00' '2019-08-05 00:00:00'\n",
      " '2018-10-15 00:00:00' '2019-06-28 00:00:00' '2018-10-17 00:00:00'\n",
      " '2018-10-18 00:00:00' '2019-07-28 00:00:00' '2019-08-03 00:00:00'\n",
      " '2019-07-31 00:00:00' '2018-10-19 00:00:00' '2018-10-20 00:00:00'\n",
      " '2019-07-24 00:00:00' '2019-08-04 00:00:00' '2019-08-01 00:00:00'\n",
      " '2018-10-21 00:00:00' '2019-08-02 00:00:00' '2018-10-22 00:00:00'\n",
      " '2019-07-29 00:00:00' '2018-10-24 00:00:00' '2018-10-25 00:00:00'\n",
      " '2019-07-25 00:00:00' '2018-10-26 00:00:00' '2018-10-27 00:00:00'\n",
      " '2018-10-28 00:00:00' '2019-07-20 00:00:00' '2018-10-29 00:00:00'\n",
      " '2019-07-13 00:00:00' '2019-10-31 00:00:00' '2019-11-01 00:00:00'\n",
      " '2019-12-14 00:00:00' '2019-07-14 00:00:00' '2019-11-02 00:00:00'\n",
      " '2019-07-21 00:00:00' '2019-12-15 00:00:00' '2019-09-06 00:00:00'\n",
      " '2019-09-07 00:00:00' '2019-11-03 00:00:00' '2019-12-16 00:00:00'\n",
      " '2019-11-04 00:00:00' '2019-09-08 00:00:00' '2019-09-09 00:00:00'\n",
      " '2019-08-11 00:00:00' '2019-09-30 00:00:00' '2019-07-15 00:00:00'\n",
      " '2019-09-01 00:00:00' '2019-09-24 00:00:00' '2019-11-05 00:00:00'\n",
      " '2019-09-10 00:00:00' '2019-08-12 00:00:00' '2019-09-02 00:00:00'\n",
      " '2019-10-08 00:00:00' '2019-12-17 00:00:00' '2019-10-04 00:00:00'\n",
      " '2019-09-16 00:00:00' '2019-10-10 00:00:00' '2019-08-13 00:00:00'\n",
      " '2019-09-25 00:00:00' '2019-09-11 00:00:00' '2019-10-07 00:00:00'\n",
      " '2019-08-14 00:00:00' '2019-10-11 00:00:00' '2019-11-06 00:00:00'\n",
      " '2019-09-12 00:00:00' '2019-09-03 00:00:00' '2019-12-18 00:00:00'\n",
      " '2019-08-15 00:00:00' '2019-09-17 00:00:00' '2019-09-13 00:00:00'\n",
      " '2019-09-04 00:00:00' '2019-10-05 00:00:00' '2019-09-26 00:00:00'\n",
      " '2019-08-17 00:00:00' '2019-10-09 00:00:00' '2019-08-18 00:00:00'\n",
      " '2019-08-06 00:00:00' '2019-11-16 00:00:00' '2019-10-02 00:00:00'\n",
      " '2019-08-19 00:00:00' '2019-08-07 00:00:00' '2019-12-19 00:00:00'\n",
      " '2019-08-08 00:00:00' '2019-08-20 00:00:00' '2019-11-17 00:00:00'\n",
      " '2019-11-09 00:00:00' '2019-08-09 00:00:00' '2019-09-19 00:00:00'\n",
      " '2019-09-27 00:00:00' '2019-11-18 00:00:00' '2019-11-10 00:00:00'\n",
      " '2019-10-06 00:00:00' '2019-12-20 00:00:00' '2019-08-10 00:00:00'\n",
      " '2019-08-21 00:00:00' '2019-10-03 00:00:00' '2019-11-11 00:00:00'\n",
      " '2019-09-20 00:00:00' '2019-11-12 00:00:00' '2019-08-22 00:00:00'\n",
      " '2019-11-19 00:00:00' '2019-11-13 00:00:00' '2019-09-21 00:00:00'\n",
      " '2019-08-23 00:00:00' '2019-11-14 00:00:00' '2019-09-22 00:00:00'\n",
      " '2019-12-21 00:00:00' '2019-08-24 00:00:00' '2019-09-23 00:00:00'\n",
      " '2019-09-28 00:00:00' '2019-11-20 00:00:00' '2019-08-25 00:00:00'\n",
      " '2019-12-22 00:00:00' '2019-11-15 00:00:00' '2019-08-26 00:00:00'\n",
      " '2019-11-21 00:00:00' '2019-12-23 00:00:00' '2019-09-29 00:00:00'\n",
      " '2019-08-27 00:00:00' '2019-08-28 00:00:00' '2019-12-24 00:00:00'\n",
      " '2019-11-22 00:00:00' '2019-08-29 00:00:00' '2019-11-23 00:00:00'\n",
      " '2019-12-25 00:00:00' '2019-10-12 00:00:00' '2019-08-30 00:00:00'\n",
      " '2019-12-26 00:00:00' '2019-10-13 00:00:00' '2019-11-24 00:00:00'\n",
      " '2019-08-31 00:00:00' '2019-12-27 00:00:00' '2019-10-14 00:00:00'\n",
      " '2019-11-25 00:00:00' '2019-10-15 00:00:00' '2019-10-22 00:00:00'\n",
      " '2019-10-20 00:00:00' '2019-12-28 00:00:00' '2019-10-18 00:00:00'\n",
      " '2019-10-16 00:00:00' '2019-10-21 00:00:00' '2019-10-17 00:00:00'\n",
      " '2019-10-19 00:00:00' '2019-11-26 00:00:00' '2019-10-23 00:00:00'\n",
      " '2019-12-29 00:00:00' '2019-11-27 00:00:00' '2019-10-24 00:00:00'\n",
      " '2019-12-30 00:00:00' '2019-10-25 00:00:00' '2019-10-26 00:00:00'\n",
      " '2019-10-27 00:00:00' '2019-10-28 00:00:00' '2019-12-31 00:00:00'\n",
      " '2019-10-29 00:00:00' '2019-11-28 00:00:00' '2019-11-29 00:00:00'\n",
      " '2019-11-30 00:00:00' '2019-12-01 00:00:00' '2019-12-04 00:00:00'\n",
      " '2019-12-05 00:00:00' '2019-12-06 00:00:00' '2019-12-07 00:00:00'\n",
      " '2019-12-08 00:00:00' '2019-12-09 00:00:00' '2019-12-10 00:00:00'\n",
      " '2019-12-11 00:00:00' '2018-03-10 00:00:00' '2018-02-05 00:00:00'\n",
      " '2018-03-05 00:00:00' '2018-02-28 00:00:00' '2018-03-12 00:00:00'\n",
      " '2018-03-08 00:00:00' '2018-02-22 00:00:00' '2018-02-23 00:00:00'\n",
      " '2018-03-14 00:00:00' '2018-02-16 00:00:00' '2018-02-06 00:00:00'\n",
      " '2018-03-11 00:00:00' '2018-01-24 00:00:00' '2018-03-25 00:00:00'\n",
      " '2018-03-21 00:00:00' '2018-02-12 00:00:00' '2018-02-26 00:00:00'\n",
      " '2018-01-25 00:00:00' '2018-02-13 00:00:00' '2018-03-17 00:00:00'\n",
      " '2018-01-26 00:00:00' '2018-03-22 00:00:00' '2018-02-27 00:00:00'\n",
      " '2018-02-14 00:00:00' '2018-03-16 00:00:00' '2018-03-01 00:00:00'\n",
      " '2018-01-27 00:00:00' '2018-03-09 00:00:00' '2018-01-29 00:00:00'\n",
      " '2018-01-30 00:00:00' '2018-02-17 00:00:00' '2018-03-18 00:00:00'\n",
      " '2018-03-23 00:00:00' '2018-01-31 00:00:00' '2018-02-18 00:00:00'\n",
      " '2018-02-01 00:00:00' '2018-03-02 00:00:00' '2018-02-19 00:00:00'\n",
      " '2018-02-02 00:00:00' '2018-03-03 00:00:00' '2018-02-03 00:00:00'\n",
      " '2018-02-04 00:00:00' '2018-03-04 00:00:00' '2018-02-21 00:00:00'\n",
      " '2018-01-19 00:00:00' '2018-03-24 00:00:00' '2018-03-06 00:00:00'\n",
      " '2018-02-08 00:00:00' '2018-01-20 00:00:00' '2018-01-21 00:00:00'\n",
      " '2018-02-09 00:00:00' '2018-01-22 00:00:00' '2018-02-10 00:00:00'\n",
      " '2018-05-10 00:00:00' '2018-05-13 00:00:00' '2018-05-14 00:00:00'\n",
      " '2018-05-15 00:00:00' '2018-05-16 00:00:00' '2018-05-17 00:00:00'\n",
      " '2018-05-18 00:00:00' '2018-05-19 00:00:00' '2018-05-20 00:00:00'\n",
      " '2018-05-21 00:00:00' '2018-05-22 00:00:00' '2018-05-23 00:00:00'\n",
      " '2018-05-24 00:00:00' '2018-05-25 00:00:00' '2018-05-26 00:00:00'\n",
      " '2018-05-27 00:00:00' '2018-05-28 00:00:00' '2018-05-29 00:00:00'\n",
      " '2018-05-30 00:00:00']\n",
      "NUMERICAL: Column name: dauer_betreuung_in_min, dtype: int64, #qty unique values: 574\n",
      "CATEGORICAL: Column name: mitarbeiter_personalnummer, dtype: object, values: ['5003463' '0303441' '0317495' ... '1012730' '0066187' '1014160']\n",
      "NUMERICAL: Column name: mitarbeiter_anstellungsnummer, dtype: int64, #qty unique values: 6892\n",
      "CATEGORICAL: Column name: mitarbeiter_login, dtype: object, values: ['B5003463' 'I0303441' 'I0317495' ... 'I0321826' 'I0310375' 'E1014160']\n",
      "NUMERICAL/POSSIBLY CATEGORICAL: Column name: BATCH_RUN_ID, dtype: int64, unique values (#qty): [100], (1)\n"
     ]
    }
   ],
   "source": [
    "tacs_df = pd.read_csv(base_folder + \"TACS_DATEN.csv\", encoding=\"ISO-8859-1\")\n",
    "\n",
    "evaluate_col_classes(tacs_df)"
   ],
   "metadata": {
    "collapsed": false,
    "pycharm": {
     "name": "#%%\n"
    }
   }
  },
  {
   "cell_type": "code",
   "execution_count": 28,
   "outputs": [
    {
     "name": "stdout",
     "output_type": "stream",
     "text": [
      "NUMERICAL: Column name: FALNR, dtype: int64, #qty unique values: 201632\n",
      "CATEGORICAL: Column name: DKEY1, dtype: object, values: ['H34.8' 'Z92.2' 'R73.9' ... 'B97.3' 'B39.3' 'A00.1']\n",
      "NUMERICAL/POSSIBLY CATEGORICAL: Column name: DKAT1, dtype: int64, unique values (#qty): [11, 15, 17, 19], (4)\n",
      "CATEGORICAL: Column name: DIADT, dtype: object, values: ['2017-01-03' '2017-01-04' '2017-01-05' ... '2020-02-25' '2020-02-26'\n",
      " '2020-04-23']\n",
      "CATEGORICAL: Column name: DRG_CATEGORY, dtype: object, values: ['S' 'P']\n"
     ]
    }
   ],
   "source": [
    "diagnosis_norm_df = pd.read_csv(base_folder + \"V_LA_ISH_NDIA_NORM.csv\", encoding=\"ISO-8859-1\")\n",
    "\n",
    "evaluate_col_classes(diagnosis_norm_df)"
   ],
   "metadata": {
    "collapsed": false,
    "pycharm": {
     "name": "#%%\n"
    }
   }
  },
  {
   "cell_type": "code",
   "execution_count": 29,
   "outputs": [
    {
     "name": "stdout",
     "output_type": "stream",
     "text": [
      "NUMERICAL: Column name: auftrag_nr, dtype: int64, #qty unique values: 9430\n",
      "CATEGORICAL: Column name: erfassung, dtype: object, values: ['2017-12-30' '2017-12-31' '2018-01-03' '2018-01-04' '2018-01-05'\n",
      " '2018-01-06' '2018-01-08' '2018-01-09' '2018-01-10' '2018-01-11'\n",
      " '2018-01-12' '2018-01-13' '2018-01-14' '2018-01-15' '2018-01-16'\n",
      " '2018-01-17' '2018-01-18' '2018-01-19' '2018-01-20' '2018-01-21'\n",
      " '2018-01-22' '2018-01-23' '2018-01-24' '2018-01-25' '2018-01-26'\n",
      " '2018-01-27' '2018-01-28' '2018-01-29' '2018-01-30' '2018-01-31'\n",
      " '2018-02-01' '2018-02-02' '2018-02-03' '2018-02-04' '2018-02-05'\n",
      " '2018-02-06' '2018-02-07' '2018-02-08' '2018-02-09' '2018-02-10'\n",
      " '2018-02-11' '2018-02-12' '2018-02-13' '2018-02-14' '2018-02-15'\n",
      " '2018-02-16' '2018-02-18' '2018-02-19' '2018-02-20' '2018-02-21'\n",
      " '2018-02-22' '2018-02-23' '2018-02-24' '2018-02-25' '2018-02-26'\n",
      " '2018-02-27' '2018-02-28' '2018-03-01' '2018-03-02' '2018-03-03'\n",
      " '2018-03-05' '2018-03-06' '2018-03-07' '2018-03-08' '2018-03-09'\n",
      " '2018-03-10' '2018-03-12' '2018-03-13' '2018-03-14' '2018-03-15'\n",
      " '2018-03-16' '2018-03-18' '2018-03-19' '2018-03-20' '2018-03-21'\n",
      " '2018-03-22' '2018-03-23' '2018-03-24' '2018-03-25' '2018-03-26'\n",
      " '2018-03-27' '2018-03-28' '2018-03-29' '2018-03-30' '2018-03-31'\n",
      " '2018-04-02' '2018-04-03' '2018-04-04' '2018-04-05' '2018-04-06'\n",
      " '2018-04-07' '2018-04-08' '2018-04-09' '2018-04-10' '2018-04-11'\n",
      " '2018-04-12' '2018-04-13' '2018-04-14' '2018-04-15' '2018-04-16'\n",
      " '2018-04-17' '2018-04-18' '2018-04-19' '2018-04-20' '2018-04-21'\n",
      " '2018-04-23' '2018-04-24' '2018-04-25' '2018-04-26' '2018-04-27'\n",
      " '2018-04-28' '2018-04-30' '2018-05-01' '2018-05-02' '2018-05-03'\n",
      " '2018-05-04' '2018-05-05' '2018-05-06' '2018-05-07' '2018-05-08'\n",
      " '2018-05-09' '2018-05-10' '2018-05-11' '2018-05-12' '2018-05-13'\n",
      " '2018-05-14' '2018-05-15' '2018-05-16' '2018-05-17' '2018-05-18'\n",
      " '2018-05-19' '2018-05-21' '2018-05-22' '2018-05-23' '2018-05-24'\n",
      " '2018-05-25' '2018-05-26' '2018-05-27' '2018-05-28' '2018-05-29'\n",
      " '2018-05-30' '2018-05-31' '2018-06-01' '2018-06-02' '2018-06-04'\n",
      " '2018-06-05' '2018-06-06' '2018-06-07' '2018-06-08' '2018-06-09'\n",
      " '2018-06-11' '2018-06-12' '2018-06-13' '2018-06-14' '2018-06-15'\n",
      " '2018-06-16' '2018-06-17' '2018-06-18' '2018-06-19' '2018-06-20'\n",
      " '2018-06-21' '2018-06-22' '2018-06-23' '2018-06-25' '2018-06-26'\n",
      " '2018-06-27' '2018-06-28' '2018-06-29' '2018-06-30' '2018-07-02'\n",
      " '2018-07-03' '2018-07-04' '2018-07-05' '2018-07-06' '2018-07-07'\n",
      " '2018-07-08' '2018-07-09' '2018-07-10' '2018-07-11' '2018-07-12'\n",
      " '2018-07-13' '2018-07-14' '2018-07-15' '2018-07-16' '2018-07-17'\n",
      " '2018-07-18' '2018-07-19' '2018-07-20' '2018-07-21' '2018-07-23'\n",
      " '2018-07-24' '2018-07-25' '2018-07-26' '2018-07-27' '2018-07-28'\n",
      " '2018-07-29' '2018-07-30' '2018-07-31' '2018-08-01' '2018-08-02'\n",
      " '2018-08-03' '2018-08-04' '2018-08-05' '2018-08-06' '2018-08-07'\n",
      " '2018-08-08' '2018-08-09' '2018-08-10' '2018-08-11' '2018-08-13'\n",
      " '2018-08-14' '2018-08-15' '2018-08-16' '2018-08-17' '2018-08-18'\n",
      " '2018-08-19' '2018-08-20' '2018-08-21' '2018-08-22' '2018-08-23'\n",
      " '2018-08-24' '2018-08-25' '2018-08-27' '2018-08-28' '2018-08-29'\n",
      " '2018-08-30' '2018-08-31' '2018-09-01' '2018-09-02' '2018-09-03'\n",
      " '2018-09-04' '2018-09-05' '2018-09-06' '2018-09-07' '2018-09-08'\n",
      " '2018-09-09' '2018-09-10' '2018-09-11' '2018-09-12' '2018-09-13'\n",
      " '2018-09-14' '2018-09-15' '2018-09-17' '2018-09-18' '2018-09-19'\n",
      " '2018-09-20' '2018-09-21' '2018-09-22' '2018-09-24' '2018-09-25'\n",
      " '2018-09-26' '2018-09-27' '2018-09-28' '2018-09-29' '2018-10-01'\n",
      " '2018-10-02' '2018-10-03' '2018-10-04' '2018-10-05' '2018-10-06'\n",
      " '2018-10-07' '2018-10-08' '2018-10-09' '2018-10-10' '2018-10-11'\n",
      " '2018-10-12' '2018-10-13' '2018-10-15' '2018-10-16' '2018-10-17'\n",
      " '2018-10-18' '2018-10-19' '2018-10-20' '2018-10-21' '2018-10-23'\n",
      " '2018-10-25']\n",
      "CATEGORICAL: Column name: entnahme, dtype: object, values: ['2017-12-29' '2018-01-03' nan '2018-01-05' '2018-01-02' '2018-01-06'\n",
      " '2018-01-08' '2018-01-09' '2018-01-10' '2018-01-11' '2018-01-12'\n",
      " '2018-01-14' '2018-01-15' '2018-01-13' '2018-01-16' '2018-01-17'\n",
      " '2018-01-18' '2018-01-19' '2018-01-20' '2018-01-21' '2018-02-21'\n",
      " '2018-01-22' '2018-01-23' '2018-01-24' '2018-01-25' '2018-01-26'\n",
      " '2018-01-27' '2018-01-28' '2018-01-29' '2018-01-30' '2018-01-31'\n",
      " '2018-02-01' '2018-02-02' '2018-02-03' '2018-02-04' '2018-02-05'\n",
      " '2018-02-06' '2018-02-07' '2018-02-08' '2018-02-09' '2018-02-10'\n",
      " '2018-02-12' '2018-02-11' '2018-02-13' '2018-02-14' '2018-02-15'\n",
      " '2018-02-16' '2018-02-17' '2018-02-19' '2018-02-20' '2018-02-22'\n",
      " '2018-12-22' '2018-02-23' '2018-02-24' '2018-02-25' '2018-02-26'\n",
      " '2018-02-27' '2018-02-28' '2018-03-01' '2018-03-02' '2018-03-05'\n",
      " '2018-03-06' '2018-03-07' '2018-03-08' '2018-03-09' '2018-03-12'\n",
      " '2018-03-11' '2018-03-13' '2018-03-14' '2018-03-15' '2018-03-16'\n",
      " '2018-03-17' '2018-03-19' '2018-03-20' '2018-03-21' '2018-03-22'\n",
      " '2018-03-23' '2018-03-24' '2018-03-25' '2018-03-26' '2018-03-27'\n",
      " '2018-03-28' '2018-03-29' '2018-03-30' '2018-04-02' '2018-04-03'\n",
      " '2018-04-04' '2018-04-05' '2018-04-06' '2018-04-07' '2018-04-08'\n",
      " '2018-04-09' '2018-04-10' '2018-04-11' '2018-04-12' '2018-04-13'\n",
      " '2018-04-14' '2018-04-15' '2018-04-16' '2018-04-17' '2018-04-18'\n",
      " '2018-04-19' '2018-04-20' '2018-04-23' '2018-04-24' '2018-04-25'\n",
      " '2018-04-26' '2018-04-27' '2018-04-28' '2018-04-30' '2018-05-01'\n",
      " '2018-05-02' '2018-05-03' '2018-05-04' '2018-05-05' '2018-05-06'\n",
      " '2018-05-07' '2018-05-08' '2018-05-09' '2018-05-10' '2018-05-11'\n",
      " '2018-05-12' '2018-05-13' '2018-05-14' '2018-05-15' '2018-05-16'\n",
      " '2018-05-17' '2018-05-18' '2018-05-21' '2018-05-22' '2018-05-23'\n",
      " '2018-05-24' '2018-05-25' '2018-05-26' '2018-05-28' '2018-05-29'\n",
      " '2018-05-30' '2018-05-31' '2018-06-01' '2018-06-02' '2018-06-04'\n",
      " '2018-06-05' '2018-06-06' '2018-06-07' '2018-06-08' '2018-06-09'\n",
      " '2018-06-11' '2018-06-12' '2018-06-13' '2018-06-14' '2018-06-15'\n",
      " '2018-06-16' '2018-06-18' '2018-06-19' '2018-06-20' '2018-06-21'\n",
      " '2018-06-22' '2018-06-23' '2018-06-25' '2018-06-26' '2018-06-27'\n",
      " '2018-06-28' '2018-06-29' '2018-06-30' '2018-07-02' '2018-07-03'\n",
      " '2018-07-04' '2018-07-05' '2018-07-06' '2018-07-07' '2018-07-08'\n",
      " '2018-07-09' '2018-07-10' '2018-07-11' '2018-07-12' '2018-07-13'\n",
      " '2018-07-14' '2018-07-15' '2018-07-16' '2018-07-17' '2018-07-18'\n",
      " '2018-07-19' '2018-07-20' '2018-07-23' '2018-07-22' '2018-07-24'\n",
      " '2018-07-25' '2018-07-26' '2018-07-27' '2018-07-29' '2018-07-28'\n",
      " '2018-07-30' '2018-07-31' '2018-08-01' '2018-08-02' '2018-08-03'\n",
      " '2018-08-06' '2018-08-07' '2018-08-08' '2018-08-09' '2018-08-10'\n",
      " '2018-08-11' '2018-08-13' '2018-08-14' '2018-08-15' '2018-08-16'\n",
      " '2018-08-17' '2018-08-19' '2018-08-18' '2018-08-20' '2018-08-21'\n",
      " '2018-08-22' '2018-08-23' '2018-08-24' '2018-08-25' '2018-08-27'\n",
      " '2018-08-28' '2018-08-29' '2018-08-30' '2018-08-31' '2018-09-01'\n",
      " '2018-09-03' '2018-09-04' '2018-09-05' '2018-09-06' '2018-09-07'\n",
      " '2018-09-08' '2018-09-09' '2018-09-10' '2018-06-10' '2018-09-11'\n",
      " '2018-09-12' '2018-09-13' '2018-09-14' '2018-09-15' '2018-09-17'\n",
      " '2018-09-18' '2018-09-19' '2018-09-20' '2018-09-21' '2018-09-22'\n",
      " '2018-09-24' '2018-09-23' '2018-09-25' '2018-09-26' '2018-09-27'\n",
      " '2018-09-28' '2018-09-29' '2018-09-30' '2018-10-01' '2018-10-02'\n",
      " '2018-10-03' '2018-10-04' '2018-10-05' '2018-10-06' '2018-10-07'\n",
      " '2018-10-08' '2018-10-09' '2018-10-10' '2018-10-11' '2018-10-12'\n",
      " '2018-10-13' '2018-10-15' '2018-10-16' '2018-10-17' '2018-10-18'\n",
      " '2018-10-19' '2018-10-21' '2018-10-22' '2018-10-24']\n",
      "CATEGORICAL: Column name: vorname, dtype: object, values: ['Roland' 'Pia' 'Eloina' ... 'Maria Grazia' 'Lausanne' 'Ellen']\n",
      "CATEGORICAL: Column name: nachname, dtype: object, values: ['Streiff' 'Rüfenacht' 'Petrick Ibele' ... 'Grunder-Wyss'\n",
      " 'Italiano-Azzarello' 'Jamouridis']\n",
      "CATEGORICAL: Column name: geburtsdatum, dtype: object, values: ['1965-10-04' '1956-01-18' '1949-04-11' ... '1941-05-15' '1934-01-21'\n",
      " '1989-08-05']\n",
      "CATEGORICAL: Column name: patient_id, dtype: object, values: ['00013253506' '00006240593' '00011897031' ... '00000664262' '00000535803'\n",
      " '00000720140']\n",
      "CATEGORICAL: Column name: auftraggeber, dtype: object, values: ['sepi' 'casc' 'S068' 'perp' 'S107' '2030' '3943' '3766' 'S338' '2037'\n",
      " 'S099' 'S021' 'S138' '2458' 'S005' 'S063' '3604' '3725' 'S103' 'S073'\n",
      " 'S055' '3352' '3059' 'lasl' '4142' '3390' 'S003' '9196' '3743' 'S303'\n",
      " 'S351' 'S122' 'S144' 'S067' '3425' 'S053' 'S439' 'S310' 'S071' 'S394'\n",
      " '2417' '8453' 'S167' 'S248' '2381' 'S381' 'S110' '3044' '9733' 'S075'\n",
      " '2048' 'S076' 'S077' 'S368' 'S028' 'S123' 'S078' 'S048' 'S038' 'S012'\n",
      " 'hebh' 'S200' 'S372' 'S272' 'S070' '3108' 'S369' 'larl' 'busl' 'S062'\n",
      " 'S054' 'islm' 'S165' 'S027' 'S330' 'S057' 'S074' 'S114' 'S304' 'S374'\n",
      " 'S355' 'S376' 'S365' 'S006' '9324' 'S132' '3040' 'S129' 'Sep-01' 'S124'\n",
      " 'S072' 'S322' 'S008' 'S383' '3602' '5633' '3389' 'Sep-03' 'S058' 'S311'\n",
      " 'S120' 'S127' 'dros']\n",
      "CATEGORICAL: Column name: kostenstelle, dtype: object, values: ['sepi' 'casc' 'ubiv' 'lasv' 'prow' 'hesv' 'busv' 'islm' 'Sep-02' 'Sep-03'\n",
      " 'dros']\n",
      "CATEGORICAL: Column name: material_typ, dtype: object, values: ['are' 'a' 'a?' 'aw' 'u' 'tbs' 'kult' 'udk' 'stn' 'fl' 'sp' 'awo' 'anas'\n",
      " 'fdr' 'us' 'ara' 'uk' 'ava' 'uc' 'apea' 'ain' 'ahau' 'ums' 'fasz' 'adr'\n",
      " 'fpl' 'auar' 'aeih' 'div']\n",
      "CATEGORICAL: Column name: transport, dtype: object, values: ['tmpo' 'uck' 'ster' 'tmes' 'stur' 'tmro' 'tmcv' 'plat' 'tmpi' 'tm']\n",
      "CATEGORICAL: Column name: resultat, dtype: object, values: ['nn' 'efam' 'f' 'nin']\n",
      "CATEGORICAL: Column name: analyse_methode, dtype: object, values: ['Kolonie' 'PCR']\n",
      "CATEGORICAL: Column name: screening_context, dtype: object, values: [nan 'Klinisch']\n"
     ]
    }
   ],
   "source": [
    "vre_screening_df = pd.read_csv(base_folder + \"VRE_SCREENING_DATA.csv\", encoding=\"ISO-8859-1\")\n",
    "\n",
    "evaluate_col_classes(vre_screening_df)"
   ],
   "metadata": {
    "collapsed": false,
    "pycharm": {
     "name": "#%%\n"
    }
   }
  },
  {
   "cell_type": "code",
   "execution_count": null,
   "outputs": [],
   "source": [
    "\n"
   ],
   "metadata": {
    "collapsed": false,
    "pycharm": {
     "name": "#%%\n"
    }
   }
  }
 ],
 "metadata": {
  "kernelspec": {
   "display_name": "Python 3",
   "language": "python",
   "name": "python3"
  },
  "language_info": {
   "codemirror_mode": {
    "name": "ipython",
    "version": 2
   },
   "file_extension": ".py",
   "mimetype": "text/x-python",
   "name": "python",
   "nbconvert_exporter": "python",
   "pygments_lexer": "ipython2",
   "version": "2.7.6"
  }
 },
 "nbformat": 4,
 "nbformat_minor": 0
}