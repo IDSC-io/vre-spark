{
 "cells": [
  {
   "cell_type": "code",
   "execution_count": 2,
   "metadata": {
    "collapsed": true
   },
   "outputs": [],
   "source": [
    "import sys\n",
    "import os\n",
    "\n",
    "import numpy as np\n",
    "import pandas as pd\n",
    "import matplotlib.pyplot as plt\n",
    "\n",
    "sys.path.append('../')\n",
    "os.chdir(\"../\")\n",
    "\n",
    "base_folder = \"./data/interim/model_data/\""
   ]
  },
  {
   "cell_type": "code",
   "execution_count": 24,
   "outputs": [],
   "source": [
    "\n",
    "vre_screening_df = pd.read_csv(base_folder + \"VRE_SCREENING_DATA.csv\", encoding=\"ISO-8859-1\", parse_dates=[\"Birth Date\"], dtype=\"str\")\n",
    "\n",
    "# do some preprocessing\n",
    "vre_screening_df[\"Patient ID\"] = vre_screening_df[\"Patient ID\"].apply(lambda patient_id: str(patient_id).zfill(11))"
   ],
   "metadata": {
    "collapsed": false,
    "pycharm": {
     "name": "#%%\n"
    }
   }
  },
  {
   "cell_type": "code",
   "execution_count": 14,
   "outputs": [
    {
     "data": {
      "text/plain": "      Order ID          Record Date     Measurement Date Patient Number  \\\n0      2803033           30.12.2017           29.12.2017        1115096   \n1      2803033           2017-12-30           2017-12-29            NaN   \n2      2803034           2017-12-30           2017-12-29            NaN   \n3      2803034           30.12.2017           29.12.2017        1115096   \n4      2803035           30.12.2017           29.12.2017         320367   \n...        ...                  ...                  ...            ...   \n39336      NaN  2020-03-04 00:00:00  2020-03-09 00:00:00            NaN   \n39337      NaN  2020-03-09 00:00:00  2020-03-11 00:00:00            NaN   \n39338      NaN  2020-03-09 00:00:00  2020-03-12 00:00:00            NaN   \n39339      NaN  2020-06-08 00:00:00  2020-06-10 00:00:00            NaN   \n39340      NaN  2020-06-29 00:00:00  2020-06-29 00:00:00            NaN   \n\n          Last Name    First Name Birth Date Gender Zip Code  \\\n0           Streiff        Roland 1965-04-10   male     4537   \n1           Streiff        Roland 1965-10-04    NaN      NaN   \n2           Streiff        Roland 1965-10-04    NaN      NaN   \n3           Streiff        Roland 1965-04-10   male     4537   \n4      RÃÂ¼fenacht        Roland 1956-01-18   male     3512   \n...             ...           ...        ...    ...      ...   \n39336          Nobs      Annelise 1953-04-20      W      NaN   \n39337       Walther      Bernardo 1949-11-27   male      NaN   \n39338    PfÃÂ¤ffli      Margrith 1951-05-30      W      NaN   \n39339        Maurer        Martin 1966-10-17   male      NaN   \n39340        Stucki  Robert Ernst 1935-12-22   male      NaN   \n\n      Place of Residence Canton   Patient ID Requester Cost Unit  \\\n0            Wiedlisbach     BE  00013253506      sepi      sepi   \n1                    NaN    NaN  00013253506      sepi      sepi   \n2                    NaN    NaN  00013253506      sepi      sepi   \n3            Wiedlisbach     BE  00013253506      sepi      sepi   \n4             Walkringen     BE  00006240593      sepi      sepi   \n...                  ...    ...          ...       ...       ...   \n39336                NaN    NaN  00008026173       NaN       NaN   \n39337                NaN    NaN  00008182809       NaN       NaN   \n39338                NaN    NaN  00009290010       NaN       NaN   \n39339                NaN    NaN  00006156959       NaN       NaN   \n39340                NaN    NaN  00000374246       NaN       NaN   \n\n      Material Type Transport Result Analysis Method Screening Context  \n0               are      tmpo     nn         Kolonie               NaN  \n1               are      tmpo     nn         Kolonie               NaN  \n2                 a      tmpo     nn         Kolonie          Klinisch  \n3                 a      tmpo     nn         Kolonie               NaN  \n4               are      tmpo     nn         Kolonie               NaN  \n...             ...       ...    ...             ...               ...  \n39336           NaN       NaN  VAN B             NaN                KB  \n39337           NaN       NaN  VAN B             NaN                KP  \n39338           NaN       NaN  VAN A             NaN                WS  \n39339           NaN       NaN  VAN B             NaN                WS  \n39340           NaN       NaN  VAN B             NaN                KP  \n\n[39341 rows x 19 columns]",
      "text/html": "<div>\n<style scoped>\n    .dataframe tbody tr th:only-of-type {\n        vertical-align: middle;\n    }\n\n    .dataframe tbody tr th {\n        vertical-align: top;\n    }\n\n    .dataframe thead th {\n        text-align: right;\n    }\n</style>\n<table border=\"1\" class=\"dataframe\">\n  <thead>\n    <tr style=\"text-align: right;\">\n      <th></th>\n      <th>Order ID</th>\n      <th>Record Date</th>\n      <th>Measurement Date</th>\n      <th>Patient Number</th>\n      <th>Last Name</th>\n      <th>First Name</th>\n      <th>Birth Date</th>\n      <th>Gender</th>\n      <th>Zip Code</th>\n      <th>Place of Residence</th>\n      <th>Canton</th>\n      <th>Patient ID</th>\n      <th>Requester</th>\n      <th>Cost Unit</th>\n      <th>Material Type</th>\n      <th>Transport</th>\n      <th>Result</th>\n      <th>Analysis Method</th>\n      <th>Screening Context</th>\n    </tr>\n  </thead>\n  <tbody>\n    <tr>\n      <th>0</th>\n      <td>2803033</td>\n      <td>30.12.2017</td>\n      <td>29.12.2017</td>\n      <td>1115096</td>\n      <td>Streiff</td>\n      <td>Roland</td>\n      <td>1965-04-10</td>\n      <td>male</td>\n      <td>4537</td>\n      <td>Wiedlisbach</td>\n      <td>BE</td>\n      <td>00013253506</td>\n      <td>sepi</td>\n      <td>sepi</td>\n      <td>are</td>\n      <td>tmpo</td>\n      <td>nn</td>\n      <td>Kolonie</td>\n      <td>NaN</td>\n    </tr>\n    <tr>\n      <th>1</th>\n      <td>2803033</td>\n      <td>2017-12-30</td>\n      <td>2017-12-29</td>\n      <td>NaN</td>\n      <td>Streiff</td>\n      <td>Roland</td>\n      <td>1965-10-04</td>\n      <td>NaN</td>\n      <td>NaN</td>\n      <td>NaN</td>\n      <td>NaN</td>\n      <td>00013253506</td>\n      <td>sepi</td>\n      <td>sepi</td>\n      <td>are</td>\n      <td>tmpo</td>\n      <td>nn</td>\n      <td>Kolonie</td>\n      <td>NaN</td>\n    </tr>\n    <tr>\n      <th>2</th>\n      <td>2803034</td>\n      <td>2017-12-30</td>\n      <td>2017-12-29</td>\n      <td>NaN</td>\n      <td>Streiff</td>\n      <td>Roland</td>\n      <td>1965-10-04</td>\n      <td>NaN</td>\n      <td>NaN</td>\n      <td>NaN</td>\n      <td>NaN</td>\n      <td>00013253506</td>\n      <td>sepi</td>\n      <td>sepi</td>\n      <td>a</td>\n      <td>tmpo</td>\n      <td>nn</td>\n      <td>Kolonie</td>\n      <td>Klinisch</td>\n    </tr>\n    <tr>\n      <th>3</th>\n      <td>2803034</td>\n      <td>30.12.2017</td>\n      <td>29.12.2017</td>\n      <td>1115096</td>\n      <td>Streiff</td>\n      <td>Roland</td>\n      <td>1965-04-10</td>\n      <td>male</td>\n      <td>4537</td>\n      <td>Wiedlisbach</td>\n      <td>BE</td>\n      <td>00013253506</td>\n      <td>sepi</td>\n      <td>sepi</td>\n      <td>a</td>\n      <td>tmpo</td>\n      <td>nn</td>\n      <td>Kolonie</td>\n      <td>NaN</td>\n    </tr>\n    <tr>\n      <th>4</th>\n      <td>2803035</td>\n      <td>30.12.2017</td>\n      <td>29.12.2017</td>\n      <td>320367</td>\n      <td>RÃÂ¼fenacht</td>\n      <td>Roland</td>\n      <td>1956-01-18</td>\n      <td>male</td>\n      <td>3512</td>\n      <td>Walkringen</td>\n      <td>BE</td>\n      <td>00006240593</td>\n      <td>sepi</td>\n      <td>sepi</td>\n      <td>are</td>\n      <td>tmpo</td>\n      <td>nn</td>\n      <td>Kolonie</td>\n      <td>NaN</td>\n    </tr>\n    <tr>\n      <th>...</th>\n      <td>...</td>\n      <td>...</td>\n      <td>...</td>\n      <td>...</td>\n      <td>...</td>\n      <td>...</td>\n      <td>...</td>\n      <td>...</td>\n      <td>...</td>\n      <td>...</td>\n      <td>...</td>\n      <td>...</td>\n      <td>...</td>\n      <td>...</td>\n      <td>...</td>\n      <td>...</td>\n      <td>...</td>\n      <td>...</td>\n      <td>...</td>\n    </tr>\n    <tr>\n      <th>39336</th>\n      <td>NaN</td>\n      <td>2020-03-04 00:00:00</td>\n      <td>2020-03-09 00:00:00</td>\n      <td>NaN</td>\n      <td>Nobs</td>\n      <td>Annelise</td>\n      <td>1953-04-20</td>\n      <td>W</td>\n      <td>NaN</td>\n      <td>NaN</td>\n      <td>NaN</td>\n      <td>00008026173</td>\n      <td>NaN</td>\n      <td>NaN</td>\n      <td>NaN</td>\n      <td>NaN</td>\n      <td>VAN B</td>\n      <td>NaN</td>\n      <td>KB</td>\n    </tr>\n    <tr>\n      <th>39337</th>\n      <td>NaN</td>\n      <td>2020-03-09 00:00:00</td>\n      <td>2020-03-11 00:00:00</td>\n      <td>NaN</td>\n      <td>Walther</td>\n      <td>Bernardo</td>\n      <td>1949-11-27</td>\n      <td>male</td>\n      <td>NaN</td>\n      <td>NaN</td>\n      <td>NaN</td>\n      <td>00008182809</td>\n      <td>NaN</td>\n      <td>NaN</td>\n      <td>NaN</td>\n      <td>NaN</td>\n      <td>VAN B</td>\n      <td>NaN</td>\n      <td>KP</td>\n    </tr>\n    <tr>\n      <th>39338</th>\n      <td>NaN</td>\n      <td>2020-03-09 00:00:00</td>\n      <td>2020-03-12 00:00:00</td>\n      <td>NaN</td>\n      <td>PfÃÂ¤ffli</td>\n      <td>Margrith</td>\n      <td>1951-05-30</td>\n      <td>W</td>\n      <td>NaN</td>\n      <td>NaN</td>\n      <td>NaN</td>\n      <td>00009290010</td>\n      <td>NaN</td>\n      <td>NaN</td>\n      <td>NaN</td>\n      <td>NaN</td>\n      <td>VAN A</td>\n      <td>NaN</td>\n      <td>WS</td>\n    </tr>\n    <tr>\n      <th>39339</th>\n      <td>NaN</td>\n      <td>2020-06-08 00:00:00</td>\n      <td>2020-06-10 00:00:00</td>\n      <td>NaN</td>\n      <td>Maurer</td>\n      <td>Martin</td>\n      <td>1966-10-17</td>\n      <td>male</td>\n      <td>NaN</td>\n      <td>NaN</td>\n      <td>NaN</td>\n      <td>00006156959</td>\n      <td>NaN</td>\n      <td>NaN</td>\n      <td>NaN</td>\n      <td>NaN</td>\n      <td>VAN B</td>\n      <td>NaN</td>\n      <td>WS</td>\n    </tr>\n    <tr>\n      <th>39340</th>\n      <td>NaN</td>\n      <td>2020-06-29 00:00:00</td>\n      <td>2020-06-29 00:00:00</td>\n      <td>NaN</td>\n      <td>Stucki</td>\n      <td>Robert Ernst</td>\n      <td>1935-12-22</td>\n      <td>male</td>\n      <td>NaN</td>\n      <td>NaN</td>\n      <td>NaN</td>\n      <td>00000374246</td>\n      <td>NaN</td>\n      <td>NaN</td>\n      <td>NaN</td>\n      <td>NaN</td>\n      <td>VAN B</td>\n      <td>NaN</td>\n      <td>KP</td>\n    </tr>\n  </tbody>\n</table>\n<p>39341 rows × 19 columns</p>\n</div>"
     },
     "execution_count": 14,
     "metadata": {},
     "output_type": "execute_result"
    }
   ],
   "source": [
    "vre_screening_df"
   ],
   "metadata": {
    "collapsed": false,
    "pycharm": {
     "name": "#%%\n"
    }
   }
  },
  {
   "cell_type": "code",
   "execution_count": 19,
   "outputs": [],
   "source": [
    "case_df = pd.read_csv(base_folder + \"DIM_FALL.csv\", encoding=\"ISO-8859-1\", parse_dates=[\"Start Date\", \"End Date\"], dtype=str)"
   ],
   "metadata": {
    "collapsed": false,
    "pycharm": {
     "name": "#%%\n"
    }
   }
  },
  {
   "cell_type": "code",
   "execution_count": 21,
   "outputs": [],
   "source": [
    "case_df[\"Patient ID\"] = case_df[\"Patient ID\"].apply(lambda patient_id: str(patient_id).zfill(11))"
   ],
   "metadata": {
    "collapsed": false,
    "pycharm": {
     "name": "#%%\n"
    }
   }
  },
  {
   "cell_type": "code",
   "execution_count": 22,
   "outputs": [
    {
     "data": {
      "text/plain": "            Case ID   Patient ID Case Type ID Case Status   Case Type  \\\n0        0005752785  00013831402            2      closed  ambulatory   \n1        0005752786  00013719092            2      closed  ambulatory   \n2        0005752787  00082907641            2        open  ambulatory   \n3        0005752788  00013320793            1      closed  in-patient   \n4        0005752789  00009879676            2      closed  ambulatory   \n...             ...          ...          ...         ...         ...   \n2062916  0007650211  00012700703            2        open  ambulatory   \n2062917  0007650212  00013909894            2        open  ambulatory   \n2062918  0007650213  P0001605567            2        open  ambulatory   \n2062919  0007650214  00002621231            2        open  ambulatory   \n2062920  0030091495  00090912918            1      closed  in-patient   \n\n        Start Date    End Date      Patient Type Patient Status  \n0       2017-01-12  2017-01-13  Standard Patient         active  \n1       2017-01-12  2017-01-13  Standard Patient         active  \n2       2017-01-12  1753-01-01  Standard Patient         active  \n3       2017-01-12  1753-01-01  Standard Patient         active  \n4       2017-01-12  2017-01-13  Standard Patient         active  \n...            ...         ...               ...            ...  \n2062916 2020-05-09  1753-01-01  Standard Patient         active  \n2062917 2020-05-09  1753-01-01  Standard Patient         active  \n2062918 2020-05-10  1753-01-01               NaN            NaN  \n2062919 2020-05-10  1753-01-01  Standard Patient         active  \n2062920 2020-05-11  1753-01-01               NaN            NaN  \n\n[2062921 rows x 9 columns]",
      "text/html": "<div>\n<style scoped>\n    .dataframe tbody tr th:only-of-type {\n        vertical-align: middle;\n    }\n\n    .dataframe tbody tr th {\n        vertical-align: top;\n    }\n\n    .dataframe thead th {\n        text-align: right;\n    }\n</style>\n<table border=\"1\" class=\"dataframe\">\n  <thead>\n    <tr style=\"text-align: right;\">\n      <th></th>\n      <th>Case ID</th>\n      <th>Patient ID</th>\n      <th>Case Type ID</th>\n      <th>Case Status</th>\n      <th>Case Type</th>\n      <th>Start Date</th>\n      <th>End Date</th>\n      <th>Patient Type</th>\n      <th>Patient Status</th>\n    </tr>\n  </thead>\n  <tbody>\n    <tr>\n      <th>0</th>\n      <td>0005752785</td>\n      <td>00013831402</td>\n      <td>2</td>\n      <td>closed</td>\n      <td>ambulatory</td>\n      <td>2017-01-12</td>\n      <td>2017-01-13</td>\n      <td>Standard Patient</td>\n      <td>active</td>\n    </tr>\n    <tr>\n      <th>1</th>\n      <td>0005752786</td>\n      <td>00013719092</td>\n      <td>2</td>\n      <td>closed</td>\n      <td>ambulatory</td>\n      <td>2017-01-12</td>\n      <td>2017-01-13</td>\n      <td>Standard Patient</td>\n      <td>active</td>\n    </tr>\n    <tr>\n      <th>2</th>\n      <td>0005752787</td>\n      <td>00082907641</td>\n      <td>2</td>\n      <td>open</td>\n      <td>ambulatory</td>\n      <td>2017-01-12</td>\n      <td>1753-01-01</td>\n      <td>Standard Patient</td>\n      <td>active</td>\n    </tr>\n    <tr>\n      <th>3</th>\n      <td>0005752788</td>\n      <td>00013320793</td>\n      <td>1</td>\n      <td>closed</td>\n      <td>in-patient</td>\n      <td>2017-01-12</td>\n      <td>1753-01-01</td>\n      <td>Standard Patient</td>\n      <td>active</td>\n    </tr>\n    <tr>\n      <th>4</th>\n      <td>0005752789</td>\n      <td>00009879676</td>\n      <td>2</td>\n      <td>closed</td>\n      <td>ambulatory</td>\n      <td>2017-01-12</td>\n      <td>2017-01-13</td>\n      <td>Standard Patient</td>\n      <td>active</td>\n    </tr>\n    <tr>\n      <th>...</th>\n      <td>...</td>\n      <td>...</td>\n      <td>...</td>\n      <td>...</td>\n      <td>...</td>\n      <td>...</td>\n      <td>...</td>\n      <td>...</td>\n      <td>...</td>\n    </tr>\n    <tr>\n      <th>2062916</th>\n      <td>0007650211</td>\n      <td>00012700703</td>\n      <td>2</td>\n      <td>open</td>\n      <td>ambulatory</td>\n      <td>2020-05-09</td>\n      <td>1753-01-01</td>\n      <td>Standard Patient</td>\n      <td>active</td>\n    </tr>\n    <tr>\n      <th>2062917</th>\n      <td>0007650212</td>\n      <td>00013909894</td>\n      <td>2</td>\n      <td>open</td>\n      <td>ambulatory</td>\n      <td>2020-05-09</td>\n      <td>1753-01-01</td>\n      <td>Standard Patient</td>\n      <td>active</td>\n    </tr>\n    <tr>\n      <th>2062918</th>\n      <td>0007650213</td>\n      <td>P0001605567</td>\n      <td>2</td>\n      <td>open</td>\n      <td>ambulatory</td>\n      <td>2020-05-10</td>\n      <td>1753-01-01</td>\n      <td>NaN</td>\n      <td>NaN</td>\n    </tr>\n    <tr>\n      <th>2062919</th>\n      <td>0007650214</td>\n      <td>00002621231</td>\n      <td>2</td>\n      <td>open</td>\n      <td>ambulatory</td>\n      <td>2020-05-10</td>\n      <td>1753-01-01</td>\n      <td>Standard Patient</td>\n      <td>active</td>\n    </tr>\n    <tr>\n      <th>2062920</th>\n      <td>0030091495</td>\n      <td>00090912918</td>\n      <td>1</td>\n      <td>closed</td>\n      <td>in-patient</td>\n      <td>2020-05-11</td>\n      <td>1753-01-01</td>\n      <td>NaN</td>\n      <td>NaN</td>\n    </tr>\n  </tbody>\n</table>\n<p>2062921 rows × 9 columns</p>\n</div>"
     },
     "execution_count": 22,
     "metadata": {},
     "output_type": "execute_result"
    }
   ],
   "source": [
    "case_df"
   ],
   "metadata": {
    "collapsed": false,
    "pycharm": {
     "name": "#%%\n"
    }
   }
  },
  {
   "cell_type": "code",
   "execution_count": 17,
   "outputs": [],
   "source": [
    "stay_df = pd.read_csv(base_folder + \"LA_ISH_NBEW.csv\", encoding=\"ISO-8859-1\", parse_dates=[\"Begin Datetime\", \"End Datetime\"], dtype=\"str\")"
   ],
   "metadata": {
    "collapsed": false,
    "pycharm": {
     "name": "#%%\n"
    }
   }
  },
  {
   "cell_type": "code",
   "execution_count": 18,
   "outputs": [
    {
     "data": {
      "text/plain": "        Serial Number     Case ID Stay Type ID Stay Type Status  \\\n0                   3  0005729661            4        SB     30   \n1                   4  0005729661            4        SB     30   \n2                   5  0005729661            4        SB     30   \n3                   6  0005729661            4        SB     30   \n4                   7  0005729661            2        EI    NaN   \n...               ...         ...          ...       ...    ...   \n1276685             1  0030091494            4        BE     30   \n1276686             2  0030091494            1        AK    NaN   \n1276687             3  0030091494            4        SB     30   \n1276688             5  0030091494            4        SB     30   \n1276689             6  0030091494            2        EN    NaN   \n\n        Serial Reference Description Department      Ward  \\\n0                      0         NaN     71KARA    71KARA   \n1                      0         NaN     71WUNA    71WUNA   \n2                      0         NaN     71NOTC    71NOTC   \n3                      0         NaN     71VCHA    71VCHA   \n4                      7         NaN     71AIMS  71MITTE2   \n...                  ...         ...        ...       ...   \n1276685                0         NaN     61NOTM    61NOTM   \n1276686                6         NaN     61AIMS   61STAT1   \n1276687                0         NaN     61WUNA    61WUNA   \n1276688                0         NaN     61WUNA    61WUNA   \n1276689                6         NaN     61AIMS   61STAT1   \n\n        Organisational Unit of Entry   Room ID  Bed ID Is Cancelled  \\\n0                                NaN       NaN     NaN          NaN   \n1                                NaN       NaN     NaN          NaN   \n2                             71AUFN       NaN     NaN          NaN   \n3                                NaN       NaN     NaN          NaN   \n4                                NaN  00071230  71230F          NaN   \n...                              ...       ...     ...          ...   \n1276685                         NERW       NaN     NaN          NaN   \n1276686                         NERW  00061124  61124E          NaN   \n1276687                         AVOR       NaN     NaN          NaN   \n1276688                       61AUFN       NaN     NaN          NaN   \n1276689                          NaN  00061124  61124E          NaN   \n\n         Partner ID      Begin Datetime        End Datetime  \n0               NaN 2017-01-04 15:30:00 2017-01-04 15:30:00  \n1               NaN 2017-01-17 10:00:00 2017-01-17 10:00:00  \n2        0010101818 2017-01-23 11:37:28 2017-01-23 11:37:28  \n3               NaN 2017-01-23 11:00:00 2017-01-23 11:00:00  \n4               NaN 2017-01-25 09:15:00 2017-01-25 09:15:00  \n...             ...                 ...                 ...  \n1276685  0010100663 2019-12-19 00:30:00 2019-12-19 03:00:00  \n1276686  0010100663 2019-12-19 03:00:00 2019-12-24 10:30:00  \n1276687  0010101878 2019-12-19 08:00:00 2019-12-19 08:00:00  \n1276688         NaN 2019-12-23 08:00:00 2019-12-23 08:00:00  \n1276689         NaN 2019-12-24 10:30:00 2019-12-24 10:30:00  \n\n[1276690 rows x 16 columns]",
      "text/html": "<div>\n<style scoped>\n    .dataframe tbody tr th:only-of-type {\n        vertical-align: middle;\n    }\n\n    .dataframe tbody tr th {\n        vertical-align: top;\n    }\n\n    .dataframe thead th {\n        text-align: right;\n    }\n</style>\n<table border=\"1\" class=\"dataframe\">\n  <thead>\n    <tr style=\"text-align: right;\">\n      <th></th>\n      <th>Serial Number</th>\n      <th>Case ID</th>\n      <th>Stay Type ID</th>\n      <th>Stay Type</th>\n      <th>Status</th>\n      <th>Serial Reference</th>\n      <th>Description</th>\n      <th>Department</th>\n      <th>Ward</th>\n      <th>Organisational Unit of Entry</th>\n      <th>Room ID</th>\n      <th>Bed ID</th>\n      <th>Is Cancelled</th>\n      <th>Partner ID</th>\n      <th>Begin Datetime</th>\n      <th>End Datetime</th>\n    </tr>\n  </thead>\n  <tbody>\n    <tr>\n      <th>0</th>\n      <td>3</td>\n      <td>0005729661</td>\n      <td>4</td>\n      <td>SB</td>\n      <td>30</td>\n      <td>0</td>\n      <td>NaN</td>\n      <td>71KARA</td>\n      <td>71KARA</td>\n      <td>NaN</td>\n      <td>NaN</td>\n      <td>NaN</td>\n      <td>NaN</td>\n      <td>NaN</td>\n      <td>2017-01-04 15:30:00</td>\n      <td>2017-01-04 15:30:00</td>\n    </tr>\n    <tr>\n      <th>1</th>\n      <td>4</td>\n      <td>0005729661</td>\n      <td>4</td>\n      <td>SB</td>\n      <td>30</td>\n      <td>0</td>\n      <td>NaN</td>\n      <td>71WUNA</td>\n      <td>71WUNA</td>\n      <td>NaN</td>\n      <td>NaN</td>\n      <td>NaN</td>\n      <td>NaN</td>\n      <td>NaN</td>\n      <td>2017-01-17 10:00:00</td>\n      <td>2017-01-17 10:00:00</td>\n    </tr>\n    <tr>\n      <th>2</th>\n      <td>5</td>\n      <td>0005729661</td>\n      <td>4</td>\n      <td>SB</td>\n      <td>30</td>\n      <td>0</td>\n      <td>NaN</td>\n      <td>71NOTC</td>\n      <td>71NOTC</td>\n      <td>71AUFN</td>\n      <td>NaN</td>\n      <td>NaN</td>\n      <td>NaN</td>\n      <td>0010101818</td>\n      <td>2017-01-23 11:37:28</td>\n      <td>2017-01-23 11:37:28</td>\n    </tr>\n    <tr>\n      <th>3</th>\n      <td>6</td>\n      <td>0005729661</td>\n      <td>4</td>\n      <td>SB</td>\n      <td>30</td>\n      <td>0</td>\n      <td>NaN</td>\n      <td>71VCHA</td>\n      <td>71VCHA</td>\n      <td>NaN</td>\n      <td>NaN</td>\n      <td>NaN</td>\n      <td>NaN</td>\n      <td>NaN</td>\n      <td>2017-01-23 11:00:00</td>\n      <td>2017-01-23 11:00:00</td>\n    </tr>\n    <tr>\n      <th>4</th>\n      <td>7</td>\n      <td>0005729661</td>\n      <td>2</td>\n      <td>EI</td>\n      <td>NaN</td>\n      <td>7</td>\n      <td>NaN</td>\n      <td>71AIMS</td>\n      <td>71MITTE2</td>\n      <td>NaN</td>\n      <td>00071230</td>\n      <td>71230F</td>\n      <td>NaN</td>\n      <td>NaN</td>\n      <td>2017-01-25 09:15:00</td>\n      <td>2017-01-25 09:15:00</td>\n    </tr>\n    <tr>\n      <th>...</th>\n      <td>...</td>\n      <td>...</td>\n      <td>...</td>\n      <td>...</td>\n      <td>...</td>\n      <td>...</td>\n      <td>...</td>\n      <td>...</td>\n      <td>...</td>\n      <td>...</td>\n      <td>...</td>\n      <td>...</td>\n      <td>...</td>\n      <td>...</td>\n      <td>...</td>\n      <td>...</td>\n    </tr>\n    <tr>\n      <th>1276685</th>\n      <td>1</td>\n      <td>0030091494</td>\n      <td>4</td>\n      <td>BE</td>\n      <td>30</td>\n      <td>0</td>\n      <td>NaN</td>\n      <td>61NOTM</td>\n      <td>61NOTM</td>\n      <td>NERW</td>\n      <td>NaN</td>\n      <td>NaN</td>\n      <td>NaN</td>\n      <td>0010100663</td>\n      <td>2019-12-19 00:30:00</td>\n      <td>2019-12-19 03:00:00</td>\n    </tr>\n    <tr>\n      <th>1276686</th>\n      <td>2</td>\n      <td>0030091494</td>\n      <td>1</td>\n      <td>AK</td>\n      <td>NaN</td>\n      <td>6</td>\n      <td>NaN</td>\n      <td>61AIMS</td>\n      <td>61STAT1</td>\n      <td>NERW</td>\n      <td>00061124</td>\n      <td>61124E</td>\n      <td>NaN</td>\n      <td>0010100663</td>\n      <td>2019-12-19 03:00:00</td>\n      <td>2019-12-24 10:30:00</td>\n    </tr>\n    <tr>\n      <th>1276687</th>\n      <td>3</td>\n      <td>0030091494</td>\n      <td>4</td>\n      <td>SB</td>\n      <td>30</td>\n      <td>0</td>\n      <td>NaN</td>\n      <td>61WUNA</td>\n      <td>61WUNA</td>\n      <td>AVOR</td>\n      <td>NaN</td>\n      <td>NaN</td>\n      <td>NaN</td>\n      <td>0010101878</td>\n      <td>2019-12-19 08:00:00</td>\n      <td>2019-12-19 08:00:00</td>\n    </tr>\n    <tr>\n      <th>1276688</th>\n      <td>5</td>\n      <td>0030091494</td>\n      <td>4</td>\n      <td>SB</td>\n      <td>30</td>\n      <td>0</td>\n      <td>NaN</td>\n      <td>61WUNA</td>\n      <td>61WUNA</td>\n      <td>61AUFN</td>\n      <td>NaN</td>\n      <td>NaN</td>\n      <td>NaN</td>\n      <td>NaN</td>\n      <td>2019-12-23 08:00:00</td>\n      <td>2019-12-23 08:00:00</td>\n    </tr>\n    <tr>\n      <th>1276689</th>\n      <td>6</td>\n      <td>0030091494</td>\n      <td>2</td>\n      <td>EN</td>\n      <td>NaN</td>\n      <td>6</td>\n      <td>NaN</td>\n      <td>61AIMS</td>\n      <td>61STAT1</td>\n      <td>NaN</td>\n      <td>00061124</td>\n      <td>61124E</td>\n      <td>NaN</td>\n      <td>NaN</td>\n      <td>2019-12-24 10:30:00</td>\n      <td>2019-12-24 10:30:00</td>\n    </tr>\n  </tbody>\n</table>\n<p>1276690 rows × 16 columns</p>\n</div>"
     },
     "execution_count": 18,
     "metadata": {},
     "output_type": "execute_result"
    }
   ],
   "source": [
    "stay_df"
   ],
   "metadata": {
    "collapsed": false,
    "pycharm": {
     "name": "#%%\n"
    }
   }
  },
  {
   "cell_type": "code",
   "execution_count": 32,
   "outputs": [],
   "source": [
    "# get cases of positive VRE patients\n",
    "\n",
    "positive_vre_patients = vre_screening_df[~vre_screening_df[\"Result\"].str.contains(\"nn\")]\n",
    "\n",
    "positive_vre_patients = positive_vre_patients[[\"Patient ID\", \"Measurement Date\", \"Last Name\", \"First Name\", \"Birth Date\"]]"
   ],
   "metadata": {
    "collapsed": false,
    "pycharm": {
     "name": "#%%\n"
    }
   }
  },
  {
   "cell_type": "code",
   "execution_count": 36,
   "outputs": [
    {
     "data": {
      "text/plain": "        Patient ID     Measurement Date Last Name First Name Birth Date  \\\n0      00014404079           2017-12-29     Roten       Kurt 1935-02-27   \n1      00014404079           2017-12-29     Roten       Kurt 1935-02-27   \n2      00014404079           2017-12-29     Roten       Kurt 1935-02-27   \n3      00014404079           2017-12-29     Roten       Kurt 1935-02-27   \n4      00014404079           2017-12-29     Roten       Kurt 1935-02-27   \n...            ...                  ...       ...        ...        ...   \n23617  00006156959  2020-06-10 00:00:00    Maurer     Martin 1966-10-17   \n23618  00006156959  2020-06-10 00:00:00    Maurer     Martin 1966-10-17   \n23619  00006156959  2020-06-10 00:00:00    Maurer     Martin 1966-10-17   \n23620  00006156959  2020-06-10 00:00:00    Maurer     Martin 1966-10-17   \n23621  00006156959  2020-06-10 00:00:00    Maurer     Martin 1966-10-17   \n\n          Case ID Start Date    End Date  \n0      0006225762 2017-11-07  2018-01-20  \n1      0006290424 2017-12-18  1753-01-01  \n2      0006321947 2018-01-10  2018-01-11  \n3      0006275564 2017-12-07  2018-01-19  \n4      0006248161 2017-11-21  1753-01-01  \n...           ...        ...         ...  \n23617  0020405448 2018-09-10  9999-12-31  \n23618  0020405681 2018-09-12  9999-12-31  \n23619  0020406346 2018-09-17  9999-12-31  \n23620  0007280268 2019-09-09  1753-01-01  \n23621  0007618702 2020-04-16  1753-01-01  \n\n[23622 rows x 8 columns]",
      "text/html": "<div>\n<style scoped>\n    .dataframe tbody tr th:only-of-type {\n        vertical-align: middle;\n    }\n\n    .dataframe tbody tr th {\n        vertical-align: top;\n    }\n\n    .dataframe thead th {\n        text-align: right;\n    }\n</style>\n<table border=\"1\" class=\"dataframe\">\n  <thead>\n    <tr style=\"text-align: right;\">\n      <th></th>\n      <th>Patient ID</th>\n      <th>Measurement Date</th>\n      <th>Last Name</th>\n      <th>First Name</th>\n      <th>Birth Date</th>\n      <th>Case ID</th>\n      <th>Start Date</th>\n      <th>End Date</th>\n    </tr>\n  </thead>\n  <tbody>\n    <tr>\n      <th>0</th>\n      <td>00014404079</td>\n      <td>2017-12-29</td>\n      <td>Roten</td>\n      <td>Kurt</td>\n      <td>1935-02-27</td>\n      <td>0006225762</td>\n      <td>2017-11-07</td>\n      <td>2018-01-20</td>\n    </tr>\n    <tr>\n      <th>1</th>\n      <td>00014404079</td>\n      <td>2017-12-29</td>\n      <td>Roten</td>\n      <td>Kurt</td>\n      <td>1935-02-27</td>\n      <td>0006290424</td>\n      <td>2017-12-18</td>\n      <td>1753-01-01</td>\n    </tr>\n    <tr>\n      <th>2</th>\n      <td>00014404079</td>\n      <td>2017-12-29</td>\n      <td>Roten</td>\n      <td>Kurt</td>\n      <td>1935-02-27</td>\n      <td>0006321947</td>\n      <td>2018-01-10</td>\n      <td>2018-01-11</td>\n    </tr>\n    <tr>\n      <th>3</th>\n      <td>00014404079</td>\n      <td>2017-12-29</td>\n      <td>Roten</td>\n      <td>Kurt</td>\n      <td>1935-02-27</td>\n      <td>0006275564</td>\n      <td>2017-12-07</td>\n      <td>2018-01-19</td>\n    </tr>\n    <tr>\n      <th>4</th>\n      <td>00014404079</td>\n      <td>2017-12-29</td>\n      <td>Roten</td>\n      <td>Kurt</td>\n      <td>1935-02-27</td>\n      <td>0006248161</td>\n      <td>2017-11-21</td>\n      <td>1753-01-01</td>\n    </tr>\n    <tr>\n      <th>...</th>\n      <td>...</td>\n      <td>...</td>\n      <td>...</td>\n      <td>...</td>\n      <td>...</td>\n      <td>...</td>\n      <td>...</td>\n      <td>...</td>\n    </tr>\n    <tr>\n      <th>23617</th>\n      <td>00006156959</td>\n      <td>2020-06-10 00:00:00</td>\n      <td>Maurer</td>\n      <td>Martin</td>\n      <td>1966-10-17</td>\n      <td>0020405448</td>\n      <td>2018-09-10</td>\n      <td>9999-12-31</td>\n    </tr>\n    <tr>\n      <th>23618</th>\n      <td>00006156959</td>\n      <td>2020-06-10 00:00:00</td>\n      <td>Maurer</td>\n      <td>Martin</td>\n      <td>1966-10-17</td>\n      <td>0020405681</td>\n      <td>2018-09-12</td>\n      <td>9999-12-31</td>\n    </tr>\n    <tr>\n      <th>23619</th>\n      <td>00006156959</td>\n      <td>2020-06-10 00:00:00</td>\n      <td>Maurer</td>\n      <td>Martin</td>\n      <td>1966-10-17</td>\n      <td>0020406346</td>\n      <td>2018-09-17</td>\n      <td>9999-12-31</td>\n    </tr>\n    <tr>\n      <th>23620</th>\n      <td>00006156959</td>\n      <td>2020-06-10 00:00:00</td>\n      <td>Maurer</td>\n      <td>Martin</td>\n      <td>1966-10-17</td>\n      <td>0007280268</td>\n      <td>2019-09-09</td>\n      <td>1753-01-01</td>\n    </tr>\n    <tr>\n      <th>23621</th>\n      <td>00006156959</td>\n      <td>2020-06-10 00:00:00</td>\n      <td>Maurer</td>\n      <td>Martin</td>\n      <td>1966-10-17</td>\n      <td>0007618702</td>\n      <td>2020-04-16</td>\n      <td>1753-01-01</td>\n    </tr>\n  </tbody>\n</table>\n<p>23622 rows × 8 columns</p>\n</div>"
     },
     "execution_count": 36,
     "metadata": {},
     "output_type": "execute_result"
    }
   ],
   "source": [
    "vre_patient_cases = pd.merge(positive_vre_patients, case_df, how='inner', on='Patient ID')\n",
    "\n",
    "vre_patient_cases = vre_patient_cases[[\"Patient ID\", \"Measurement Date\", \"Last Name\", \"First Name\", \"Birth Date\", \"Case ID\", \"Start Date\", \"End Date\"]]\n",
    "vre_patient_cases\n"
   ],
   "metadata": {
    "collapsed": false,
    "pycharm": {
     "name": "#%%\n"
    }
   }
  },
  {
   "cell_type": "code",
   "execution_count": 37,
   "outputs": [
    {
     "data": {
      "text/plain": "        Patient ID     Measurement Date Last Name First Name Birth Date  \\\n0      00014404079           2017-12-29     Roten       Kurt 1935-02-27   \n1      00014404079           2017-12-29     Roten       Kurt 1935-02-27   \n2      00014404079           2017-12-29     Roten       Kurt 1935-02-27   \n3      00014404079           2017-12-29     Roten       Kurt 1935-02-27   \n4      00014404079           2017-12-29     Roten       Kurt 1935-02-27   \n...            ...                  ...       ...        ...        ...   \n58594  00006156959  2020-06-10 00:00:00    Maurer     Martin 1966-10-17   \n58595  00006156959  2020-06-10 00:00:00    Maurer     Martin 1966-10-17   \n58596  00006156959  2020-06-10 00:00:00    Maurer     Martin 1966-10-17   \n58597  00006156959  2020-06-10 00:00:00    Maurer     Martin 1966-10-17   \n58598  00006156959  2020-06-10 00:00:00    Maurer     Martin 1966-10-17   \n\n          Case ID Start Date    End Date Serial Number Stay Type ID  ...  \\\n0      0006290424 2017-12-18  1753-01-01             1            1  ...   \n1      0006290424 2017-12-18  1753-01-01             2            4  ...   \n2      0006290424 2017-12-18  1753-01-01             3            4  ...   \n3      0006290424 2017-12-18  1753-01-01             4            4  ...   \n4      0006290424 2017-12-18  1753-01-01             5            4  ...   \n...           ...        ...         ...           ...          ...  ...   \n58594  0007618702 2020-04-16  1753-01-01             2            1  ...   \n58595  0007618702 2020-04-16  1753-01-01             3            4  ...   \n58596  0007618702 2020-04-16  1753-01-01             4            4  ...   \n58597  0007618702 2020-04-16  1753-01-01             5            3  ...   \n58598  0007618702 2020-04-16  1753-01-01             7            2  ...   \n\n                 Description Department     Ward Organisational Unit of Entry  \\\n0      Eintr. 1. Kl. i.O./sw       ROTB  O MITTE                         AVOR   \n1                        NaN       ROST     ROST                          NaN   \n2                        NaN       ROST     ROST                          NaN   \n3                        NaN       ROST     ROST                          NaN   \n4                        NaN       ROST     ROST                          NaN   \n...                      ...        ...      ...                          ...   \n58594                    NaN       PMLK  Q MITTE                         NERW   \n58595                    NaN       NEPH     NEPH                         AVOR   \n58596                    NaN       NEPH     NEPH                          NaN   \n58597                    NaN       PMLK  Q MITTE                          NaN   \n58598                    NaN       PMLK  Q MITTE                          NaN   \n\n        Room ID   Bed ID Is Cancelled  Partner ID      Begin Datetime  \\\n0      BH O 117  BHO117E          NaN  0010100314 2017-12-19 09:00:00   \n1           NaN      NaN          NaN         NaN 2017-12-19 15:30:00   \n2           NaN      NaN          NaN         NaN 2017-12-20 13:20:00   \n3           NaN      NaN          NaN         NaN 2017-12-21 18:00:00   \n4           NaN      NaN          NaN         NaN 2017-12-22 13:10:00   \n...         ...      ...          ...         ...                 ...   \n58594  BH Q 120      NaN          NaN  0010100791 2020-04-16 19:38:00   \n58595      SC 1      NaN          NaN         NaN 2020-04-16 09:30:00   \n58596      SC 1      NaN          NaN         NaN 2020-04-18 09:30:00   \n58597  BH Q 120  BHQ120F          NaN         NaN 2020-04-17 07:10:47   \n58598  BH Q 120  BHQ120F          NaN         NaN 2020-04-20 10:45:00   \n\n             End Datetime  \n0     2017-12-24 11:00:00  \n1     2017-12-19 15:30:00  \n2     2017-12-20 13:20:00  \n3     2017-12-21 18:00:00  \n4     2017-12-22 13:10:00  \n...                   ...  \n58594 2020-04-17 07:10:47  \n58595 2020-04-16 09:30:00  \n58596 2020-04-18 09:30:00  \n58597 2020-04-20 10:45:00  \n58598 2020-04-20 10:45:00  \n\n[58599 rows x 23 columns]",
      "text/html": "<div>\n<style scoped>\n    .dataframe tbody tr th:only-of-type {\n        vertical-align: middle;\n    }\n\n    .dataframe tbody tr th {\n        vertical-align: top;\n    }\n\n    .dataframe thead th {\n        text-align: right;\n    }\n</style>\n<table border=\"1\" class=\"dataframe\">\n  <thead>\n    <tr style=\"text-align: right;\">\n      <th></th>\n      <th>Patient ID</th>\n      <th>Measurement Date</th>\n      <th>Last Name</th>\n      <th>First Name</th>\n      <th>Birth Date</th>\n      <th>Case ID</th>\n      <th>Start Date</th>\n      <th>End Date</th>\n      <th>Serial Number</th>\n      <th>Stay Type ID</th>\n      <th>...</th>\n      <th>Description</th>\n      <th>Department</th>\n      <th>Ward</th>\n      <th>Organisational Unit of Entry</th>\n      <th>Room ID</th>\n      <th>Bed ID</th>\n      <th>Is Cancelled</th>\n      <th>Partner ID</th>\n      <th>Begin Datetime</th>\n      <th>End Datetime</th>\n    </tr>\n  </thead>\n  <tbody>\n    <tr>\n      <th>0</th>\n      <td>00014404079</td>\n      <td>2017-12-29</td>\n      <td>Roten</td>\n      <td>Kurt</td>\n      <td>1935-02-27</td>\n      <td>0006290424</td>\n      <td>2017-12-18</td>\n      <td>1753-01-01</td>\n      <td>1</td>\n      <td>1</td>\n      <td>...</td>\n      <td>Eintr. 1. Kl. i.O./sw</td>\n      <td>ROTB</td>\n      <td>O MITTE</td>\n      <td>AVOR</td>\n      <td>BH O 117</td>\n      <td>BHO117E</td>\n      <td>NaN</td>\n      <td>0010100314</td>\n      <td>2017-12-19 09:00:00</td>\n      <td>2017-12-24 11:00:00</td>\n    </tr>\n    <tr>\n      <th>1</th>\n      <td>00014404079</td>\n      <td>2017-12-29</td>\n      <td>Roten</td>\n      <td>Kurt</td>\n      <td>1935-02-27</td>\n      <td>0006290424</td>\n      <td>2017-12-18</td>\n      <td>1753-01-01</td>\n      <td>2</td>\n      <td>4</td>\n      <td>...</td>\n      <td>NaN</td>\n      <td>ROST</td>\n      <td>ROST</td>\n      <td>NaN</td>\n      <td>NaN</td>\n      <td>NaN</td>\n      <td>NaN</td>\n      <td>NaN</td>\n      <td>2017-12-19 15:30:00</td>\n      <td>2017-12-19 15:30:00</td>\n    </tr>\n    <tr>\n      <th>2</th>\n      <td>00014404079</td>\n      <td>2017-12-29</td>\n      <td>Roten</td>\n      <td>Kurt</td>\n      <td>1935-02-27</td>\n      <td>0006290424</td>\n      <td>2017-12-18</td>\n      <td>1753-01-01</td>\n      <td>3</td>\n      <td>4</td>\n      <td>...</td>\n      <td>NaN</td>\n      <td>ROST</td>\n      <td>ROST</td>\n      <td>NaN</td>\n      <td>NaN</td>\n      <td>NaN</td>\n      <td>NaN</td>\n      <td>NaN</td>\n      <td>2017-12-20 13:20:00</td>\n      <td>2017-12-20 13:20:00</td>\n    </tr>\n    <tr>\n      <th>3</th>\n      <td>00014404079</td>\n      <td>2017-12-29</td>\n      <td>Roten</td>\n      <td>Kurt</td>\n      <td>1935-02-27</td>\n      <td>0006290424</td>\n      <td>2017-12-18</td>\n      <td>1753-01-01</td>\n      <td>4</td>\n      <td>4</td>\n      <td>...</td>\n      <td>NaN</td>\n      <td>ROST</td>\n      <td>ROST</td>\n      <td>NaN</td>\n      <td>NaN</td>\n      <td>NaN</td>\n      <td>NaN</td>\n      <td>NaN</td>\n      <td>2017-12-21 18:00:00</td>\n      <td>2017-12-21 18:00:00</td>\n    </tr>\n    <tr>\n      <th>4</th>\n      <td>00014404079</td>\n      <td>2017-12-29</td>\n      <td>Roten</td>\n      <td>Kurt</td>\n      <td>1935-02-27</td>\n      <td>0006290424</td>\n      <td>2017-12-18</td>\n      <td>1753-01-01</td>\n      <td>5</td>\n      <td>4</td>\n      <td>...</td>\n      <td>NaN</td>\n      <td>ROST</td>\n      <td>ROST</td>\n      <td>NaN</td>\n      <td>NaN</td>\n      <td>NaN</td>\n      <td>NaN</td>\n      <td>NaN</td>\n      <td>2017-12-22 13:10:00</td>\n      <td>2017-12-22 13:10:00</td>\n    </tr>\n    <tr>\n      <th>...</th>\n      <td>...</td>\n      <td>...</td>\n      <td>...</td>\n      <td>...</td>\n      <td>...</td>\n      <td>...</td>\n      <td>...</td>\n      <td>...</td>\n      <td>...</td>\n      <td>...</td>\n      <td>...</td>\n      <td>...</td>\n      <td>...</td>\n      <td>...</td>\n      <td>...</td>\n      <td>...</td>\n      <td>...</td>\n      <td>...</td>\n      <td>...</td>\n      <td>...</td>\n      <td>...</td>\n    </tr>\n    <tr>\n      <th>58594</th>\n      <td>00006156959</td>\n      <td>2020-06-10 00:00:00</td>\n      <td>Maurer</td>\n      <td>Martin</td>\n      <td>1966-10-17</td>\n      <td>0007618702</td>\n      <td>2020-04-16</td>\n      <td>1753-01-01</td>\n      <td>2</td>\n      <td>1</td>\n      <td>...</td>\n      <td>NaN</td>\n      <td>PMLK</td>\n      <td>Q MITTE</td>\n      <td>NERW</td>\n      <td>BH Q 120</td>\n      <td>NaN</td>\n      <td>NaN</td>\n      <td>0010100791</td>\n      <td>2020-04-16 19:38:00</td>\n      <td>2020-04-17 07:10:47</td>\n    </tr>\n    <tr>\n      <th>58595</th>\n      <td>00006156959</td>\n      <td>2020-06-10 00:00:00</td>\n      <td>Maurer</td>\n      <td>Martin</td>\n      <td>1966-10-17</td>\n      <td>0007618702</td>\n      <td>2020-04-16</td>\n      <td>1753-01-01</td>\n      <td>3</td>\n      <td>4</td>\n      <td>...</td>\n      <td>NaN</td>\n      <td>NEPH</td>\n      <td>NEPH</td>\n      <td>AVOR</td>\n      <td>SC 1</td>\n      <td>NaN</td>\n      <td>NaN</td>\n      <td>NaN</td>\n      <td>2020-04-16 09:30:00</td>\n      <td>2020-04-16 09:30:00</td>\n    </tr>\n    <tr>\n      <th>58596</th>\n      <td>00006156959</td>\n      <td>2020-06-10 00:00:00</td>\n      <td>Maurer</td>\n      <td>Martin</td>\n      <td>1966-10-17</td>\n      <td>0007618702</td>\n      <td>2020-04-16</td>\n      <td>1753-01-01</td>\n      <td>4</td>\n      <td>4</td>\n      <td>...</td>\n      <td>NaN</td>\n      <td>NEPH</td>\n      <td>NEPH</td>\n      <td>NaN</td>\n      <td>SC 1</td>\n      <td>NaN</td>\n      <td>NaN</td>\n      <td>NaN</td>\n      <td>2020-04-18 09:30:00</td>\n      <td>2020-04-18 09:30:00</td>\n    </tr>\n    <tr>\n      <th>58597</th>\n      <td>00006156959</td>\n      <td>2020-06-10 00:00:00</td>\n      <td>Maurer</td>\n      <td>Martin</td>\n      <td>1966-10-17</td>\n      <td>0007618702</td>\n      <td>2020-04-16</td>\n      <td>1753-01-01</td>\n      <td>5</td>\n      <td>3</td>\n      <td>...</td>\n      <td>NaN</td>\n      <td>PMLK</td>\n      <td>Q MITTE</td>\n      <td>NaN</td>\n      <td>BH Q 120</td>\n      <td>BHQ120F</td>\n      <td>NaN</td>\n      <td>NaN</td>\n      <td>2020-04-17 07:10:47</td>\n      <td>2020-04-20 10:45:00</td>\n    </tr>\n    <tr>\n      <th>58598</th>\n      <td>00006156959</td>\n      <td>2020-06-10 00:00:00</td>\n      <td>Maurer</td>\n      <td>Martin</td>\n      <td>1966-10-17</td>\n      <td>0007618702</td>\n      <td>2020-04-16</td>\n      <td>1753-01-01</td>\n      <td>7</td>\n      <td>2</td>\n      <td>...</td>\n      <td>NaN</td>\n      <td>PMLK</td>\n      <td>Q MITTE</td>\n      <td>NaN</td>\n      <td>BH Q 120</td>\n      <td>BHQ120F</td>\n      <td>NaN</td>\n      <td>NaN</td>\n      <td>2020-04-20 10:45:00</td>\n      <td>2020-04-20 10:45:00</td>\n    </tr>\n  </tbody>\n</table>\n<p>58599 rows × 23 columns</p>\n</div>"
     },
     "execution_count": 37,
     "metadata": {},
     "output_type": "execute_result"
    }
   ],
   "source": [
    "vre_patient_movements = pd.merge(vre_patient_cases, stay_df, how='inner', on='Case ID')\n",
    "vre_patient_movements\n"
   ],
   "metadata": {
    "collapsed": false,
    "pycharm": {
     "name": "#%%\n"
    }
   }
  },
  {
   "cell_type": "code",
   "execution_count": 38,
   "outputs": [
    {
     "data": {
      "text/plain": "Patient ID                        566\nMeasurement Date                  504\nLast Name                         484\nFirst Name                        306\nBirth Date                        648\nCase ID                          2703\nStart Date                        957\nEnd Date                            3\nSerial Number                     237\nStay Type ID                        6\nStay Type                          28\nStatus                              3\nSerial Reference                  126\nDescription                      2796\nDepartment                        196\nWard                              261\nOrganisational Unit of Entry       33\nRoom ID                           678\nBed ID                           1030\nIs Cancelled                        0\nPartner ID                        284\nBegin Datetime                  19059\nEnd Datetime                    16774\ndtype: int64"
     },
     "execution_count": 38,
     "metadata": {},
     "output_type": "execute_result"
    }
   ],
   "source": [
    "vre_patient_movements.nunique()"
   ],
   "metadata": {
    "collapsed": false,
    "pycharm": {
     "name": "#%%\n"
    }
   }
  },
  {
   "cell_type": "code",
   "execution_count": null,
   "outputs": [],
   "source": [
    "\n"
   ],
   "metadata": {
    "collapsed": false,
    "pycharm": {
     "name": "#%%\n"
    }
   }
  }
 ],
 "metadata": {
  "kernelspec": {
   "display_name": "Python 3",
   "language": "python",
   "name": "python3"
  },
  "language_info": {
   "codemirror_mode": {
    "name": "ipython",
    "version": 2
   },
   "file_extension": ".py",
   "mimetype": "text/x-python",
   "name": "python",
   "nbconvert_exporter": "python",
   "pygments_lexer": "ipython2",
   "version": "2.7.6"
  }
 },
 "nbformat": 4,
 "nbformat_minor": 0
}