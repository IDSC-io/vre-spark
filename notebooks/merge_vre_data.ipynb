{
 "cells": [
  {
   "cell_type": "code",
   "execution_count": null,
   "metadata": {},
   "outputs": [],
   "source": [
    "from IPython.core.display import display, HTML\n",
    "display(HTML(\"<style>.container { width:100% !important; }</style>\"))"
   ]
  },
  {
   "cell_type": "code",
   "execution_count": null,
   "metadata": {},
   "outputs": [],
   "source": [
    "import sys\n",
    "import os\n",
    "\n",
    "import numpy as np\n",
    "import pandas as pd\n",
    "import matplotlib.pyplot as plt\n",
    "\n",
    "sys.path.append('../')\n",
    "os.chdir(\"../\")\n",
    "\n",
    "base_folder = \"./data/raw/screening_data/\"\n"
   ]
  },
  {
   "cell_type": "markdown",
   "metadata": {},
   "source": [
    "# Inspect and filter all VRE screenings"
   ]
  },
  {
   "cell_type": "markdown",
   "metadata": {},
   "source": [
    "## Positive and negative screenings"
   ]
  },
  {
   "cell_type": "markdown",
   "metadata": {},
   "source": [
    "### File 1"
   ]
  },
  {
   "cell_type": "code",
   "execution_count": null,
   "metadata": {},
   "outputs": [],
   "source": [
    "# https://docs.python.org/3/library/codecs.html#standard-encodings\n",
    "vre_df1 = pd.read_csv(base_folder + \"2018_10_18_sdvre_tot_28_10_18.csv\", encoding=\"cp850\", parse_dates=[\"Erfassung\", \"Entnahme\", \"Geburtsdat.\"], dtype=\"str\")\n",
    "vre_df1"
   ]
  },
  {
   "cell_type": "code",
   "execution_count": null,
   "metadata": {},
   "outputs": [],
   "source": [
    "vre_df1.columns"
   ]
  },
  {
   "cell_type": "code",
   "execution_count": null,
   "metadata": {},
   "outputs": [],
   "source": [
    "vre_df1.columns = ['Order ID', 'Record Date', 'Measurement Date', 'Patient Number', 'Last Name',\n",
    "                          'First Name', 'Birth Date', 'Age', 'Gender', 'Zip Code', 'Place of Residence',\n",
    "                          'Canton', 'Country', 'Patient ID', 'Case ID', 'Requester', 'Cost Unit', 'Material Type',\n",
    "                          'Transport', 'Pathogen 1 Result', \"Pathogen 2 Result\"]\n"
   ]
  },
  {
   "cell_type": "code",
   "execution_count": null,
   "metadata": {},
   "outputs": [],
   "source": [
    "vre_df1"
   ]
  },
  {
   "cell_type": "code",
   "execution_count": null,
   "metadata": {},
   "outputs": [],
   "source": [
    "vre_df1.fillna({'Pathogen 2 Result': 'nn'}, inplace=True)"
   ]
  },
  {
   "cell_type": "code",
   "execution_count": null,
   "metadata": {},
   "outputs": [],
   "source": [
    "vre_df1['Pathogen Result'] = np.where(~vre_df1[\"Pathogen 1 Result\"].str.contains(\"nn\") | ~vre_df1[\"Pathogen 2 Result\"].str.contains(\"nn\"),'pp', 'nn')"
   ]
  },
  {
   "cell_type": "code",
   "execution_count": null,
   "metadata": {},
   "outputs": [],
   "source": [
    "vre_df1"
   ]
  },
  {
   "cell_type": "code",
   "execution_count": null,
   "metadata": {},
   "outputs": [],
   "source": [
    "vre_df1[\"Patient ID\"].isna().sum()"
   ]
  },
  {
   "cell_type": "code",
   "execution_count": null,
   "metadata": {},
   "outputs": [],
   "source": [
    "vre_df1[vre_df1[\"Patient ID\"].isna()]"
   ]
  },
  {
   "cell_type": "code",
   "execution_count": null,
   "metadata": {},
   "outputs": [],
   "source": [
    "vre_df1 = vre_df1[~vre_df1[\"Patient ID\"].isna()]\n",
    "vre_df1"
   ]
  },
  {
   "cell_type": "code",
   "execution_count": null,
   "metadata": {},
   "outputs": [],
   "source": [
    "vre_df1[\"Patient ID\"].isna().sum()"
   ]
  },
  {
   "cell_type": "markdown",
   "metadata": {},
   "source": [
    "### File 2"
   ]
  },
  {
   "cell_type": "code",
   "execution_count": null,
   "metadata": {},
   "outputs": [],
   "source": [
    "vre_df2 = pd.read_csv(base_folder + \"2018_10_18_sdvre_tot_28_10_18_2.csv\", encoding=\"ISO-8859-1\", parse_dates=[\"erfassung\", \"entnahme\", \"geburtsdatum\"], dtype=\"str\")\n",
    "vre_df2"
   ]
  },
  {
   "cell_type": "code",
   "execution_count": null,
   "metadata": {},
   "outputs": [],
   "source": [
    "vre_df2.columns = ['Order ID', 'Record Date', 'Measurement Date', 'First Name',\n",
    "                          'Last Name', 'Birth Date', 'Patient ID', 'Requester', 'Cost Unit', 'Material Type',\n",
    "                          'Transport', 'Pathogen Result', 'Analysis Method', 'Screening Context']\n"
   ]
  },
  {
   "cell_type": "code",
   "execution_count": null,
   "metadata": {},
   "outputs": [],
   "source": [
    "vre_df2"
   ]
  },
  {
   "cell_type": "code",
   "execution_count": null,
   "metadata": {},
   "outputs": [],
   "source": [
    "vre_df2[\"Patient ID\"].isna().sum()"
   ]
  },
  {
   "cell_type": "code",
   "execution_count": null,
   "metadata": {},
   "outputs": [],
   "source": [
    "vre_df2[vre_df2[\"Patient ID\"].isna()]"
   ]
  },
  {
   "cell_type": "code",
   "execution_count": null,
   "metadata": {},
   "outputs": [],
   "source": [
    "vre_df2 = vre_df2[~vre_df2[\"Patient ID\"].isna()]\n",
    "vre_df2"
   ]
  },
  {
   "cell_type": "code",
   "execution_count": null,
   "metadata": {},
   "outputs": [],
   "source": [
    "vre_df2[\"Patient ID\"].isna().sum()"
   ]
  },
  {
   "cell_type": "markdown",
   "metadata": {},
   "source": [
    "### File 3"
   ]
  },
  {
   "cell_type": "code",
   "execution_count": null,
   "metadata": {},
   "outputs": [],
   "source": [
    "vre_df3 = pd.read_csv(base_folder + \"2020_08_24_VREweekly_200824-0926.csv\", encoding=\"ISO-8859-1\", parse_dates=[\"Erfassung\", \"Entnahme\", \"Geburtsdat.\"], dtype=\"str\")\n",
    "vre_df3"
   ]
  },
  {
   "cell_type": "code",
   "execution_count": null,
   "metadata": {},
   "outputs": [],
   "source": [
    "vre_df3.columns"
   ]
  },
  {
   "cell_type": "code",
   "execution_count": null,
   "metadata": {},
   "outputs": [],
   "source": [
    "vre_df3.columns = ['Order ID', 'Record Date', 'Measurement Date', 'Patient Number', 'Last Name',\n",
    "                          'First Name', 'Birth Date', 'Requester', 'Cost Unit', 'Material Type',\n",
    "                          'Transport', 'Pathogen 1 Result', \"Pathogen 2 Result\", 'Index', 'Result PCR', 'vanA C(t)', 'vanA Qual',\n",
    "       'vanB C(t)', 'vanB Qual', 'E.faecium C(t)', 'E.faecium Qual']"
   ]
  },
  {
   "cell_type": "code",
   "execution_count": null,
   "metadata": {},
   "outputs": [],
   "source": [
    "vre_df3"
   ]
  },
  {
   "cell_type": "code",
   "execution_count": null,
   "metadata": {},
   "outputs": [],
   "source": [
    "vre_df3.fillna({'Pathogen 1 Result': 'nn', 'Pathogen 2 Result': 'nn'}, inplace=True)"
   ]
  },
  {
   "cell_type": "code",
   "execution_count": null,
   "metadata": {},
   "outputs": [],
   "source": [
    "vre_df3['Pathogen Result'] = np.where(~vre_df3[\"Pathogen 1 Result\"].str.contains(\"nn\") | ~vre_df3[\"Pathogen 2 Result\"].str.contains(\"nn\"),'pp', 'nn')"
   ]
  },
  {
   "cell_type": "code",
   "execution_count": null,
   "metadata": {},
   "outputs": [],
   "source": [
    "vre_df3"
   ]
  },
  {
   "cell_type": "markdown",
   "metadata": {},
   "source": [
    "Patient Nr are wothless. Continuing in file 3a where I matched the data with SAP data to find correspondences."
   ]
  },
  {
   "cell_type": "markdown",
   "metadata": {},
   "source": [
    "### File 3a"
   ]
  },
  {
   "cell_type": "code",
   "execution_count": null,
   "metadata": {},
   "outputs": [],
   "source": [
    "vre_df3a = pd.read_csv(base_folder + \"2020_08_24_VREweekly_200824-0926_GC_request_IDSC202101311_MKA.GC_20210302.csv\", parse_dates=[\"Erfassung\", \"Entnahme\", \"Geburtsdatum\"], dtype=\"str\")\n",
    "vre_df3a"
   ]
  },
  {
   "cell_type": "code",
   "execution_count": null,
   "metadata": {},
   "outputs": [],
   "source": [
    "vre_df3a.drop(columns=[\"StudieID\", \"PID\", \"PatNr\", \"Index\"], inplace=True)"
   ]
  },
  {
   "cell_type": "code",
   "execution_count": null,
   "metadata": {},
   "outputs": [],
   "source": [
    "vre_df3a.columns"
   ]
  },
  {
   "cell_type": "code",
   "execution_count": null,
   "metadata": {},
   "outputs": [],
   "source": [
    "vre_df3a.columns = ['Order ID', 'Record Date', 'Measurement Date', 'Last Name',\n",
    "                          'First Name', 'Birth Date', 'Requester', 'Cost Unit', 'Material Type',\n",
    "                          'Transport', 'Pathogen 1 Result', \"Pathogen 2 Result\", 'Result PCR', 'vanA C(t)', 'vanA Qual',\n",
    "       'vanB C(t)', 'vanB Qual', 'E.faecium C(t)', 'E.faecium Qual', 'general_consent', 'matching_status', 'warnings',\n",
    "       'Patient ID', 'SAP Birth Date', 'SAP First Name', 'SAP Last Name']"
   ]
  },
  {
   "cell_type": "code",
   "execution_count": null,
   "metadata": {},
   "outputs": [],
   "source": [
    "vre_df3a"
   ]
  },
  {
   "cell_type": "code",
   "execution_count": null,
   "metadata": {},
   "outputs": [],
   "source": [
    "vre_df3a.update(vre_df3a[[\"SAP Last Name\"]].rename(columns={\"SAP Last Name\": \"Last Name\"}))\n",
    "vre_df3a.update(vre_df3a[[\"SAP First Name\"]].rename(columns={\"SAP First Name\": \"First Name\"}))\n",
    "vre_df3a.update(vre_df3a[[\"SAP Birth Date\"]].rename(columns={\"SAP Birth Date\": \"Birth Date\"}))\n",
    "vre_df3a"
   ]
  },
  {
   "cell_type": "code",
   "execution_count": null,
   "metadata": {},
   "outputs": [],
   "source": [
    "vre_df3a.drop(columns=[\"SAP Birth Date\", \"SAP First Name\", \"SAP Last Name\", \"matching_status\", \"warnings\", \"general_consent\"], inplace=True)\n",
    "vre_df3a"
   ]
  },
  {
   "cell_type": "code",
   "execution_count": null,
   "metadata": {},
   "outputs": [],
   "source": [
    "vre_df3a.fillna({'Pathogen 1 Result': 'nn', 'Pathogen 2 Result': 'nn'}, inplace=True)\n",
    "vre_df3a['Pathogen Result'] = np.where(~vre_df3a[\"Pathogen 1 Result\"].str.contains(\"nn\") | ~vre_df3a[\"Pathogen 2 Result\"].str.contains(\"nn\"),'pp', 'nn')\n",
    "vre_df3a"
   ]
  },
  {
   "cell_type": "code",
   "execution_count": null,
   "metadata": {},
   "outputs": [],
   "source": [
    "vre_df3a[\"Patient ID\"].isna().sum()"
   ]
  },
  {
   "cell_type": "code",
   "execution_count": null,
   "metadata": {},
   "outputs": [],
   "source": [
    "vre_df3a[vre_df3a[\"Patient ID\"].isna()]"
   ]
  },
  {
   "cell_type": "code",
   "execution_count": null,
   "metadata": {},
   "outputs": [],
   "source": [
    "vre_df3a = vre_df3a[~vre_df3a[\"Patient ID\"].isna()]\n",
    "vre_df3a"
   ]
  },
  {
   "cell_type": "code",
   "execution_count": null,
   "metadata": {},
   "outputs": [],
   "source": [
    "vre_df3a[\"Patient ID\"].isna().sum()"
   ]
  },
  {
   "cell_type": "markdown",
   "metadata": {},
   "source": [
    "### File 6"
   ]
  },
  {
   "cell_type": "code",
   "execution_count": null,
   "metadata": {},
   "outputs": [],
   "source": [
    "vre_df6 = pd.read_csv(base_folder + \"vre_screenings.csv\", delimiter=\";\", parse_dates=[\"Erfassung\", \"Entnahme\"], dtype=\"str\")\n",
    "vre_df6\n"
   ]
  },
  {
   "cell_type": "code",
   "execution_count": null,
   "metadata": {},
   "outputs": [],
   "source": [
    "vre_df6.columns = ['Order ID', 'Record Date', 'Measurement Date', 'Patient Number',\n",
    "                          'Patient ID', 'Case ID', 'Requester', 'Cost Unit', 'Material Type',\n",
    "                          'Transport', 'Pathogen Result', 'vreih', 'Analysis Method', 'Screening Context']"
   ]
  },
  {
   "cell_type": "code",
   "execution_count": null,
   "metadata": {},
   "outputs": [],
   "source": [
    "vre_df6"
   ]
  },
  {
   "cell_type": "code",
   "execution_count": null,
   "metadata": {},
   "outputs": [],
   "source": [
    "vre_df6['vreih'].unique()"
   ]
  },
  {
   "cell_type": "code",
   "execution_count": null,
   "metadata": {},
   "outputs": [],
   "source": [
    "vre_df6[\"Patient ID\"].isna().sum()"
   ]
  },
  {
   "cell_type": "code",
   "execution_count": null,
   "metadata": {},
   "outputs": [],
   "source": [
    "vre_df6[vre_df6[\"Patient ID\"].isna()]"
   ]
  },
  {
   "cell_type": "code",
   "execution_count": null,
   "metadata": {},
   "outputs": [],
   "source": [
    "vre_df6 = vre_df6[~vre_df6[\"Patient ID\"].isna()]\n",
    "vre_df6"
   ]
  },
  {
   "cell_type": "code",
   "execution_count": null,
   "metadata": {},
   "outputs": [],
   "source": [
    "vre_df6[\"Patient ID\"].isna().sum()"
   ]
  },
  {
   "cell_type": "markdown",
   "metadata": {},
   "source": [
    "## Only VRE positive patients"
   ]
  },
  {
   "cell_type": "markdown",
   "metadata": {},
   "source": [
    "### File 4"
   ]
  },
  {
   "cell_type": "code",
   "execution_count": null,
   "metadata": {},
   "outputs": [],
   "source": [
    "# only VRE positive patients\n",
    "vre_df4 = pd.read_csv(base_folder + \"VRE_Pat_191211.csv\", parse_dates=[\"MeldeDatum\", \"EntnahmeDatum\", \"GebDatum\"], dtype=\"str\")\n",
    "vre_df4"
   ]
  },
  {
   "cell_type": "code",
   "execution_count": null,
   "metadata": {},
   "outputs": [],
   "source": [
    "vre_df4.columns = ['Measurement Date', 'Record Date',  'Screening Type',\n",
    "                          'Patient ID', 'Last Name', 'First Name', \"Birth Date\", 'Gender', 'Campus', 'Ward of Measurement', 'Department', 'Type of Resistency', 'MLS Resistency', \"Infection\", \"Explanation\"]"
   ]
  },
  {
   "cell_type": "code",
   "execution_count": null,
   "metadata": {},
   "outputs": [],
   "source": [
    "vre_df4[\"Pathogen Result\"] = \"pp\""
   ]
  },
  {
   "cell_type": "code",
   "execution_count": null,
   "metadata": {},
   "outputs": [],
   "source": [
    "vre_df4"
   ]
  },
  {
   "cell_type": "code",
   "execution_count": null,
   "metadata": {},
   "outputs": [],
   "source": [
    "vre_df4[\"Patient ID\"].isna().sum()"
   ]
  },
  {
   "cell_type": "code",
   "execution_count": null,
   "metadata": {},
   "outputs": [],
   "source": [
    "vre_df4[vre_df4[\"Patient ID\"].isna()]"
   ]
  },
  {
   "cell_type": "code",
   "execution_count": null,
   "metadata": {},
   "outputs": [],
   "source": [
    "vre_df4 = vre_df4[~vre_df4[\"Patient ID\"].isna()]\n",
    "vre_df4"
   ]
  },
  {
   "cell_type": "code",
   "execution_count": null,
   "metadata": {},
   "outputs": [],
   "source": [
    "vre_df4[\"Patient ID\"].isna().sum()"
   ]
  },
  {
   "cell_type": "markdown",
   "metadata": {},
   "source": [
    "### File 5"
   ]
  },
  {
   "cell_type": "code",
   "execution_count": null,
   "metadata": {},
   "outputs": [],
   "source": [
    "# only VRE positive patients\n",
    "vre_df5 = pd.read_csv(base_folder + \"VRE_Pat_191211_modified.csv\", parse_dates=[\"erfassung\", \"entnahme\", \"geburtsdatum\"], dtype=\"str\")\n",
    "vre_df5\n"
   ]
  },
  {
   "cell_type": "code",
   "execution_count": null,
   "metadata": {},
   "outputs": [],
   "source": [
    "vre_df5.columns = ['Order ID', 'Measurement Date', 'Record Date', 'First Name', 'Last Name', 'Birth Date', 'Patient ID', 'Requester', 'Cost Unit', 'Material Type',\n",
    "                          'Transport', 'Pathogen Result', 'Analysis Method', 'Screening Context']"
   ]
  },
  {
   "cell_type": "code",
   "execution_count": null,
   "metadata": {},
   "outputs": [],
   "source": [
    "vre_df5"
   ]
  },
  {
   "cell_type": "code",
   "execution_count": null,
   "metadata": {},
   "outputs": [],
   "source": [
    "vre_df5[\"Patient ID\"].isna().sum()"
   ]
  },
  {
   "cell_type": "code",
   "execution_count": null,
   "metadata": {},
   "outputs": [],
   "source": [
    "vre_df5[vre_df5[\"Patient ID\"].isna()]"
   ]
  },
  {
   "cell_type": "code",
   "execution_count": null,
   "metadata": {},
   "outputs": [],
   "source": [
    "vre_df5 = vre_df5[~vre_df5[\"Patient ID\"].isna()]\n",
    "vre_df5"
   ]
  },
  {
   "cell_type": "code",
   "execution_count": null,
   "metadata": {},
   "outputs": [],
   "source": [
    "vre_df5[\"Patient ID\"].isna().sum()"
   ]
  },
  {
   "cell_type": "markdown",
   "metadata": {},
   "source": [
    "# Merge df2 and df3a!"
   ]
  },
  {
   "cell_type": "code",
   "execution_count": null,
   "metadata": {},
   "outputs": [],
   "source": [
    "vre_df = pd.concat([vre_df2, vre_df3a]) \n",
    "# vre_df1 excluded because it is a duplicate of vre_df2 and stems from the same file source\n",
    "# vre_df3 excluded because it is a duplicate of vre_df3a, but does not contain any patient IDs\n",
    "# vre_df4 and vre_df5 excluded as they are just positive screenings and thus should be included in the all screenings document\n",
    "# vre_df6 excluded as this file does not contain any first and last name nor birth date and as such is hard to match against any others\n",
    "# vre_df2 and vre_df3a seem to cover the date range well as can be seen in the screening plots below\n",
    "vre_df"
   ]
  },
  {
   "cell_type": "code",
   "execution_count": null,
   "metadata": {},
   "outputs": [],
   "source": [
    "vre_df.columns"
   ]
  },
  {
   "cell_type": "code",
   "execution_count": null,
   "metadata": {},
   "outputs": [],
   "source": [
    "vre_df[\"Pathogen Result\"].unique()"
   ]
  },
  {
   "cell_type": "code",
   "execution_count": null,
   "metadata": {},
   "outputs": [],
   "source": [
    "vre_df.drop(columns=['Result PCR',\n",
    "       'vanA C(t)', 'vanA Qual', 'vanB C(t)', 'vanB Qual', 'E.faecium C(t)',\n",
    "       'E.faecium Qual', 'Campus', 'Ward of Measurement',\n",
    "       'Department', 'Type of Resistency', 'MLS Resistency', 'Infection',\n",
    "       'Explanation', 'vreih', \"Screening Type\", \"Case ID\", \"Analysis Method\", \"Age\", \"Pathogen 1 Result\", \"Pathogen 2 Result\", \"Requester\", \"Cost Unit\", \"Screening Context\", \"Material Type\", \"Transport\"], inplace=True, errors=\"ignore\")"
   ]
  },
  {
   "cell_type": "code",
   "execution_count": null,
   "metadata": {},
   "outputs": [],
   "source": [
    "vre_df"
   ]
  },
  {
   "cell_type": "markdown",
   "metadata": {},
   "source": [
    "## Screenings across time"
   ]
  },
  {
   "cell_type": "code",
   "execution_count": null,
   "metadata": {},
   "outputs": [],
   "source": [
    "vre_df[[\"Record Date\"]].groupby([vre_df[\"Record Date\"].dt.year, vre_df[\"Record Date\"].dt.month]).count().plot(kind=\"bar\", figsize=(16,12), title=\"VRE Screenings across time\")"
   ]
  },
  {
   "cell_type": "code",
   "execution_count": null,
   "metadata": {},
   "outputs": [],
   "source": [
    "vre_df.columns"
   ]
  },
  {
   "cell_type": "code",
   "execution_count": null,
   "metadata": {},
   "outputs": [],
   "source": [
    "len(vre_df)"
   ]
  },
  {
   "cell_type": "code",
   "execution_count": null,
   "metadata": {},
   "outputs": [],
   "source": [
    "#vre_df[\"Patient Number\"] = pd.to_numeric(vre_df[\"Patient Number\"], errors='coerce')"
   ]
  },
  {
   "cell_type": "code",
   "execution_count": null,
   "metadata": {},
   "outputs": [],
   "source": [
    "#vre_df[\"Patient ID\"] = pd.to_numeric(vre_df[\"Patient ID\"], errors='coerce')"
   ]
  },
  {
   "cell_type": "code",
   "execution_count": null,
   "metadata": {},
   "outputs": [],
   "source": [
    "#vre_df[[\"Patient Number\", \"Patient ID\"]].describe()"
   ]
  },
  {
   "cell_type": "markdown",
   "metadata": {},
   "source": [
    "They are absolutely not the same and not something like the patient id without the checksum digit."
   ]
  },
  {
   "cell_type": "code",
   "execution_count": null,
   "metadata": {},
   "outputs": [],
   "source": [
    "vre_df[\"Record Date\"].isna().sum()"
   ]
  },
  {
   "cell_type": "code",
   "execution_count": null,
   "metadata": {},
   "outputs": [],
   "source": [
    "#vre_df[[\"Patient Number\", \"Patient ID\"]]"
   ]
  },
  {
   "cell_type": "code",
   "execution_count": null,
   "metadata": {},
   "outputs": [],
   "source": [
    "v_df1 = vre_df.drop_duplicates(subset=['Order ID', \"Record Date\"])"
   ]
  },
  {
   "cell_type": "code",
   "execution_count": null,
   "metadata": {},
   "outputs": [],
   "source": [
    "v_df1 = v_df1.drop_duplicates(subset=['Record Date', \"Pathogen Result\", \"Patient ID\"])"
   ]
  },
  {
   "cell_type": "code",
   "execution_count": null,
   "metadata": {},
   "outputs": [],
   "source": [
    "v_df1"
   ]
  },
  {
   "cell_type": "code",
   "execution_count": null,
   "metadata": {},
   "outputs": [],
   "source": [
    "v_df1[\"Patient ID\"].isna().sum()"
   ]
  },
  {
   "cell_type": "code",
   "execution_count": null,
   "metadata": {},
   "outputs": [],
   "source": [
    "v_df1[v_df1[\"Patient ID\"].isna()]"
   ]
  },
  {
   "cell_type": "markdown",
   "metadata": {},
   "source": [
    "## Save screenings to file"
   ]
  },
  {
   "cell_type": "code",
   "execution_count": null,
   "metadata": {},
   "outputs": [],
   "source": [
    "v_df1 = v_df1.sort_values(by=[\"Record Date\"])\n",
    "v_df1.to_csv(\"./data/raw/model_data/VRE_SCREENING_DATA.csv\")"
   ]
  },
  {
   "cell_type": "code",
   "execution_count": null,
   "metadata": {},
   "outputs": [],
   "source": [
    "v_df1[~v_df1[\"Pathogen Result\"].str.contains(\"nn\")]"
   ]
  },
  {
   "cell_type": "code",
   "execution_count": null,
   "metadata": {
    "scrolled": true
   },
   "outputs": [],
   "source": [
    "pd.set_option('display.max_rows', 2000)\n",
    "v_df1[~v_df1[\"Pathogen Result\"].str.contains(\"nn\")].sort_values(by=[\"Record Date\"])"
   ]
  },
  {
   "cell_type": "code",
   "execution_count": null,
   "metadata": {},
   "outputs": [],
   "source": [
    "len(v_df1[~v_df1[\"Pathogen Result\"].str.contains(\"nn\")].sort_values(by=[\"Record Date\"]))"
   ]
  },
  {
   "cell_type": "code",
   "execution_count": null,
   "metadata": {
    "scrolled": true
   },
   "outputs": [],
   "source": [
    "v_df_pos = v_df1[~v_df1[\"Pathogen Result\"].str.contains(\"nn\")]\n",
    "v_df_pos[\"Pathogen Result\"] = \"pp\"\n",
    "v_df_pos = v_df_pos.drop_duplicates(subset=[\"Pathogen Result\", \"Patient ID\"]).sort_values(by=[\"Record Date\"])\n",
    "v_df_pos"
   ]
  },
  {
   "cell_type": "code",
   "execution_count": null,
   "metadata": {},
   "outputs": [],
   "source": [
    "len(v_df_pos)"
   ]
  },
  {
   "cell_type": "markdown",
   "metadata": {},
   "source": [
    "## Positive screenings over time"
   ]
  },
  {
   "cell_type": "code",
   "execution_count": null,
   "metadata": {},
   "outputs": [],
   "source": [
    "v_df_pos[[\"Record Date\"]].groupby([v_df_pos[\"Record Date\"].dt.year, v_df_pos[\"Record Date\"].dt.month]).count().plot(kind=\"bar\", figsize=(16,12), title=\"VRE Positive Screenings across time\")"
   ]
  },
  {
   "cell_type": "code",
   "execution_count": null,
   "metadata": {},
   "outputs": [],
   "source": []
  }
 ],
 "metadata": {
  "kernelspec": {
   "display_name": "Python 3",
   "language": "python",
   "name": "python3"
  },
  "language_info": {
   "codemirror_mode": {
    "name": "ipython",
    "version": 3
   },
   "file_extension": ".py",
   "mimetype": "text/x-python",
   "name": "python",
   "nbconvert_exporter": "python",
   "pygments_lexer": "ipython3",
   "version": "3.7.9"
  },
  "toc": {
   "base_numbering": 1,
   "nav_menu": {},
   "number_sections": true,
   "sideBar": true,
   "skip_h1_title": false,
   "title_cell": "Table of Contents",
   "title_sidebar": "Contents",
   "toc_cell": false,
   "toc_position": {
    "height": "calc(100% - 180px)",
    "left": "10px",
    "top": "150px",
    "width": "512px"
   },
   "toc_section_display": true,
   "toc_window_display": true
  }
 },
 "nbformat": 4,
 "nbformat_minor": 4
}
