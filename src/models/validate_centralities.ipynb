{
 "cells": [
  {
   "cell_type": "code",
   "execution_count": null,
   "metadata": {},
   "outputs": [],
   "source": [
    "%load_ext autoreload\n",
    "%autoreload 2"
   ]
  },
  {
   "cell_type": "code",
   "execution_count": null,
   "metadata": {},
   "outputs": [],
   "source": [
    "import sys\n",
    "\n",
    "sys.path.append(\"../..\")\n",
    "\n",
    "import os\n",
    "\n",
    "os.chdir(\"../..\")\n",
    "\n",
    "print(os.getcwd())\n",
    "\n",
    "import logging\n",
    "\n",
    "from datetime import datetime\n",
    "\n",
    "import pandas as pd\n",
    "\n",
    "from src.features.dataloader import DataLoader\n",
    "from src.models.networkx_graph import SurfaceModel"
   ]
  },
  {
   "cell_type": "code",
   "execution_count": null,
   "metadata": {},
   "outputs": [],
   "source": [
    "# precision-recall curve and f1\n",
    "from sklearn.datasets import make_classification\n",
    "from sklearn.linear_model import LogisticRegression\n",
    "from sklearn.model_selection import train_test_split\n",
    "from sklearn.metrics import precision_recall_curve\n",
    "from sklearn.metrics import auc as get_auc\n",
    "import matplotlib.pyplot as plt\n",
    "\n",
    "# generate 2 class dataset\n",
    "X, y = make_classification(n_samples=1000, n_classes=2, random_state=1)\n",
    "\n",
    "# split into train/test sets\n",
    "train_X, test_X, train_y, test_y = train_test_split(X, y, test_size=0.5, random_state=2)\n",
    "\n",
    "# fit a model\n",
    "model = LogisticRegression(solver='lbfgs')\n",
    "model.fit(train_X, train_y)\n",
    "\n",
    "# predict probabilities\n",
    "lr_probs = model.predict_proba(test_X)\n",
    "\n",
    "# keep probabilities for the positive outcome only\n",
    "lr_probs = lr_probs[:, 1]\n",
    "\n",
    "def plot_prec_rec_curve(y, y_hat_probs, classifier_label):\n",
    "    # predict class values\n",
    "    precision, recall, _ = precision_recall_curve(y, y_hat_probs)\n",
    "    auc = get_auc(recall, precision)\n",
    "\n",
    "    # summarize scores\n",
    "    print(classifier_label, ': auc=%.3f' % (auc))\n",
    "\n",
    "    # plot the precision-recall curves\n",
    "    no_skill = len(y[y==1]) / len(y)\n",
    "    plt.plot([0, 1], [no_skill, no_skill], linestyle='--', label='Chance')\n",
    "    plt.plot(recall, precision, marker='.', label=classifier_label)\n",
    "\n",
    "    # axis labels\n",
    "    plt.xlabel('Recall')\n",
    "    plt.ylabel('Precision')\n",
    "\n",
    "    plt.legend() # show the legend\n",
    "    plt.show()  # show the plot\n",
    "    \n",
    "plot_prec_rec_curve(test_y, lr_probs, \"Logistic\")"
   ]
  },
  {
   "cell_type": "code",
   "execution_count": null,
   "metadata": {},
   "outputs": [],
   "source": [
    "# get tested/positive patients of range\n",
    "csv_path = \"./data/interim/model_data/VRE_SCREENING_DATA.csv\"\n",
    "risk_df = pd.read_csv(csv_path, parse_dates=[\"Record Date\"], dtype=str)\n",
    "risk_df"
   ]
  },
  {
   "cell_type": "code",
   "execution_count": null,
   "metadata": {
    "collapsed": false,
    "jupyter": {
     "outputs_hidden": false
    },
    "pycharm": {
     "name": "#%%\n"
    }
   },
   "outputs": [],
   "source": [
    "def get_screening_pids_of_range(from_range=None, to_range=None, is_positive=False):\n",
    "    risk_range_df = risk_df\n",
    "    \n",
    "    if from_range is not None:\n",
    "        risk_range_df = risk_range_df.loc[(risk_df[\"Record Date\"] > from_range)]\n",
    "        \n",
    "    if to_range is not None:\n",
    "        risk_range_df = risk_range_df.loc[(risk_df[\"Record Date\"] <= to_range)]\n",
    "    \n",
    "    if is_positive:\n",
    "        risk_range_df = risk_range_df[risk_range_df[\"Pathogen Result\"] != \"nn\"]\n",
    "    \n",
    "    return risk_range_df[\"Patient ID\"].tolist()\n",
    "\n",
    "get_screening_pids_of_range(from_range=datetime(2017, 12, 1), to_range=datetime(2018, 1, 1))"
   ]
  },
  {
   "cell_type": "code",
   "execution_count": null,
   "metadata": {},
   "outputs": [],
   "source": [
    "# drop duplicate positive screenings to make them only show up once and not regularly (otherwise such a patient is shown as newly positive below, but the algorithm will exclude it from prediction as it is already known)\n",
    "v_df_pos = risk_df[risk_df[\"Pathogen Result\"] != \"nn\"]\n",
    "v_df_pos[\"Pathogen Result\"] = \"pp\"\n",
    "v_df_pos = v_df_pos.drop_duplicates(subset=[\"Pathogen Result\", \"Patient ID\"]).sort_values(by=[\"Record Date\"])\n",
    "v_df_pos"
   ]
  },
  {
   "cell_type": "code",
   "execution_count": null,
   "metadata": {},
   "outputs": [],
   "source": [
    "risk_df = pd.concat([risk_df[risk_df[\"Pathogen Result\"].str.contains(\"nn\")], v_df_pos]).sort_values(by=[\"Record Date\"])"
   ]
  },
  {
   "cell_type": "code",
   "execution_count": null,
   "metadata": {},
   "outputs": [],
   "source": [
    "risk_df"
   ]
  },
  {
   "cell_type": "code",
   "execution_count": null,
   "metadata": {
    "pycharm": {
     "name": "#%%\n"
    }
   },
   "outputs": [],
   "source": [
    "from datetime import date, datetime, timedelta\n",
    "\n",
    "logging.basicConfig(format='%(asctime)s - %(levelname)s: %(message)s', level=logging.INFO, datefmt='%d.%m.%Y %H:%M:%S')\n",
    "\n",
    "now_str = datetime.now().strftime(\"%Y%m%d%H%M%S\")\n",
    "\n",
    "lookback_window_month_qty = 2\n",
    "lookback_window = timedelta(weeks=lookback_window_month_qty * 4)\n",
    "prediction_window_month_qty = 1\n",
    "prediction_window = timedelta(weeks=prediction_window_month_qty * 4)\n",
    "\n",
    "#####################################\n",
    "# Validating algorithms\n",
    "logging.info(\"Running sliding window validation...\")\n",
    "\n",
    "def datespan(start_date, end_date, delta=timedelta(days=1)):\n",
    "    current_date = start_date\n",
    "    while current_date < end_date:\n",
    "        yield current_date\n",
    "        current_date += delta\n",
    "\n",
    "start_span = datetime(2017, 12, 1)\n",
    "end_span = datetime(2021, 3, 31)\n",
    "\n",
    "# print general stats on screenings and infections\n",
    "infected_patients = get_screening_pids_of_range(is_positive=True)\n",
    "print(f\"Total of {len(infected_patients)} patients infected\")\n",
    "\n",
    "for start_date in datespan(start_span, end_span, timedelta(weeks=1)):\n",
    "    end_date = start_date + lookback_window\n",
    "    print(f\"Loading data within range: {start_date} - {end_date}\")\n",
    "    loader = DataLoader()\n",
    "    patient_data = loader.prepare_dataset(load_medications=False,\n",
    "                                          load_icd_codes=False,\n",
    "                                          load_chop_codes=False,\n",
    "                                          load_surgeries=False,\n",
    "                                          load_partners=False,\n",
    "                                          from_range=start_date,\n",
    "                                          to_range=end_date,\n",
    "                                          load_patients_in_locations=[\"BH O\", \"BHH O\"],\n",
    "                                          is_verbose=False)\n",
    "    \n",
    "    print(f\"Calculating snapshot: {start_date} - {end_date}\")\n",
    "    surface_graph = SurfaceModel(data_dir='./data/processed/networkx')\n",
    "    surface_graph.add_network_data(patient_dict=patient_data, case_subset='relevant_case')\n",
    "    surface_graph.trim_model(start_date, end_date)\n",
    "    surface_graph.remove_isolated_nodes()\n",
    "    surface_graph.inspect_network()\n",
    "        \n",
    "    infected_patients_in_lookback_range = get_screening_pids_of_range(from_range=start_date, to_range=end_date, is_positive=True)\n",
    "    infected_patients_in_lookback_range = list(set(infected_patients_in_lookback_range).intersection(set(surface_graph.get_patients())))\n",
    "    \n",
    "    screenings_in_lookback_range = get_screening_pids_of_range(from_range=start_date, to_range=end_date, is_positive=False)\n",
    "    screenings_in_lookback_range = list(set(screenings_in_lookback_range).intersection(set(surface_graph.get_patients())))\n",
    "    \n",
    "    infected_patients_in_prediction_range = get_screening_pids_of_range(end_date, to_range=end_date + prediction_window, is_positive=True)\n",
    "    infected_patients_in_prediction_range = list(set(infected_patients_in_prediction_range).intersection(set(surface_graph.get_patients())))\n",
    "    \n",
    "    screenings_in_prediction_range = get_screening_pids_of_range(end_date, to_range=end_date + prediction_window, is_positive=False)\n",
    "    screenings_in_prediction_range = list(set(screenings_in_prediction_range).intersection(set(surface_graph.get_patients())))\n",
    "    \n",
    "    \n",
    "    print(f\"{len(infected_patients_in_lookback_range)} / {len(screenings_in_lookback_range)} infections/screenings in lookback range {start_date.date()} - {end_date.date()}\")\n",
    "    print(f\"{len(infected_patients_in_prediction_range)} / {len(screenings_in_prediction_range)} infections/screenings in prediction range {end_date.date()} - {(end_date + prediction_window).date()}\")\n",
    "\n",
    "    print(\"### Available features and targets in data ###\")\n",
    "    print(f\"{len(surface_graph.get_positive_patients())} known positive patients in graph\")\n",
    "    print(f\"{len(set(infected_patients_in_prediction_range).intersection(set(surface_graph.get_positive_patients())))} / {len(infected_patients_in_prediction_range)} prediction patients are positive in graph (-- =0)\")\n",
    "    print()\n",
    "    print(f\"{len(set(infected_patients_in_lookback_range).intersection(set(surface_graph.get_positive_patients())))} / {len(infected_patients_in_lookback_range)} known positive patients equally in graph and in lookback range (++)\") # patients without interactions are lost\n",
    "    # graph and screening range numbers can differ because patients without interactions are discarded as isolated nodes -> Unpredictable nodes\n",
    "    \n",
    "    negative_patients_in_graph = set(surface_graph.get_patients()).difference(set(surface_graph.get_positive_patients()))\n",
    "    print(f\"{len(set(infected_patients_in_prediction_range).intersection(negative_patients_in_graph))} / {len(infected_patients_in_prediction_range)} infected patients in prediction range are negative in graph (++)\")\n",
    "    \n",
    "    surface_graph.add_edge_infection(infection_distance=2)\n",
    "    # calculate infection degree\n",
    "    infection_degree_df = surface_graph.calculate_infection_degree()\n",
    "#     print(infection_degree_df[(infection_degree_df[\"Node Type\"] == \"Patient\") & (infection_degree_df[\"Risk Status\"] == \"neg\")].head(5))\n",
    "    \n",
    "    # sanity checks: are positive patients in ranking?\n",
    "    infected_patients_list = infection_degree_df[\"Node ID\"].to_list()\n",
    "    print(\"### Are positive patients in ranking? ###\")\n",
    "    print(f\"{len(set(infected_patients_in_prediction_range).intersection(set(infected_patients_list)))} positive patients in infection degree ranking\")\n",
    "    print()\n",
    "    \n",
    "#     # print prediction based on degree ratio\n",
    "#     print(\"### Infection Degree (ID) and degree ratio threshold ###\")\n",
    "#     id_prediction1 = infection_degree_df[(infection_degree_df[\"Node Type\"] == \"Patient\") & (infection_degree_df[\"Degree Ratio\"] >= 1.0) & (infection_degree_df[\"Risk Status\"] == \"neg\")][\"Node ID\"].to_list()\n",
    "#     print(f\"{len(set(infected_patients).intersection(set(id_prediction1)))} / {len(infected_patients)} with {len(id_prediction1)} screenings | patients at risk predicted to be ever positive\")\n",
    "#     print(f\"{len(set(infected_patients_in_prediction_range).intersection(set(id_prediction1)))} / {len(infected_patients_in_prediction_range)} with {len(id_prediction1)} screenings | patients at risk predicted to be positive in range\")\n",
    "#     print()\n",
    "       \n",
    "    # print prediction based on number of infected edges 95% quartile\n",
    "    print(\"### Infection Degree (ID) and infected edges 95% quartile threshold ###\")\n",
    "    id_prediction3 = infection_degree_df[(infection_degree_df[\"Node Type\"] == \"Patient\") & (infection_degree_df[\"Number of Infected Edges\"] > infection_degree_df[\"Number of Infected Edges\"].quantile(0.95)) & (infection_degree_df[\"Risk Status\"] == \"neg\")][\"Node ID\"].to_list()\n",
    "    print(f\"{len(set(infected_patients).intersection(set(id_prediction3)))} / {len(infected_patients)} with {len(id_prediction3)} screenings | patients at risk predicted to be ever positive\")\n",
    "    print(f\"{len(set(infected_patients_in_prediction_range).intersection(set(id_prediction3)))} / {len(infected_patients_in_prediction_range)} with {len(id_prediction3)} screenings | patients at risk predicted to be positive in range\")\n",
    "    print()\n",
    "    \n",
    "    # print prediction based on number of infected edges 90% quartile\n",
    "    print(\"### Infection Degree (ID) and infected edges 90% quartile threshold ###\")\n",
    "    id_prediction3 = infection_degree_df[(infection_degree_df[\"Node Type\"] == \"Patient\") & (infection_degree_df[\"Number of Infected Edges\"] > infection_degree_df[\"Number of Infected Edges\"].quantile(0.90)) & (infection_degree_df[\"Risk Status\"] == \"neg\")][\"Node ID\"].to_list()\n",
    "    print(f\"{len(set(infected_patients).intersection(set(id_prediction3)))} / {len(infected_patients)} with {len(id_prediction3)} screenings | patients at risk predicted to be ever positive\")\n",
    "    print(f\"{len(set(infected_patients_in_prediction_range).intersection(set(id_prediction3)))} / {len(infected_patients_in_prediction_range)} with {len(id_prediction3)} screenings | patients at risk predicted to be positive in range\")\n",
    "    print()\n",
    "    \n",
    "    # print prediction based on number of infected edges 85% quartile\n",
    "    print(\"### Infection Degree (ID) and infected edges 85% quartile threshold ###\")\n",
    "    id_prediction3 = infection_degree_df[(infection_degree_df[\"Node Type\"] == \"Patient\") & (infection_degree_df[\"Number of Infected Edges\"] > infection_degree_df[\"Number of Infected Edges\"].quantile(0.85)) & (infection_degree_df[\"Risk Status\"] == \"neg\")][\"Node ID\"].to_list()\n",
    "    print(f\"{len(set(infected_patients).intersection(set(id_prediction3)))} / {len(infected_patients)} with {len(id_prediction3)} screenings | patients at risk predicted to be ever positive\")\n",
    "    print(f\"{len(set(infected_patients_in_prediction_range).intersection(set(id_prediction3)))} / {len(infected_patients_in_prediction_range)} with {len(id_prediction3)} screenings | patients at risk predicted to be positive in range\")\n",
    "    print()\n",
    "    \n",
    "    # print prediction based on number of infected edges 75% quartile\n",
    "    print(\"### Infection Degree (ID) and infected edges 75% quartile threshold ###\")\n",
    "    id_prediction3 = infection_degree_df[(infection_degree_df[\"Node Type\"] == \"Patient\") & (infection_degree_df[\"Number of Infected Edges\"] > infection_degree_df[\"Number of Infected Edges\"].quantile(0.75)) & (infection_degree_df[\"Risk Status\"] == \"neg\")][\"Node ID\"].to_list()\n",
    "    print(f\"{len(set(infected_patients).intersection(set(id_prediction3)))} / {len(infected_patients)} with {len(id_prediction3)} screenings | patients at risk predicted to be ever positive\")\n",
    "    print(f\"{len(set(infected_patients_in_prediction_range).intersection(set(id_prediction3)))} / {len(infected_patients_in_prediction_range)} with {len(id_prediction3)} screenings | patients at risk predicted to be positive in range\")\n",
    "    print()\n",
    "    \n",
    "    # print prediction based on number of infected edges median\n",
    "    print(\"### Infection Degree (ID) and infected edges median threshold ###\")\n",
    "    id_prediction2 = infection_degree_df[(infection_degree_df[\"Node Type\"] == \"Patient\") & (infection_degree_df[\"Number of Infected Edges\"] > infection_degree_df[\"Number of Infected Edges\"].median()) & (infection_degree_df[\"Risk Status\"] == \"neg\")][\"Node ID\"].to_list()\n",
    "    print(f\"{len(set(infected_patients).intersection(set(id_prediction2)))} / {len(infected_patients)} with {len(id_prediction2)} screenings | patients at risk predicted to be ever positive\")\n",
    "    print(f\"{len(set(infected_patients_in_prediction_range).intersection(set(id_prediction2)))} / {len(infected_patients_in_prediction_range)} with {len(id_prediction2)} screenings | patients at risk predicted to be positive in range\")\n",
    "    print()\n",
    "    \n",
    "    # print prediction based full infection degree df\n",
    "    print(\"### Infection Degree (ID) (all predictions) ###\")\n",
    "    id_prediction4 = infection_degree_df[(infection_degree_df[\"Node Type\"] == \"Patient\") & (infection_degree_df[\"Risk Status\"] == \"neg\")][\"Node ID\"].to_list()\n",
    "    print(f\"{len(set(infected_patients).intersection(set(id_prediction4)))} / {len(infected_patients)} with {len(id_prediction4)} screenings | patients at risk predicted to be ever positive\")\n",
    "    print(f\"{len(set(infected_patients_in_prediction_range).intersection(set(id_prediction4)))} / {len(infected_patients_in_prediction_range)} with {len(id_prediction4)} screenings | patients at risk predicted to be positive in range\")\n",
    "    print()\n",
    "    \n",
    "    y_df = infection_degree_df[(infection_degree_df[\"Node Type\"] == \"Patient\") & (infection_degree_df[\"Risk Status\"] == \"neg\")][[\"Node ID\", \"Number of Infected Edges\"]]\n",
    "    y_df.loc[y_df['Node ID'].isin(infected_patients_in_prediction_range), 'Target'] = 1\n",
    "    y_df.loc[~y_df['Node ID'].isin(infected_patients_in_prediction_range), 'Target'] = 0\n",
    "    y_hat_probs = y_df[\"Number of Infected Edges\"].to_numpy()\n",
    "    y = y_df[\"Target\"].to_numpy()\n",
    "    plot_prec_rec_curve(y, y_hat_probs, \"Centrality\")\n",
    "    "
   ]
  },
  {
   "cell_type": "code",
   "execution_count": null,
   "metadata": {},
   "outputs": [],
   "source": [
    "# get predicted patients with their infected edges scoring\n",
    "y_df = infection_degree_df[(infection_degree_df[\"Node Type\"] == \"Patient\") & (infection_degree_df[\"Risk Status\"] == \"neg\")][[\"Node ID\", \"Number of Infected Edges\"]]\n",
    "y_df[y_df[\"Node ID\"].isin(infected_patients_in_prediction_range)]"
   ]
  },
  {
   "cell_type": "code",
   "execution_count": null,
   "metadata": {},
   "outputs": [],
   "source": [
    "y_df.loc[y_df['Node ID'].isin(infected_patients_in_prediction_range), 'Target'] = 1\n",
    "y_df.loc[~y_df['Node ID'].isin(infected_patients_in_prediction_range), 'Target'] = 0\n",
    "y_hat_probs = y_df[\"Number of Infected Edges\"].to_numpy()\n",
    "y = y_df[\"Target\"].to_numpy()"
   ]
  },
  {
   "cell_type": "code",
   "execution_count": null,
   "metadata": {},
   "outputs": [],
   "source": [
    "y_hat_probs"
   ]
  },
  {
   "cell_type": "code",
   "execution_count": null,
   "metadata": {},
   "outputs": [],
   "source": [
    "plot_prec_rec_curve(y, y_hat_probs, \"Centrality\")"
   ]
  },
  {
   "cell_type": "code",
   "execution_count": null,
   "metadata": {},
   "outputs": [],
   "source": [
    "y.shape"
   ]
  },
  {
   "cell_type": "code",
   "execution_count": null,
   "metadata": {},
   "outputs": [],
   "source": [
    "y_df[y_df[\"Node ID\"].isin(infected_patients_in_prediction_range)]"
   ]
  },
  {
   "cell_type": "code",
   "execution_count": null,
   "metadata": {},
   "outputs": [],
   "source": [
    "infected_patients_in_prediction_range"
   ]
  },
  {
   "cell_type": "code",
   "execution_count": null,
   "metadata": {},
   "outputs": [],
   "source": []
  }
 ],
 "metadata": {
  "kernelspec": {
   "display_name": "Python 3",
   "language": "python",
   "name": "python3"
  },
  "language_info": {
   "codemirror_mode": {
    "name": "ipython",
    "version": 3
   },
   "file_extension": ".py",
   "mimetype": "text/x-python",
   "name": "python",
   "nbconvert_exporter": "python",
   "pygments_lexer": "ipython3",
   "version": "3.7.9"
  }
 },
 "nbformat": 4,
 "nbformat_minor": 4
}