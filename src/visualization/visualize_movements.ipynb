{
 "cells": [
  {
   "cell_type": "code",
   "execution_count": null,
   "outputs": [],
   "source": [
    "import sys\n",
    "import os\n",
    "\n",
    "import numpy as np\n",
    "import pandas as pd\n",
    "#import holoviews as hv\n",
    "#import networkx as nx\n",
    "#import bokeh\n",
    "#from holoviews import opts\n",
    "import matplotlib.pyplot as plt\n",
    "\n",
    "#hv.extension('bokeh')\n",
    "\n",
    "sys.path.append('../../')\n",
    "os.chdir(\"../../\")\n",
    "\n",
    "import configparser\n",
    "import logging\n",
    "import pathlib\n",
    "import networkx as nx\n",
    "\n",
    "from src.features.dataloader import DataLoader\n",
    "from src.models.networkx_graph import SurfaceModel\n",
    "from configuration.basic_configuration import configuration\n",
    "\n",
    "load_test_data = configuration['PARAMETERS']['dataset'] == 'test'\n",
    "\n",
    "if not load_test_data:\n",
    "    base_path = configuration['PATHS']['model_data_dir']\n",
    "else:\n",
    "    base_path = configuration['PATHS']['test_data_dir']\n",
    "\n",
    "logging.debug(f\"base_path: {base_path}\")\n",
    "\n",
    "encoding = \"iso-8859-1\""
   ],
   "metadata": {
    "collapsed": false,
    "pycharm": {
     "name": "#%%\n"
    }
   }
  },
  {
   "cell_type": "code",
   "execution_count": null,
   "outputs": [],
   "source": [
    "logging.basicConfig(format='%(asctime)s - %(levelname)s: %(message)s', level=logging.INFO,\n",
    "                    datefmt='%d.%m.%Y %H:%M:%S')\n",
    "#####################################\n",
    "\n",
    "#####################################\n",
    "# Initiate data loader\n",
    "# logging.info(\"Initiating data_loader\")\n",
    "\n",
    "# --> Load all data:\n",
    "# loader = DataLoader(hdfs_pipe=False)  # hdfs_pipe = False --> files will be loaded directly from CSV\n",
    "# patient_data = loader.patient_data()\n",
    "#####################################"
   ],
   "metadata": {
    "collapsed": false,
    "pycharm": {
     "name": "#%%\n"
    }
   }
  },
  {
   "cell_type": "code",
   "execution_count": null,
   "outputs": [],
   "source": [
    "movements_df = pd.read_csv(os.path.join(base_path, \"../../interim/LA_ISH_NBEW.csv\"), encoding=encoding, parse_dates=[\"Begin Datetime\", \"End Datetime\"], index_col=\"Unnamed: 0\")\n",
    "\n",
    "# movements_df[\"Begin Time\"] = movements_df[\"Begin Time\"].str[:8]\n",
    "# movements_df[\"End Time\"] = movements_df[\"End Time\"].str[:8]\n",
    "#\n",
    "# #movements_df[\"Begin Date\"] = pd.to_datetime(movements_df[\"Begin Date\"], format=\"%Y-%m-%d\", errors=\"ignore\")\n",
    "# #movements_df[\"End Date\"] = pd.to_datetime(movements_df[\"End Date\"], format=\"%Y-%m-%d\", errors=\"ignore\")\n",
    "#\n",
    "# movements_df[\"Begin Datetime\"] = (movements_df[\"Begin Date\"] + \" \" + movements_df[\"Begin Time\"])\n",
    "# movements_df[\"End Datetime\"] = (movements_df[\"End Date\"] + \" \" + movements_df[\"End Time\"])\n",
    "# movements_df = movements_df.drop(labels=[\"Begin Date\", \"Begin Time\", \"End Date\", \"End Time\"], axis=1)\n",
    "#\n",
    "# movements_df[\"Begin Datetime\"] = pd.to_datetime(movements_df[\"Begin Datetime\"], format=\"%Y-%m-%d %H:%M:%S\", errors='coerce')\n",
    "# movements_df[\"End Datetime\"] = pd.to_datetime(movements_df[\"End Datetime\"], format=\"%Y-%m-%d %H:%M:%S\", errors='coerce')\n",
    "\n",
    "#movements_df = movements_df.reset_index()\n",
    "len(movements_df)"
   ],
   "metadata": {
    "collapsed": false,
    "pycharm": {
     "name": "#%%\n"
    }
   }
  },
  {
   "cell_type": "code",
   "execution_count": null,
   "outputs": [],
   "source": [
    "movements_df[\"Begin Datetime\"].apply(lambda x: type(x)).unique()\n",
    "movements_df[\"End Datetime\"].apply(lambda x: type(x)).unique()\n",
    "\n",
    "#pd.to_datetime(pd.DataFrame(data={\"d\":[\"1677-12-31\"]})[\"d\"], format=\"%Y-%m-%d\")\n",
    "#movements_df.sort_values(\"End Datetime\")"
   ],
   "metadata": {
    "collapsed": false,
    "pycharm": {
     "name": "#%%\n"
    }
   }
  },
  {
   "cell_type": "code",
   "execution_count": null,
   "outputs": [],
   "source": [
    "movements_df"
   ],
   "metadata": {
    "collapsed": false,
    "pycharm": {
     "name": "#%%\n"
    }
   }
  },
  {
   "cell_type": "code",
   "execution_count": null,
   "outputs": [],
   "source": [
    "movements_df[\"Begin Datetime\"].groupby([movements_df[\"Begin Datetime\"].dt.year, movements_df[\"Begin Datetime\"].dt.month]).count().plot(kind=\"bar\", figsize=(20,16))"
   ],
   "metadata": {
    "collapsed": false,
    "pycharm": {
     "name": "#%%\n"
    }
   }
  },
  {
   "cell_type": "code",
   "execution_count": null,
   "outputs": [],
   "source": [
    "case_df = pd.read_csv(os.path.join(base_path, \"../../interim/DIM_FALL.csv\"), encoding=encoding, index_col=\"Unnamed: 0\")\n",
    "case_df = case_df.set_index(\"Case ID\")\n",
    "case_df"
   ],
   "metadata": {
    "collapsed": false,
    "pycharm": {
     "name": "#%%\n"
    }
   }
  },
  {
   "cell_type": "code",
   "execution_count": null,
   "outputs": [],
   "source": [
    "movements_with_cases_df = movements_df.join(case_df[[\"Case Status\", \"Patient ID\"]], on=\"Case ID\", how=\"left\")\n",
    "\n",
    "#movements_with_cases_df[movements_with_cases_df[\"Case Status\"].apply(lambda x: not isinstance(x, str))]"
   ],
   "metadata": {
    "collapsed": false,
    "pycharm": {
     "name": "#%%\n"
    }
   }
  },
  {
   "cell_type": "code",
   "execution_count": null,
   "outputs": [],
   "source": [
    "patient_df = pd.read_csv(os.path.join(base_path, \"../../interim/DIM_PATIENT.csv\"), encoding=encoding, index_col=\"Unnamed: 0\", dtype=str)\n",
    "patient_df = patient_df.set_index(\"Patient ID\")\n",
    "patient_df\n",
    "#patient_df[patient_df[\"Gender\"].apply(lambda x: not isinstance(x, str))]"
   ],
   "metadata": {
    "collapsed": false,
    "pycharm": {
     "name": "#%%\n"
    }
   }
  },
  {
   "cell_type": "code",
   "execution_count": null,
   "outputs": [],
   "source": [
    "movements_with_patients_df = movements_with_cases_df[movements_with_cases_df[\"Patient ID\"].isin(patient_df.index)]#.join(patient_df[\"Gender\"], on=\"Patient ID\", how=\"left\")"
   ],
   "metadata": {
    "collapsed": false,
    "pycharm": {
     "name": "#%%\n"
    }
   }
  },
  {
   "cell_type": "code",
   "execution_count": null,
   "outputs": [],
   "source": [
    "movements_with_patients_df"
   ],
   "metadata": {
    "collapsed": false,
    "pycharm": {
     "name": "#%%\n"
    }
   }
  },
  {
   "cell_type": "code",
   "execution_count": null,
   "outputs": [],
   "source": [
    "vre_screening_data = pd.read_csv(os.path.join(base_path, \"../../interim/VRE_SCREENING_DATA.csv\"), encoding=encoding, index_col=\"Unnamed: 0\", dtype=str)\n",
    "#vre_screening_data['Patient ID'] = pd.to_numeric(vre_screening_data[\"Patient ID\"], errors=\"coerce\")\n",
    "vre_screening_data"
   ],
   "metadata": {
    "collapsed": false,
    "pycharm": {
     "name": "#%%\n"
    }
   }
  },
  {
   "cell_type": "code",
   "execution_count": null,
   "outputs": [],
   "source": [
    "vre_screening_with_patient = vre_screening_data[vre_screening_data[\"Patient ID\"].isin(patient_df.index)]\n",
    "vre_screening_with_patient"
   ],
   "metadata": {
    "collapsed": false,
    "pycharm": {
     "name": "#%%\n"
    }
   }
  },
  {
   "cell_type": "code",
   "execution_count": null,
   "outputs": [],
   "source": [
    "vre_screening_with_case = vre_screening_data[vre_screening_data[\"Patient ID\"].isin(set(case_df[\"Patient ID\"].to_list()))]\n",
    "vre_screening_with_case"
   ],
   "metadata": {
    "collapsed": false,
    "pycharm": {
     "name": "#%%\n"
    }
   }
  },
  {
   "cell_type": "code",
   "execution_count": null,
   "outputs": [],
   "source": [
    "\n"
   ],
   "metadata": {
    "collapsed": false,
    "pycharm": {
     "name": "#%%\n"
    }
   }
  }
 ],
 "metadata": {
  "kernelspec": {
   "display_name": "Python 3",
   "language": "python",
   "name": "python3"
  },
  "language_info": {
   "codemirror_mode": {
    "name": "ipython",
    "version": 2
   },
   "file_extension": ".py",
   "mimetype": "text/x-python",
   "name": "python",
   "nbconvert_exporter": "python",
   "pygments_lexer": "ipython2",
   "version": "2.7.6"
  }
 },
 "nbformat": 4,
 "nbformat_minor": 0
}